{
  "cells": [
    {
      "cell_type": "markdown",
      "metadata": {
        "id": "view-in-github",
        "colab_type": "text"
      },
      "source": [
        "<a href=\"https://colab.research.google.com/github/mkulk2025/Driver_Coupon_acceptance/blob/main/5_1AssignmentSubmission.ipynb\" target=\"_parent\"><img src=\"https://colab.research.google.com/assets/colab-badge.svg\" alt=\"Open In Colab\"/></a>"
      ]
    },
    {
      "cell_type": "markdown",
      "metadata": {
        "id": "CcUT6Fon_qRE"
      },
      "source": [
        "### Required Assignment 5.1: Will the Customer Accept the Coupon?\n",
        "\n",
        "**Context**\n",
        "\n",
        "Imagine driving through town and a coupon is delivered to your cell phone for a restaurant near where you are driving. Would you accept that coupon and take a short detour to the restaurant? Would you accept the coupon but use it on a subsequent trip? Would you ignore the coupon entirely? What if the coupon was for a bar instead of a restaurant? What about a coffee house? Would you accept a bar coupon with a minor passenger in the car? What about if it was just you and your partner in the car? Would weather impact the rate of acceptance? What about the time of day?\n",
        "\n",
        "Obviously, proximity to the business is a factor on whether the coupon is delivered to the driver or not, but what are the factors that determine whether a driver accepts the coupon once it is delivered to them? How would you determine whether a driver is likely to accept a coupon?\n",
        "\n",
        "**Overview**\n",
        "\n",
        "The goal of this project is to use what you know about visualizations and probability distributions to distinguish between customers who accepted a driving coupon versus those that did not.\n",
        "\n",
        "**Data**\n",
        "\n",
        "This data comes to us from the UCI Machine Learning repository and was collected via a survey on Amazon Mechanical Turk. The survey describes different driving scenarios including the destination, current time, weather, passenger, etc., and then ask the person whether he will accept the coupon if he is the driver. Answers that the user will drive there ‘right away’ or ‘later before the coupon expires’ are labeled as ‘Y = 1’ and answers ‘no, I do not want the coupon’ are labeled as ‘Y = 0’.  There are five different types of coupons -- less expensive restaurants (under \\$20), coffee houses, carry out & take away, bar, and more expensive restaurants (\\$20 - $50)."
      ]
    },
    {
      "cell_type": "markdown",
      "metadata": {
        "id": "1wORvMBJ_qRF"
      },
      "source": [
        "**Deliverables**\n",
        "\n",
        "Your final product should be a brief report that highlights the differences between customers who did and did not accept the coupons.  To explore the data you will utilize your knowledge of plotting, statistical summaries, and visualization using Python. You will publish your findings in a public facing github repository as your first portfolio piece.\n",
        "\n",
        "\n",
        "\n"
      ]
    },
    {
      "cell_type": "markdown",
      "metadata": {
        "id": "pG6_Ym6q_qRG"
      },
      "source": [
        "### Data Description\n",
        "Keep in mind that these values mentioned below are average values.\n",
        "\n",
        "The attributes of this data set include:\n",
        "1. User attributes\n",
        "    -  Gender: male, female\n",
        "    -  Age: below 21, 21 to 25, 26 to 30, etc.\n",
        "    -  Marital Status: single, married partner, unmarried partner, or widowed\n",
        "    -  Number of children: 0, 1, or more than 1\n",
        "    -  Education: high school, bachelors degree, associates degree, or graduate degree\n",
        "    -  Occupation: architecture & engineering, business & financial, etc.\n",
        "    -  Annual income: less than \\\\$12500, \\\\$12500 - \\\\$24999, \\\\$25000 - \\\\$37499, etc.\n",
        "    -  Number of times that he/she goes to a bar: 0, less than 1, 1 to 3, 4 to 8 or greater than 8\n",
        "    -  Number of times that he/she buys takeaway food: 0, less than 1, 1 to 3, 4 to 8 or greater\n",
        "    than 8\n",
        "    -  Number of times that he/she goes to a coffee house: 0, less than 1, 1 to 3, 4 to 8 or\n",
        "    greater than 8\n",
        "    -  Number of times that he/she eats at a restaurant with average expense less than \\\\$20 per\n",
        "    person: 0, less than 1, 1 to 3, 4 to 8 or greater than 8\n",
        "    -  Number of times that he/she goes to a bar: 0, less than 1, 1 to 3, 4 to 8 or greater than 8\n",
        "    \n",
        "\n",
        "2. Contextual attributes\n",
        "    - Driving destination: home, work, or no urgent destination\n",
        "    - Location of user, coupon and destination: we provide a map to show the geographical\n",
        "    location of the user, destination, and the venue, and we mark the distance between each\n",
        "    two places with time of driving. The user can see whether the venue is in the same\n",
        "    direction as the destination.\n",
        "    - Weather: sunny, rainy, or snowy\n",
        "    - Temperature: 30F, 55F, or 80F\n",
        "    - Time: 10AM, 2PM, or 6PM\n",
        "    - Passenger: alone, partner, kid(s), or friend(s)\n",
        "\n",
        "\n",
        "3. Coupon attributes\n",
        "    - time before it expires: 2 hours or one day"
      ]
    },
    {
      "cell_type": "code",
      "execution_count": 3,
      "metadata": {
        "id": "dzNoP3o__qRG"
      },
      "outputs": [],
      "source": [
        "import matplotlib.pyplot as plt\n",
        "import seaborn as sns\n",
        "import pandas as pd\n",
        "import numpy as np"
      ]
    },
    {
      "cell_type": "markdown",
      "metadata": {
        "id": "Ct8pI1uE_qRG"
      },
      "source": [
        "### Problems\n",
        "\n",
        "Use the prompts below to get started with your data analysis.  \n",
        "\n",
        "1. Read in the `coupons.csv` file.\n",
        "\n",
        "\n"
      ]
    },
    {
      "cell_type": "code",
      "execution_count": 5,
      "metadata": {
        "id": "X0vbffYg_qRH"
      },
      "outputs": [],
      "source": [
        "data = pd.read_csv('/content/sample_data/coupons.csv')"
      ]
    },
    {
      "cell_type": "code",
      "execution_count": 6,
      "metadata": {
        "id": "TXofQ_DF_qRH",
        "outputId": "df24b6ce-50a5-4af9-b640-658ec13c67de",
        "colab": {
          "base_uri": "https://localhost:8080/",
          "height": 342
        }
      },
      "outputs": [
        {
          "output_type": "execute_result",
          "data": {
            "text/plain": [
              "       destination  passanger weather  temperature  time  \\\n",
              "0  No Urgent Place      Alone   Sunny           55   2PM   \n",
              "1  No Urgent Place  Friend(s)   Sunny           80  10AM   \n",
              "2  No Urgent Place  Friend(s)   Sunny           80  10AM   \n",
              "3  No Urgent Place  Friend(s)   Sunny           80   2PM   \n",
              "4  No Urgent Place  Friend(s)   Sunny           80   2PM   \n",
              "\n",
              "                  coupon expiration  gender age      maritalStatus  ...  \\\n",
              "0        Restaurant(<20)         1d  Female  21  Unmarried partner  ...   \n",
              "1           Coffee House         2h  Female  21  Unmarried partner  ...   \n",
              "2  Carry out & Take away         2h  Female  21  Unmarried partner  ...   \n",
              "3           Coffee House         2h  Female  21  Unmarried partner  ...   \n",
              "4           Coffee House         1d  Female  21  Unmarried partner  ...   \n",
              "\n",
              "   CoffeeHouse CarryAway RestaurantLessThan20 Restaurant20To50  \\\n",
              "0        never       NaN                  4~8              1~3   \n",
              "1        never       NaN                  4~8              1~3   \n",
              "2        never       NaN                  4~8              1~3   \n",
              "3        never       NaN                  4~8              1~3   \n",
              "4        never       NaN                  4~8              1~3   \n",
              "\n",
              "  toCoupon_GEQ5min toCoupon_GEQ15min toCoupon_GEQ25min direction_same  \\\n",
              "0                1                 0                 0              0   \n",
              "1                1                 0                 0              0   \n",
              "2                1                 1                 0              0   \n",
              "3                1                 1                 0              0   \n",
              "4                1                 1                 0              0   \n",
              "\n",
              "  direction_opp  Y  \n",
              "0             1  1  \n",
              "1             1  0  \n",
              "2             1  1  \n",
              "3             1  0  \n",
              "4             1  0  \n",
              "\n",
              "[5 rows x 26 columns]"
            ],
            "text/html": [
              "\n",
              "  <div id=\"df-9b01c9a5-6830-481e-a3d0-e9525e631a57\" class=\"colab-df-container\">\n",
              "    <div>\n",
              "<style scoped>\n",
              "    .dataframe tbody tr th:only-of-type {\n",
              "        vertical-align: middle;\n",
              "    }\n",
              "\n",
              "    .dataframe tbody tr th {\n",
              "        vertical-align: top;\n",
              "    }\n",
              "\n",
              "    .dataframe thead th {\n",
              "        text-align: right;\n",
              "    }\n",
              "</style>\n",
              "<table border=\"1\" class=\"dataframe\">\n",
              "  <thead>\n",
              "    <tr style=\"text-align: right;\">\n",
              "      <th></th>\n",
              "      <th>destination</th>\n",
              "      <th>passanger</th>\n",
              "      <th>weather</th>\n",
              "      <th>temperature</th>\n",
              "      <th>time</th>\n",
              "      <th>coupon</th>\n",
              "      <th>expiration</th>\n",
              "      <th>gender</th>\n",
              "      <th>age</th>\n",
              "      <th>maritalStatus</th>\n",
              "      <th>...</th>\n",
              "      <th>CoffeeHouse</th>\n",
              "      <th>CarryAway</th>\n",
              "      <th>RestaurantLessThan20</th>\n",
              "      <th>Restaurant20To50</th>\n",
              "      <th>toCoupon_GEQ5min</th>\n",
              "      <th>toCoupon_GEQ15min</th>\n",
              "      <th>toCoupon_GEQ25min</th>\n",
              "      <th>direction_same</th>\n",
              "      <th>direction_opp</th>\n",
              "      <th>Y</th>\n",
              "    </tr>\n",
              "  </thead>\n",
              "  <tbody>\n",
              "    <tr>\n",
              "      <th>0</th>\n",
              "      <td>No Urgent Place</td>\n",
              "      <td>Alone</td>\n",
              "      <td>Sunny</td>\n",
              "      <td>55</td>\n",
              "      <td>2PM</td>\n",
              "      <td>Restaurant(&lt;20)</td>\n",
              "      <td>1d</td>\n",
              "      <td>Female</td>\n",
              "      <td>21</td>\n",
              "      <td>Unmarried partner</td>\n",
              "      <td>...</td>\n",
              "      <td>never</td>\n",
              "      <td>NaN</td>\n",
              "      <td>4~8</td>\n",
              "      <td>1~3</td>\n",
              "      <td>1</td>\n",
              "      <td>0</td>\n",
              "      <td>0</td>\n",
              "      <td>0</td>\n",
              "      <td>1</td>\n",
              "      <td>1</td>\n",
              "    </tr>\n",
              "    <tr>\n",
              "      <th>1</th>\n",
              "      <td>No Urgent Place</td>\n",
              "      <td>Friend(s)</td>\n",
              "      <td>Sunny</td>\n",
              "      <td>80</td>\n",
              "      <td>10AM</td>\n",
              "      <td>Coffee House</td>\n",
              "      <td>2h</td>\n",
              "      <td>Female</td>\n",
              "      <td>21</td>\n",
              "      <td>Unmarried partner</td>\n",
              "      <td>...</td>\n",
              "      <td>never</td>\n",
              "      <td>NaN</td>\n",
              "      <td>4~8</td>\n",
              "      <td>1~3</td>\n",
              "      <td>1</td>\n",
              "      <td>0</td>\n",
              "      <td>0</td>\n",
              "      <td>0</td>\n",
              "      <td>1</td>\n",
              "      <td>0</td>\n",
              "    </tr>\n",
              "    <tr>\n",
              "      <th>2</th>\n",
              "      <td>No Urgent Place</td>\n",
              "      <td>Friend(s)</td>\n",
              "      <td>Sunny</td>\n",
              "      <td>80</td>\n",
              "      <td>10AM</td>\n",
              "      <td>Carry out &amp; Take away</td>\n",
              "      <td>2h</td>\n",
              "      <td>Female</td>\n",
              "      <td>21</td>\n",
              "      <td>Unmarried partner</td>\n",
              "      <td>...</td>\n",
              "      <td>never</td>\n",
              "      <td>NaN</td>\n",
              "      <td>4~8</td>\n",
              "      <td>1~3</td>\n",
              "      <td>1</td>\n",
              "      <td>1</td>\n",
              "      <td>0</td>\n",
              "      <td>0</td>\n",
              "      <td>1</td>\n",
              "      <td>1</td>\n",
              "    </tr>\n",
              "    <tr>\n",
              "      <th>3</th>\n",
              "      <td>No Urgent Place</td>\n",
              "      <td>Friend(s)</td>\n",
              "      <td>Sunny</td>\n",
              "      <td>80</td>\n",
              "      <td>2PM</td>\n",
              "      <td>Coffee House</td>\n",
              "      <td>2h</td>\n",
              "      <td>Female</td>\n",
              "      <td>21</td>\n",
              "      <td>Unmarried partner</td>\n",
              "      <td>...</td>\n",
              "      <td>never</td>\n",
              "      <td>NaN</td>\n",
              "      <td>4~8</td>\n",
              "      <td>1~3</td>\n",
              "      <td>1</td>\n",
              "      <td>1</td>\n",
              "      <td>0</td>\n",
              "      <td>0</td>\n",
              "      <td>1</td>\n",
              "      <td>0</td>\n",
              "    </tr>\n",
              "    <tr>\n",
              "      <th>4</th>\n",
              "      <td>No Urgent Place</td>\n",
              "      <td>Friend(s)</td>\n",
              "      <td>Sunny</td>\n",
              "      <td>80</td>\n",
              "      <td>2PM</td>\n",
              "      <td>Coffee House</td>\n",
              "      <td>1d</td>\n",
              "      <td>Female</td>\n",
              "      <td>21</td>\n",
              "      <td>Unmarried partner</td>\n",
              "      <td>...</td>\n",
              "      <td>never</td>\n",
              "      <td>NaN</td>\n",
              "      <td>4~8</td>\n",
              "      <td>1~3</td>\n",
              "      <td>1</td>\n",
              "      <td>1</td>\n",
              "      <td>0</td>\n",
              "      <td>0</td>\n",
              "      <td>1</td>\n",
              "      <td>0</td>\n",
              "    </tr>\n",
              "  </tbody>\n",
              "</table>\n",
              "<p>5 rows × 26 columns</p>\n",
              "</div>\n",
              "    <div class=\"colab-df-buttons\">\n",
              "\n",
              "  <div class=\"colab-df-container\">\n",
              "    <button class=\"colab-df-convert\" onclick=\"convertToInteractive('df-9b01c9a5-6830-481e-a3d0-e9525e631a57')\"\n",
              "            title=\"Convert this dataframe to an interactive table.\"\n",
              "            style=\"display:none;\">\n",
              "\n",
              "  <svg xmlns=\"http://www.w3.org/2000/svg\" height=\"24px\" viewBox=\"0 -960 960 960\">\n",
              "    <path d=\"M120-120v-720h720v720H120Zm60-500h600v-160H180v160Zm220 220h160v-160H400v160Zm0 220h160v-160H400v160ZM180-400h160v-160H180v160Zm440 0h160v-160H620v160ZM180-180h160v-160H180v160Zm440 0h160v-160H620v160Z\"/>\n",
              "  </svg>\n",
              "    </button>\n",
              "\n",
              "  <style>\n",
              "    .colab-df-container {\n",
              "      display:flex;\n",
              "      gap: 12px;\n",
              "    }\n",
              "\n",
              "    .colab-df-convert {\n",
              "      background-color: #E8F0FE;\n",
              "      border: none;\n",
              "      border-radius: 50%;\n",
              "      cursor: pointer;\n",
              "      display: none;\n",
              "      fill: #1967D2;\n",
              "      height: 32px;\n",
              "      padding: 0 0 0 0;\n",
              "      width: 32px;\n",
              "    }\n",
              "\n",
              "    .colab-df-convert:hover {\n",
              "      background-color: #E2EBFA;\n",
              "      box-shadow: 0px 1px 2px rgba(60, 64, 67, 0.3), 0px 1px 3px 1px rgba(60, 64, 67, 0.15);\n",
              "      fill: #174EA6;\n",
              "    }\n",
              "\n",
              "    .colab-df-buttons div {\n",
              "      margin-bottom: 4px;\n",
              "    }\n",
              "\n",
              "    [theme=dark] .colab-df-convert {\n",
              "      background-color: #3B4455;\n",
              "      fill: #D2E3FC;\n",
              "    }\n",
              "\n",
              "    [theme=dark] .colab-df-convert:hover {\n",
              "      background-color: #434B5C;\n",
              "      box-shadow: 0px 1px 3px 1px rgba(0, 0, 0, 0.15);\n",
              "      filter: drop-shadow(0px 1px 2px rgba(0, 0, 0, 0.3));\n",
              "      fill: #FFFFFF;\n",
              "    }\n",
              "  </style>\n",
              "\n",
              "    <script>\n",
              "      const buttonEl =\n",
              "        document.querySelector('#df-9b01c9a5-6830-481e-a3d0-e9525e631a57 button.colab-df-convert');\n",
              "      buttonEl.style.display =\n",
              "        google.colab.kernel.accessAllowed ? 'block' : 'none';\n",
              "\n",
              "      async function convertToInteractive(key) {\n",
              "        const element = document.querySelector('#df-9b01c9a5-6830-481e-a3d0-e9525e631a57');\n",
              "        const dataTable =\n",
              "          await google.colab.kernel.invokeFunction('convertToInteractive',\n",
              "                                                    [key], {});\n",
              "        if (!dataTable) return;\n",
              "\n",
              "        const docLinkHtml = 'Like what you see? Visit the ' +\n",
              "          '<a target=\"_blank\" href=https://colab.research.google.com/notebooks/data_table.ipynb>data table notebook</a>'\n",
              "          + ' to learn more about interactive tables.';\n",
              "        element.innerHTML = '';\n",
              "        dataTable['output_type'] = 'display_data';\n",
              "        await google.colab.output.renderOutput(dataTable, element);\n",
              "        const docLink = document.createElement('div');\n",
              "        docLink.innerHTML = docLinkHtml;\n",
              "        element.appendChild(docLink);\n",
              "      }\n",
              "    </script>\n",
              "  </div>\n",
              "\n",
              "\n",
              "<div id=\"df-1a75fb1b-6ba7-4615-a9af-684bfc307313\">\n",
              "  <button class=\"colab-df-quickchart\" onclick=\"quickchart('df-1a75fb1b-6ba7-4615-a9af-684bfc307313')\"\n",
              "            title=\"Suggest charts\"\n",
              "            style=\"display:none;\">\n",
              "\n",
              "<svg xmlns=\"http://www.w3.org/2000/svg\" height=\"24px\"viewBox=\"0 0 24 24\"\n",
              "     width=\"24px\">\n",
              "    <g>\n",
              "        <path d=\"M19 3H5c-1.1 0-2 .9-2 2v14c0 1.1.9 2 2 2h14c1.1 0 2-.9 2-2V5c0-1.1-.9-2-2-2zM9 17H7v-7h2v7zm4 0h-2V7h2v10zm4 0h-2v-4h2v4z\"/>\n",
              "    </g>\n",
              "</svg>\n",
              "  </button>\n",
              "\n",
              "<style>\n",
              "  .colab-df-quickchart {\n",
              "      --bg-color: #E8F0FE;\n",
              "      --fill-color: #1967D2;\n",
              "      --hover-bg-color: #E2EBFA;\n",
              "      --hover-fill-color: #174EA6;\n",
              "      --disabled-fill-color: #AAA;\n",
              "      --disabled-bg-color: #DDD;\n",
              "  }\n",
              "\n",
              "  [theme=dark] .colab-df-quickchart {\n",
              "      --bg-color: #3B4455;\n",
              "      --fill-color: #D2E3FC;\n",
              "      --hover-bg-color: #434B5C;\n",
              "      --hover-fill-color: #FFFFFF;\n",
              "      --disabled-bg-color: #3B4455;\n",
              "      --disabled-fill-color: #666;\n",
              "  }\n",
              "\n",
              "  .colab-df-quickchart {\n",
              "    background-color: var(--bg-color);\n",
              "    border: none;\n",
              "    border-radius: 50%;\n",
              "    cursor: pointer;\n",
              "    display: none;\n",
              "    fill: var(--fill-color);\n",
              "    height: 32px;\n",
              "    padding: 0;\n",
              "    width: 32px;\n",
              "  }\n",
              "\n",
              "  .colab-df-quickchart:hover {\n",
              "    background-color: var(--hover-bg-color);\n",
              "    box-shadow: 0 1px 2px rgba(60, 64, 67, 0.3), 0 1px 3px 1px rgba(60, 64, 67, 0.15);\n",
              "    fill: var(--button-hover-fill-color);\n",
              "  }\n",
              "\n",
              "  .colab-df-quickchart-complete:disabled,\n",
              "  .colab-df-quickchart-complete:disabled:hover {\n",
              "    background-color: var(--disabled-bg-color);\n",
              "    fill: var(--disabled-fill-color);\n",
              "    box-shadow: none;\n",
              "  }\n",
              "\n",
              "  .colab-df-spinner {\n",
              "    border: 2px solid var(--fill-color);\n",
              "    border-color: transparent;\n",
              "    border-bottom-color: var(--fill-color);\n",
              "    animation:\n",
              "      spin 1s steps(1) infinite;\n",
              "  }\n",
              "\n",
              "  @keyframes spin {\n",
              "    0% {\n",
              "      border-color: transparent;\n",
              "      border-bottom-color: var(--fill-color);\n",
              "      border-left-color: var(--fill-color);\n",
              "    }\n",
              "    20% {\n",
              "      border-color: transparent;\n",
              "      border-left-color: var(--fill-color);\n",
              "      border-top-color: var(--fill-color);\n",
              "    }\n",
              "    30% {\n",
              "      border-color: transparent;\n",
              "      border-left-color: var(--fill-color);\n",
              "      border-top-color: var(--fill-color);\n",
              "      border-right-color: var(--fill-color);\n",
              "    }\n",
              "    40% {\n",
              "      border-color: transparent;\n",
              "      border-right-color: var(--fill-color);\n",
              "      border-top-color: var(--fill-color);\n",
              "    }\n",
              "    60% {\n",
              "      border-color: transparent;\n",
              "      border-right-color: var(--fill-color);\n",
              "    }\n",
              "    80% {\n",
              "      border-color: transparent;\n",
              "      border-right-color: var(--fill-color);\n",
              "      border-bottom-color: var(--fill-color);\n",
              "    }\n",
              "    90% {\n",
              "      border-color: transparent;\n",
              "      border-bottom-color: var(--fill-color);\n",
              "    }\n",
              "  }\n",
              "</style>\n",
              "\n",
              "  <script>\n",
              "    async function quickchart(key) {\n",
              "      const quickchartButtonEl =\n",
              "        document.querySelector('#' + key + ' button');\n",
              "      quickchartButtonEl.disabled = true;  // To prevent multiple clicks.\n",
              "      quickchartButtonEl.classList.add('colab-df-spinner');\n",
              "      try {\n",
              "        const charts = await google.colab.kernel.invokeFunction(\n",
              "            'suggestCharts', [key], {});\n",
              "      } catch (error) {\n",
              "        console.error('Error during call to suggestCharts:', error);\n",
              "      }\n",
              "      quickchartButtonEl.classList.remove('colab-df-spinner');\n",
              "      quickchartButtonEl.classList.add('colab-df-quickchart-complete');\n",
              "    }\n",
              "    (() => {\n",
              "      let quickchartButtonEl =\n",
              "        document.querySelector('#df-1a75fb1b-6ba7-4615-a9af-684bfc307313 button');\n",
              "      quickchartButtonEl.style.display =\n",
              "        google.colab.kernel.accessAllowed ? 'block' : 'none';\n",
              "    })();\n",
              "  </script>\n",
              "</div>\n",
              "\n",
              "    </div>\n",
              "  </div>\n"
            ],
            "application/vnd.google.colaboratory.intrinsic+json": {
              "type": "dataframe",
              "variable_name": "data"
            }
          },
          "metadata": {},
          "execution_count": 6
        }
      ],
      "source": [
        "data = pd.read_csv('/content/sample_data/coupons.csv')\n",
        "data.head()"
      ]
    },
    {
      "cell_type": "markdown",
      "metadata": {
        "id": "GcDs78ZH_qRH"
      },
      "source": [
        "2. Investigate the dataset for missing or problematic data."
      ]
    },
    {
      "cell_type": "code",
      "execution_count": 7,
      "metadata": {
        "id": "6CwL6oWj_qRH",
        "colab": {
          "base_uri": "https://localhost:8080/"
        },
        "outputId": "152c151b-1fdb-45f6-a5c2-25551f9b64f6"
      },
      "outputs": [
        {
          "output_type": "stream",
          "name": "stdout",
          "text": [
            "destination             12684\n",
            "passanger               12684\n",
            "weather                 12684\n",
            "temperature             12684\n",
            "time                    12684\n",
            "coupon                  12684\n",
            "expiration              12684\n",
            "gender                  12684\n",
            "age                     12684\n",
            "maritalStatus           12684\n",
            "has_children            12684\n",
            "education               12684\n",
            "occupation              12684\n",
            "income                  12684\n",
            "car                       108\n",
            "Bar                     12577\n",
            "CoffeeHouse             12467\n",
            "CarryAway               12533\n",
            "RestaurantLessThan20    12554\n",
            "Restaurant20To50        12495\n",
            "toCoupon_GEQ5min        12684\n",
            "toCoupon_GEQ15min       12684\n",
            "toCoupon_GEQ25min       12684\n",
            "direction_same          12684\n",
            "direction_opp           12684\n",
            "Y                       12684\n",
            "dtype: int64\n"
          ]
        }
      ],
      "source": [
        "import pandas as pd\n",
        "import numpy as np\n",
        "import matplotlib.pyplot as plt\n",
        "import seaborn as sns\n",
        "import plotly.express as px\n",
        "\n",
        "# import and understand the coupons data\n",
        "\n",
        "df = pd.read_csv('/content/sample_data/coupons.csv')\n",
        "\n",
        "column_counts = df.info()"
      ]
    },
    {
      "cell_type": "code",
      "source": [
        "import pandas as pd\n",
        "import numpy as np\n",
        "import matplotlib.pyplot as plt\n",
        "import seaborn as sns\n",
        "import plotly.express as px\n",
        "\n",
        "# import and understand the coupons data shape\n",
        "\n",
        "df = pd.read_csv('/content/sample_data/coupons.csv')\n",
        "\n",
        "df.shape"
      ],
      "metadata": {
        "colab": {
          "base_uri": "https://localhost:8080/"
        },
        "id": "msjYDNuzKlxU",
        "outputId": "0e309dba-9d90-4481-f559-851648ae8380"
      },
      "execution_count": 13,
      "outputs": [
        {
          "output_type": "execute_result",
          "data": {
            "text/plain": [
              "(12684, 26)"
            ]
          },
          "metadata": {},
          "execution_count": 13
        }
      ]
    },
    {
      "cell_type": "code",
      "source": [
        "#The objective of thise code is to check for the null values.\n",
        "\n",
        "import pandas as pd\n",
        "import numpy as np\n",
        "import matplotlib.pyplot as plt\n",
        "import seaborn as sns\n",
        "import plotly.express as px\n",
        "\n",
        "# finding null values\n",
        "\n",
        "df = pd.read_csv('/content/sample_data/coupons.csv')\n",
        "\n",
        "\n",
        "null_counts = df.isna().sum()\n",
        "print(\"\\nNull counts per column:\\n\", null_counts)"
      ],
      "metadata": {
        "colab": {
          "base_uri": "https://localhost:8080/"
        },
        "id": "oZY2vEkbLJE4",
        "outputId": "dc6c7d8e-7d58-4a48-a8ba-c17fb43d0519"
      },
      "execution_count": 14,
      "outputs": [
        {
          "output_type": "stream",
          "name": "stdout",
          "text": [
            "\n",
            "Null counts per column:\n",
            " destination                 0\n",
            "passanger                   0\n",
            "weather                     0\n",
            "temperature                 0\n",
            "time                        0\n",
            "coupon                      0\n",
            "expiration                  0\n",
            "gender                      0\n",
            "age                         0\n",
            "maritalStatus               0\n",
            "has_children                0\n",
            "education                   0\n",
            "occupation                  0\n",
            "income                      0\n",
            "car                     12576\n",
            "Bar                       107\n",
            "CoffeeHouse               217\n",
            "CarryAway                 151\n",
            "RestaurantLessThan20      130\n",
            "Restaurant20To50          189\n",
            "toCoupon_GEQ5min            0\n",
            "toCoupon_GEQ15min           0\n",
            "toCoupon_GEQ25min           0\n",
            "direction_same              0\n",
            "direction_opp               0\n",
            "Y                           0\n",
            "dtype: int64\n"
          ]
        }
      ]
    },
    {
      "cell_type": "code",
      "source": [
        "#find duplicate rows\n",
        "\n",
        "import pandas as pd\n",
        "import numpy as np\n",
        "import matplotlib.pyplot as plt\n",
        "import seaborn as sns\n",
        "import plotly.express as px\n",
        "\n",
        "df = pd.read_csv('/content/sample_data/coupons.csv')\n",
        "\n",
        "# Find duplicate rows\n",
        "all_duplicates = df[df.duplicated(keep=False)]\n",
        "#print('\\nAll duplicate rows including first occurance:\\n', all_duplicates)\n",
        "\n",
        "#remove all the duplictes\n",
        "df_no_duplicates = df.drop_duplicates()\n",
        "\n",
        "df_no_duplicates.count()\n",
        "print(df_no_duplicates)\n",
        "#print(\"\\nDataFrame without duplicates:\\n\", df_no_duplicates)"
      ],
      "metadata": {
        "colab": {
          "base_uri": "https://localhost:8080/"
        },
        "collapsed": true,
        "id": "u8t_yj36L6WC",
        "outputId": "7732d271-2079-4445-c89c-f6f088c4ece7"
      },
      "execution_count": 15,
      "outputs": [
        {
          "output_type": "stream",
          "name": "stdout",
          "text": [
            "           destination  passanger weather  temperature  time  \\\n",
            "0      No Urgent Place      Alone   Sunny           55   2PM   \n",
            "1      No Urgent Place  Friend(s)   Sunny           80  10AM   \n",
            "2      No Urgent Place  Friend(s)   Sunny           80  10AM   \n",
            "3      No Urgent Place  Friend(s)   Sunny           80   2PM   \n",
            "4      No Urgent Place  Friend(s)   Sunny           80   2PM   \n",
            "...                ...        ...     ...          ...   ...   \n",
            "12679             Home    Partner   Rainy           55   6PM   \n",
            "12680             Work      Alone   Rainy           55   7AM   \n",
            "12681             Work      Alone   Snowy           30   7AM   \n",
            "12682             Work      Alone   Snowy           30   7AM   \n",
            "12683             Work      Alone   Sunny           80   7AM   \n",
            "\n",
            "                      coupon expiration  gender age      maritalStatus  ...  \\\n",
            "0            Restaurant(<20)         1d  Female  21  Unmarried partner  ...   \n",
            "1               Coffee House         2h  Female  21  Unmarried partner  ...   \n",
            "2      Carry out & Take away         2h  Female  21  Unmarried partner  ...   \n",
            "3               Coffee House         2h  Female  21  Unmarried partner  ...   \n",
            "4               Coffee House         1d  Female  21  Unmarried partner  ...   \n",
            "...                      ...        ...     ...  ..                ...  ...   \n",
            "12679  Carry out & Take away         1d    Male  26             Single  ...   \n",
            "12680  Carry out & Take away         1d    Male  26             Single  ...   \n",
            "12681           Coffee House         1d    Male  26             Single  ...   \n",
            "12682                    Bar         1d    Male  26             Single  ...   \n",
            "12683      Restaurant(20-50)         2h    Male  26             Single  ...   \n",
            "\n",
            "       CoffeeHouse CarryAway RestaurantLessThan20 Restaurant20To50  \\\n",
            "0            never       NaN                  4~8              1~3   \n",
            "1            never       NaN                  4~8              1~3   \n",
            "2            never       NaN                  4~8              1~3   \n",
            "3            never       NaN                  4~8              1~3   \n",
            "4            never       NaN                  4~8              1~3   \n",
            "...            ...       ...                  ...              ...   \n",
            "12679        never       1~3                  4~8              1~3   \n",
            "12680        never       1~3                  4~8              1~3   \n",
            "12681        never       1~3                  4~8              1~3   \n",
            "12682        never       1~3                  4~8              1~3   \n",
            "12683        never       1~3                  4~8              1~3   \n",
            "\n",
            "      toCoupon_GEQ5min toCoupon_GEQ15min toCoupon_GEQ25min direction_same  \\\n",
            "0                    1                 0                 0              0   \n",
            "1                    1                 0                 0              0   \n",
            "2                    1                 1                 0              0   \n",
            "3                    1                 1                 0              0   \n",
            "4                    1                 1                 0              0   \n",
            "...                ...               ...               ...            ...   \n",
            "12679                1                 0                 0              1   \n",
            "12680                1                 0                 0              0   \n",
            "12681                1                 0                 0              1   \n",
            "12682                1                 1                 1              0   \n",
            "12683                1                 0                 0              1   \n",
            "\n",
            "      direction_opp  Y  \n",
            "0                 1  1  \n",
            "1                 1  0  \n",
            "2                 1  1  \n",
            "3                 1  0  \n",
            "4                 1  0  \n",
            "...             ... ..  \n",
            "12679             0  1  \n",
            "12680             1  1  \n",
            "12681             0  0  \n",
            "12682             1  0  \n",
            "12683             0  0  \n",
            "\n",
            "[12610 rows x 26 columns]\n"
          ]
        }
      ]
    },
    {
      "cell_type": "markdown",
      "metadata": {
        "id": "bSdVSpYB_qRH"
      },
      "source": [
        "3. Decide what to do about your missing data -- drop, replace, other..."
      ]
    },
    {
      "cell_type": "code",
      "execution_count": null,
      "metadata": {
        "id": "tyvoAC5F_qRI"
      },
      "outputs": [],
      "source": [
        "# Since the car column has very high number of missing data rows -12576 this column can be discarded from the analysis."
      ]
    },
    {
      "cell_type": "markdown",
      "metadata": {
        "id": "YE6oJbXd_qRI"
      },
      "source": [
        "4. What proportion of the total observations chose to accept the coupon?\n",
        "\n"
      ]
    },
    {
      "cell_type": "code",
      "execution_count": 17,
      "metadata": {
        "id": "86GGqBTv_qRI",
        "colab": {
          "base_uri": "https://localhost:8080/"
        },
        "outputId": "b51559a1-e846-4b50-9fdd-12c40668e9c6"
      },
      "outputs": [
        {
          "output_type": "execute_result",
          "data": {
            "text/plain": [
              "56.75654242664552"
            ]
          },
          "metadata": {},
          "execution_count": 17
        }
      ],
      "source": [
        "#The objetive of this code is to calculate % of accepted coupons after removing duplicates, nulll\n",
        "import pandas as pd\n",
        "import numpy as np\n",
        "import matplotlib.pyplot as plt\n",
        "import seaborn as sns\n",
        "import plotly.express as px\n",
        "\n",
        "df = pd.read_csv('/content/sample_data/coupons.csv')\n",
        "\n",
        "# Find duplicate rows\n",
        "all_duplicates = df[df.duplicated(keep=False)]\n",
        "#print('\\nAll duplicate rows including first occurance:\\n', all_duplicates)\n",
        "\n",
        "#remove all the duplictes\n",
        "\n",
        "df = df.drop_duplicates()\n",
        "\n",
        "#calculate the % of coupon accepted after removing the duplicates\n",
        "\n",
        "(df[df[\"Y\"] == 1].shape[0] / df.shape[0]) * 100\n"
      ]
    },
    {
      "cell_type": "markdown",
      "metadata": {
        "id": "vflz0DoE_qRI"
      },
      "source": [
        "5. Use a bar plot to visualize the `coupon` column."
      ]
    },
    {
      "cell_type": "code",
      "execution_count": 22,
      "metadata": {
        "id": "dHFh3E45_qRI",
        "colab": {
          "base_uri": "https://localhost:8080/",
          "height": 559
        },
        "outputId": "9447900e-1f2c-4317-fc06-07fa54c4ce76"
      },
      "outputs": [
        {
          "output_type": "display_data",
          "data": {
            "text/html": [
              "<html>\n",
              "<head><meta charset=\"utf-8\" /></head>\n",
              "<body>\n",
              "    <div>            <script src=\"https://cdnjs.cloudflare.com/ajax/libs/mathjax/2.7.5/MathJax.js?config=TeX-AMS-MML_SVG\"></script><script type=\"text/javascript\">if (window.MathJax && window.MathJax.Hub && window.MathJax.Hub.Config) {window.MathJax.Hub.Config({SVG: {font: \"STIX-Web\"}});}</script>                <script type=\"text/javascript\">window.PlotlyConfig = {MathJaxConfig: 'local'};</script>\n",
              "        <script charset=\"utf-8\" src=\"https://cdn.plot.ly/plotly-2.35.2.min.js\"></script>                <div id=\"5f5c2cb0-d537-4082-b389-218b75468000\" class=\"plotly-graph-div\" style=\"height:525px; width:100%;\"></div>            <script type=\"text/javascript\">                                    window.PLOTLYENV=window.PLOTLYENV || {};                                    if (document.getElementById(\"5f5c2cb0-d537-4082-b389-218b75468000\")) {                    Plotly.newPlot(                        \"5f5c2cb0-d537-4082-b389-218b75468000\",                        [{\"alignmentgroup\":\"True\",\"hovertemplate\":\"variable=count\\u003cbr\\u003ecoupon=%{x}\\u003cbr\\u003evalue=%{y}\\u003cextra\\u003e\\u003c\\u002fextra\\u003e\",\"legendgroup\":\"count\",\"marker\":{\"color\":\"#636efa\",\"pattern\":{\"shape\":\"\"}},\"name\":\"count\",\"offsetgroup\":\"count\",\"orientation\":\"v\",\"showlegend\":true,\"textposition\":\"auto\",\"x\":[\"Coffee House\",\"Restaurant(\\u003c20)\",\"Carry out & Take away\",\"Bar\",\"Restaurant(20-50)\"],\"xaxis\":\"x\",\"y\":[3809,2646,2233,1906,1413],\"yaxis\":\"y\",\"type\":\"bar\"}],                        {\"template\":{\"data\":{\"histogram2dcontour\":[{\"type\":\"histogram2dcontour\",\"colorbar\":{\"outlinewidth\":0,\"ticks\":\"\"},\"colorscale\":[[0.0,\"#0d0887\"],[0.1111111111111111,\"#46039f\"],[0.2222222222222222,\"#7201a8\"],[0.3333333333333333,\"#9c179e\"],[0.4444444444444444,\"#bd3786\"],[0.5555555555555556,\"#d8576b\"],[0.6666666666666666,\"#ed7953\"],[0.7777777777777778,\"#fb9f3a\"],[0.8888888888888888,\"#fdca26\"],[1.0,\"#f0f921\"]]}],\"choropleth\":[{\"type\":\"choropleth\",\"colorbar\":{\"outlinewidth\":0,\"ticks\":\"\"}}],\"histogram2d\":[{\"type\":\"histogram2d\",\"colorbar\":{\"outlinewidth\":0,\"ticks\":\"\"},\"colorscale\":[[0.0,\"#0d0887\"],[0.1111111111111111,\"#46039f\"],[0.2222222222222222,\"#7201a8\"],[0.3333333333333333,\"#9c179e\"],[0.4444444444444444,\"#bd3786\"],[0.5555555555555556,\"#d8576b\"],[0.6666666666666666,\"#ed7953\"],[0.7777777777777778,\"#fb9f3a\"],[0.8888888888888888,\"#fdca26\"],[1.0,\"#f0f921\"]]}],\"heatmap\":[{\"type\":\"heatmap\",\"colorbar\":{\"outlinewidth\":0,\"ticks\":\"\"},\"colorscale\":[[0.0,\"#0d0887\"],[0.1111111111111111,\"#46039f\"],[0.2222222222222222,\"#7201a8\"],[0.3333333333333333,\"#9c179e\"],[0.4444444444444444,\"#bd3786\"],[0.5555555555555556,\"#d8576b\"],[0.6666666666666666,\"#ed7953\"],[0.7777777777777778,\"#fb9f3a\"],[0.8888888888888888,\"#fdca26\"],[1.0,\"#f0f921\"]]}],\"heatmapgl\":[{\"type\":\"heatmapgl\",\"colorbar\":{\"outlinewidth\":0,\"ticks\":\"\"},\"colorscale\":[[0.0,\"#0d0887\"],[0.1111111111111111,\"#46039f\"],[0.2222222222222222,\"#7201a8\"],[0.3333333333333333,\"#9c179e\"],[0.4444444444444444,\"#bd3786\"],[0.5555555555555556,\"#d8576b\"],[0.6666666666666666,\"#ed7953\"],[0.7777777777777778,\"#fb9f3a\"],[0.8888888888888888,\"#fdca26\"],[1.0,\"#f0f921\"]]}],\"contourcarpet\":[{\"type\":\"contourcarpet\",\"colorbar\":{\"outlinewidth\":0,\"ticks\":\"\"}}],\"contour\":[{\"type\":\"contour\",\"colorbar\":{\"outlinewidth\":0,\"ticks\":\"\"},\"colorscale\":[[0.0,\"#0d0887\"],[0.1111111111111111,\"#46039f\"],[0.2222222222222222,\"#7201a8\"],[0.3333333333333333,\"#9c179e\"],[0.4444444444444444,\"#bd3786\"],[0.5555555555555556,\"#d8576b\"],[0.6666666666666666,\"#ed7953\"],[0.7777777777777778,\"#fb9f3a\"],[0.8888888888888888,\"#fdca26\"],[1.0,\"#f0f921\"]]}],\"surface\":[{\"type\":\"surface\",\"colorbar\":{\"outlinewidth\":0,\"ticks\":\"\"},\"colorscale\":[[0.0,\"#0d0887\"],[0.1111111111111111,\"#46039f\"],[0.2222222222222222,\"#7201a8\"],[0.3333333333333333,\"#9c179e\"],[0.4444444444444444,\"#bd3786\"],[0.5555555555555556,\"#d8576b\"],[0.6666666666666666,\"#ed7953\"],[0.7777777777777778,\"#fb9f3a\"],[0.8888888888888888,\"#fdca26\"],[1.0,\"#f0f921\"]]}],\"mesh3d\":[{\"type\":\"mesh3d\",\"colorbar\":{\"outlinewidth\":0,\"ticks\":\"\"}}],\"scatter\":[{\"fillpattern\":{\"fillmode\":\"overlay\",\"size\":10,\"solidity\":0.2},\"type\":\"scatter\"}],\"parcoords\":[{\"type\":\"parcoords\",\"line\":{\"colorbar\":{\"outlinewidth\":0,\"ticks\":\"\"}}}],\"scatterpolargl\":[{\"type\":\"scatterpolargl\",\"marker\":{\"colorbar\":{\"outlinewidth\":0,\"ticks\":\"\"}}}],\"bar\":[{\"error_x\":{\"color\":\"#2a3f5f\"},\"error_y\":{\"color\":\"#2a3f5f\"},\"marker\":{\"line\":{\"color\":\"#E5ECF6\",\"width\":0.5},\"pattern\":{\"fillmode\":\"overlay\",\"size\":10,\"solidity\":0.2}},\"type\":\"bar\"}],\"scattergeo\":[{\"type\":\"scattergeo\",\"marker\":{\"colorbar\":{\"outlinewidth\":0,\"ticks\":\"\"}}}],\"scatterpolar\":[{\"type\":\"scatterpolar\",\"marker\":{\"colorbar\":{\"outlinewidth\":0,\"ticks\":\"\"}}}],\"histogram\":[{\"marker\":{\"pattern\":{\"fillmode\":\"overlay\",\"size\":10,\"solidity\":0.2}},\"type\":\"histogram\"}],\"scattergl\":[{\"type\":\"scattergl\",\"marker\":{\"colorbar\":{\"outlinewidth\":0,\"ticks\":\"\"}}}],\"scatter3d\":[{\"type\":\"scatter3d\",\"line\":{\"colorbar\":{\"outlinewidth\":0,\"ticks\":\"\"}},\"marker\":{\"colorbar\":{\"outlinewidth\":0,\"ticks\":\"\"}}}],\"scattermapbox\":[{\"type\":\"scattermapbox\",\"marker\":{\"colorbar\":{\"outlinewidth\":0,\"ticks\":\"\"}}}],\"scatterternary\":[{\"type\":\"scatterternary\",\"marker\":{\"colorbar\":{\"outlinewidth\":0,\"ticks\":\"\"}}}],\"scattercarpet\":[{\"type\":\"scattercarpet\",\"marker\":{\"colorbar\":{\"outlinewidth\":0,\"ticks\":\"\"}}}],\"carpet\":[{\"aaxis\":{\"endlinecolor\":\"#2a3f5f\",\"gridcolor\":\"white\",\"linecolor\":\"white\",\"minorgridcolor\":\"white\",\"startlinecolor\":\"#2a3f5f\"},\"baxis\":{\"endlinecolor\":\"#2a3f5f\",\"gridcolor\":\"white\",\"linecolor\":\"white\",\"minorgridcolor\":\"white\",\"startlinecolor\":\"#2a3f5f\"},\"type\":\"carpet\"}],\"table\":[{\"cells\":{\"fill\":{\"color\":\"#EBF0F8\"},\"line\":{\"color\":\"white\"}},\"header\":{\"fill\":{\"color\":\"#C8D4E3\"},\"line\":{\"color\":\"white\"}},\"type\":\"table\"}],\"barpolar\":[{\"marker\":{\"line\":{\"color\":\"#E5ECF6\",\"width\":0.5},\"pattern\":{\"fillmode\":\"overlay\",\"size\":10,\"solidity\":0.2}},\"type\":\"barpolar\"}],\"pie\":[{\"automargin\":true,\"type\":\"pie\"}]},\"layout\":{\"autotypenumbers\":\"strict\",\"colorway\":[\"#636efa\",\"#EF553B\",\"#00cc96\",\"#ab63fa\",\"#FFA15A\",\"#19d3f3\",\"#FF6692\",\"#B6E880\",\"#FF97FF\",\"#FECB52\"],\"font\":{\"color\":\"#2a3f5f\"},\"hovermode\":\"closest\",\"hoverlabel\":{\"align\":\"left\"},\"paper_bgcolor\":\"white\",\"plot_bgcolor\":\"#E5ECF6\",\"polar\":{\"bgcolor\":\"#E5ECF6\",\"angularaxis\":{\"gridcolor\":\"white\",\"linecolor\":\"white\",\"ticks\":\"\"},\"radialaxis\":{\"gridcolor\":\"white\",\"linecolor\":\"white\",\"ticks\":\"\"}},\"ternary\":{\"bgcolor\":\"#E5ECF6\",\"aaxis\":{\"gridcolor\":\"white\",\"linecolor\":\"white\",\"ticks\":\"\"},\"baxis\":{\"gridcolor\":\"white\",\"linecolor\":\"white\",\"ticks\":\"\"},\"caxis\":{\"gridcolor\":\"white\",\"linecolor\":\"white\",\"ticks\":\"\"}},\"coloraxis\":{\"colorbar\":{\"outlinewidth\":0,\"ticks\":\"\"}},\"colorscale\":{\"sequential\":[[0.0,\"#0d0887\"],[0.1111111111111111,\"#46039f\"],[0.2222222222222222,\"#7201a8\"],[0.3333333333333333,\"#9c179e\"],[0.4444444444444444,\"#bd3786\"],[0.5555555555555556,\"#d8576b\"],[0.6666666666666666,\"#ed7953\"],[0.7777777777777778,\"#fb9f3a\"],[0.8888888888888888,\"#fdca26\"],[1.0,\"#f0f921\"]],\"sequentialminus\":[[0.0,\"#0d0887\"],[0.1111111111111111,\"#46039f\"],[0.2222222222222222,\"#7201a8\"],[0.3333333333333333,\"#9c179e\"],[0.4444444444444444,\"#bd3786\"],[0.5555555555555556,\"#d8576b\"],[0.6666666666666666,\"#ed7953\"],[0.7777777777777778,\"#fb9f3a\"],[0.8888888888888888,\"#fdca26\"],[1.0,\"#f0f921\"]],\"diverging\":[[0,\"#8e0152\"],[0.1,\"#c51b7d\"],[0.2,\"#de77ae\"],[0.3,\"#f1b6da\"],[0.4,\"#fde0ef\"],[0.5,\"#f7f7f7\"],[0.6,\"#e6f5d0\"],[0.7,\"#b8e186\"],[0.8,\"#7fbc41\"],[0.9,\"#4d9221\"],[1,\"#276419\"]]},\"xaxis\":{\"gridcolor\":\"white\",\"linecolor\":\"white\",\"ticks\":\"\",\"title\":{\"standoff\":15},\"zerolinecolor\":\"white\",\"automargin\":true,\"zerolinewidth\":2},\"yaxis\":{\"gridcolor\":\"white\",\"linecolor\":\"white\",\"ticks\":\"\",\"title\":{\"standoff\":15},\"zerolinecolor\":\"white\",\"automargin\":true,\"zerolinewidth\":2},\"scene\":{\"xaxis\":{\"backgroundcolor\":\"#E5ECF6\",\"gridcolor\":\"white\",\"linecolor\":\"white\",\"showbackground\":true,\"ticks\":\"\",\"zerolinecolor\":\"white\",\"gridwidth\":2},\"yaxis\":{\"backgroundcolor\":\"#E5ECF6\",\"gridcolor\":\"white\",\"linecolor\":\"white\",\"showbackground\":true,\"ticks\":\"\",\"zerolinecolor\":\"white\",\"gridwidth\":2},\"zaxis\":{\"backgroundcolor\":\"#E5ECF6\",\"gridcolor\":\"white\",\"linecolor\":\"white\",\"showbackground\":true,\"ticks\":\"\",\"zerolinecolor\":\"white\",\"gridwidth\":2}},\"shapedefaults\":{\"line\":{\"color\":\"#2a3f5f\"}},\"annotationdefaults\":{\"arrowcolor\":\"#2a3f5f\",\"arrowhead\":0,\"arrowwidth\":1},\"geo\":{\"bgcolor\":\"white\",\"landcolor\":\"#E5ECF6\",\"subunitcolor\":\"white\",\"showland\":true,\"showlakes\":true,\"lakecolor\":\"white\"},\"title\":{\"x\":0.05},\"mapbox\":{\"style\":\"light\"}}},\"xaxis\":{\"anchor\":\"y\",\"domain\":[0.0,1.0],\"title\":{\"text\":\"Plot#1: Offered Coupon Type\"}},\"yaxis\":{\"anchor\":\"x\",\"domain\":[0.0,1.0],\"title\":{\"text\":\"Coupon Counts\"}},\"legend\":{\"title\":{\"text\":\"variable\"},\"tracegroupgap\":0},\"margin\":{\"t\":60},\"barmode\":\"relative\",\"title\":{\"text\":\"Total Number of offered coupon types\",\"x\":0.5},\"showlegend\":false},                        {\"responsive\": true}                    ).then(function(){\n",
              "                            \n",
              "var gd = document.getElementById('5f5c2cb0-d537-4082-b389-218b75468000');\n",
              "var x = new MutationObserver(function (mutations, observer) {{\n",
              "        var display = window.getComputedStyle(gd).display;\n",
              "        if (!display || display === 'none') {{\n",
              "            console.log([gd, 'removed!']);\n",
              "            Plotly.purge(gd);\n",
              "            observer.disconnect();\n",
              "        }}\n",
              "}});\n",
              "\n",
              "// Listen for the removal of the full notebook cells\n",
              "var notebookContainer = gd.closest('#notebook-container');\n",
              "if (notebookContainer) {{\n",
              "    x.observe(notebookContainer, {childList: true});\n",
              "}}\n",
              "\n",
              "// Listen for the clearing of the current output cell\n",
              "var outputEl = gd.closest('.output');\n",
              "if (outputEl) {{\n",
              "    x.observe(outputEl, {childList: true});\n",
              "}}\n",
              "\n",
              "                        })                };                            </script>        </div>\n",
              "</body>\n",
              "</html>"
            ]
          },
          "metadata": {}
        },
        {
          "output_type": "display_data",
          "data": {
            "text/plain": [
              "<Figure size 640x480 with 0 Axes>"
            ]
          },
          "metadata": {}
        }
      ],
      "source": [
        "#the objective of this code is to plot different types of coupons offered to the customers to undestand the data. Column= Coupon\n",
        "\n",
        "import pandas as pd\n",
        "import numpy as np\n",
        "import matplotlib.pyplot as plt\n",
        "import seaborn as sns\n",
        "import plotly.express as px\n",
        "\n",
        "df = pd.read_csv('/content/sample_data/coupons.csv')\n",
        "\n",
        "# Find duplicate rows\n",
        "all_duplicates = df[df.duplicated(keep=False)]\n",
        "\n",
        "#remove all the duplictes\n",
        "\n",
        "df = df.drop_duplicates()\n",
        "\n",
        "#remove all the null\n",
        "\n",
        "df_nonull = df[df[\"Bar\"].notnull() & df[\"CoffeeHouse\"].notnull() &\n",
        "                  df[\"CarryAway\"].notnull() & df[\"RestaurantLessThan20\"].notnull() &\n",
        "                 df[\"Restaurant20To50\"].notnull()]\n",
        "\n",
        "coupon_column_barplot = px.bar(df_nonull[\"coupon\"].value_counts()).update_layout(xaxis_title = \"Plot#1: Offered Coupon Type\", yaxis_title = \"Coupon Counts\",\n",
        "                                                                                  title = \"Total Number of offered coupon types\",\n",
        "                                                                                  title_x = 0.5, showlegend = False)\n",
        "\n",
        "#save the plot under /content/sample_data\n",
        "plt.savefig('/content/sample_data/Coupon_distribution_bar_graph.png')\n",
        "coupon_column_barplot"
      ]
    },
    {
      "cell_type": "markdown",
      "metadata": {
        "id": "Qw4lCyx2_qRI"
      },
      "source": [
        "6. Use a histogram to visualize the temperature column."
      ]
    },
    {
      "cell_type": "code",
      "execution_count": 23,
      "metadata": {
        "id": "Yg9Anv71_qRI",
        "colab": {
          "base_uri": "https://localhost:8080/",
          "height": 559
        },
        "outputId": "52273194-ea3f-4b6c-ff61-c3c5e073bfeb"
      },
      "outputs": [
        {
          "output_type": "display_data",
          "data": {
            "text/html": [
              "<html>\n",
              "<head><meta charset=\"utf-8\" /></head>\n",
              "<body>\n",
              "    <div>            <script src=\"https://cdnjs.cloudflare.com/ajax/libs/mathjax/2.7.5/MathJax.js?config=TeX-AMS-MML_SVG\"></script><script type=\"text/javascript\">if (window.MathJax && window.MathJax.Hub && window.MathJax.Hub.Config) {window.MathJax.Hub.Config({SVG: {font: \"STIX-Web\"}});}</script>                <script type=\"text/javascript\">window.PlotlyConfig = {MathJaxConfig: 'local'};</script>\n",
              "        <script charset=\"utf-8\" src=\"https://cdn.plot.ly/plotly-2.35.2.min.js\"></script>                <div id=\"607f1f2b-558c-44ff-bbba-9118fd3c3322\" class=\"plotly-graph-div\" style=\"height:525px; width:100%;\"></div>            <script type=\"text/javascript\">                                    window.PLOTLYENV=window.PLOTLYENV || {};                                    if (document.getElementById(\"607f1f2b-558c-44ff-bbba-9118fd3c3322\")) {                    Plotly.newPlot(                        \"607f1f2b-558c-44ff-bbba-9118fd3c3322\",                        [{\"alignmentgroup\":\"True\",\"bingroup\":\"x\",\"hovertemplate\":\"variable=temperature\\u003cbr\\u003evalue=%{x}\\u003cbr\\u003ecount=%{y}\\u003cextra\\u003e\\u003c\\u002fextra\\u003e\",\"legendgroup\":\"temperature\",\"marker\":{\"color\":\"#636efa\",\"pattern\":{\"shape\":\"\"}},\"name\":\"temperature\",\"nbinsx\":10,\"offsetgroup\":\"temperature\",\"orientation\":\"v\",\"showlegend\":true,\"x\":[55,80,80,80,80,80,80,80,80,80,55,55,55,55,55,80,55,55,80,80,55,55,55,80,80,80,80,80,80,80,80,80,55,55,55,55,55,80,55,55,80,80,55,55,55,80,80,80,80,80,55,80,80,80,80,55,55,55,55,80,55,55,80,80,55,55,55,80,80,80,80,80,80,80,80,80,55,55,55,55,55,80,55,55,80,80,55,55,55,80,80,80,80,80,80,80,80,80,55,55,55,55,55,80,55,55,80,80,55,55,55,80,80,80,80,80,55,80,80,80,80,55,55,55,55,80,55,55,80,80,55,55,55,80,80,80,80,80,80,80,80,80,55,55,55,55,55,80,55,55,80,80,55,55,55,80,80,80,80,80,80,80,80,80,55,55,80,55,80,80,55,55,80,80,80,80,80,80,80,80,80,55,55,55,55,55,80,55,55,80,80,55,55,55,80,80,80,80,80,55,80,80,80,80,80,80,55,55,80,55,55,80,80,55,55,55,80,80,80,80,80,80,80,80,80,55,55,55,55,55,80,55,55,80,80,55,55,55,80,80,80,80,80,55,80,80,80,80,55,55,55,55,80,55,55,80,80,55,55,55,80,80,80,80,80,55,80,80,80,55,55,55,80,55,55,80,80,55,55,55,80,80,80,80,80,55,80,80,80,80,55,55,55,55,80,55,55,80,80,55,55,55,80,80,80,80,80,55,80,80,80,80,55,55,80,55,55,80,80,55,55,55,80,80,80,80,80,55,80,80,80,80,55,55,55,55,80,55,55,80,80,55,55,55,80,80,80,80,80,55,80,80,80,80,55,55,55,55,80,55,55,80,80,55,55,55,80,80,80,80,80,80,80,80,80,55,55,55,55,55,80,55,55,80,80,55,55,55,80,80,80,80,80,55,80,80,80,80,80,80,55,55,80,55,55,80,80,55,55,80,80,80,80,80,80,80,80,80,55,55,55,55,55,80,55,55,80,80,55,55,55,80,80,80,80,80,80,80,80,80,55,55,55,55,55,80,55,80,80,55,55,55,80,80,80,80,80,80,80,80,80,55,55,55,55,55,80,55,55,80,80,55,55,55,80,80,80,80,80,55,80,80,80,80,55,55,55,55,80,55,55,80,80,55,55,55,80,80,80,80,80,80,80,80,80,55,55,55,55,55,80,55,55,80,80,55,55,55,80,80,80,80,80,80,80,80,80,55,55,55,55,55,80,55,55,80,80,55,55,55,80,80,80,80,80,80,80,80,80,55,55,55,55,55,80,55,55,80,80,55,55,55,80,80,80,80,80,55,80,80,80,80,55,55,55,55,80,55,55,80,80,55,55,55,80,80,80,80,80,80,80,80,80,55,55,55,55,55,80,55,55,80,80,55,55,55,80,80,80,80,80,55,80,80,80,80,80,80,55,55,80,55,55,80,80,55,55,55,80,80,80,80,80,55,80,80,80,80,55,55,55,55,80,55,55,80,80,55,55,55,80,80,80,80,80,55,80,80,80,80,80,80,55,55,80,55,55,80,80,55,55,55,80,80,80,80,80,80,80,80,80,55,55,55,55,55,80,55,55,80,80,55,55,55,80,80,80,80,80,55,80,80,80,80,80,80,55,55,80,55,55,80,80,55,55,55,80,80,80,80,80,80,80,80,80,55,55,55,55,55,80,55,55,80,80,55,55,55,80,80,80,80,80,55,80,80,80,80,55,55,55,55,80,55,55,80,80,55,55,55,80,80,80,80,80,55,80,80,80,80,55,55,55,55,55,55,80,80,55,55,55,80,80,80,80,80,55,80,80,80,80,55,55,55,55,80,55,55,80,80,55,55,55,80,80,80,80,80,55,80,80,80,80,80,80,55,55,80,55,55,80,80,55,55,55,80,80,80,80,80,80,80,80,80,55,55,55,55,55,80,55,55,80,80,55,55,55,80,80,80,80,80,80,80,80,80,55,55,55,55,55,80,55,55,80,80,55,55,55,80,80,80,80,80,55,80,80,80,80,80,80,55,55,80,55,55,80,80,55,55,55,80,80,80,80,80,55,80,80,80,80,55,55,55,55,80,55,55,80,80,55,55,55,80,80,80,80,80,55,80,80,80,80,55,55,55,55,80,55,55,80,80,55,55,55,80,80,80,80,80,80,80,80,80,55,55,55,55,55,80,55,55,80,80,55,55,55,80,80,80,80,80,55,80,80,80,80,80,80,55,55,80,55,55,80,80,55,55,55,80,80,80,80,80,55,80,80,80,80,80,80,55,55,80,55,55,80,80,55,55,55,80,80,80,80,80,55,80,80,80,80,55,55,55,55,80,55,55,80,80,55,55,55,80,80,80,80,80,55,80,80,80,80,55,55,55,55,80,55,55,80,80,55,55,55,80,80,80,80,80,55,80,80,80,80,55,55,55,55,80,55,55,80,80,55,55,55,80,80,80,80,80,55,80,80,80,80,80,80,55,55,80,55,55,80,80,55,55,55,80,80,80,80,80,55,80,80,80,80,55,55,55,55,80,55,55,80,80,55,55,55,80,80,80,80,80,80,80,80,80,55,55,55,55,55,80,55,55,80,80,55,55,55,80,80,80,80,80,80,80,80,80,55,55,55,55,55,80,55,55,80,80,55,55,55,80,80,80,80,80,80,80,80,80,55,55,55,55,55,80,55,55,80,80,55,55,55,80,80,80,80,80,55,80,80,80,80,80,80,55,55,80,55,55,80,80,55,55,55,80,80,80,80,80,55,80,80,80,80,80,80,55,55,80,55,55,80,80,55,55,55,80,80,80,80,80,80,80,80,80,55,55,55,55,55,80,55,55,80,80,55,55,55,80,80,80,80,80,55,80,80,80,80,80,80,55,55,80,55,55,80,80,55,55,55,80,80,80,80,80,55,80,80,80,80,80,80,55,55,80,55,55,80,80,55,55,55,80,80,80,80,80,80,80,80,80,55,55,55,55,55,80,55,55,80,80,55,55,55,80,80,80,80,80,55,80,80,80,80,55,55,55,55,80,55,55,80,80,55,55,55,80,80,80,80,80,80,80,80,80,55,55,55,55,55,80,55,55,80,80,55,55,55,80,80,80,80,80,55,80,80,80,80,55,55,55,55,80,55,55,80,80,55,55,55,80,80,80,80,80,55,80,80,80,80,80,80,55,55,80,55,55,80,80,55,55,55,80,80,80,80,80,55,80,80,80,80,80,80,55,55,80,55,55,80,80,55,55,55,80,80,80,80,80,55,80,80,80,80,55,55,55,55,80,55,55,80,80,55,55,55,80,80,80,80,80,80,80,80,80,55,55,55,55,55,80,55,55,80,80,55,55,55,80,80,80,80,80,80,80,80,80,55,55,55,55,55,80,55,55,80,80,55,55,55,80,80,80,80,80,55,80,80,80,80,55,55,55,55,80,55,55,80,80,55,55,55,80,80,80,80,80,80,80,80,80,55,55,55,55,55,80,55,55,80,80,55,55,55,80,80,80,80,80,55,80,80,80,80,55,55,55,55,80,55,55,80,80,55,55,55,80,80,80,80,80,55,80,80,80,80,55,55,55,55,80,55,55,80,80,55,55,55,80,80,80,80,80,80,80,80,80,55,55,55,55,55,80,55,55,80,80,55,55,55,80,80,80,80,80,55,80,80,80,80,55,55,55,55,80,55,55,80,80,55,55,55,80,80,80,80,80,55,80,80,80,80,80,80,55,55,80,55,55,80,80,55,55,55,80,80,80,80,80,80,80,80,80,55,55,55,55,55,80,55,55,80,80,55,55,55,80,80,80,80,80,55,80,80,80,80,80,80,55,55,80,55,55,80,80,55,55,55,80,80,80,80,80,55,80,80,80,80,55,55,55,55,80,55,55,80,80,55,55,55,80,80,80,80,80,55,80,80,80,80,55,55,55,55,80,55,55,80,80,55,55,55,80,80,80,80,80,80,80,80,80,55,55,55,55,55,80,55,55,80,80,55,55,55,80,80,80,80,80,80,80,80,80,55,55,55,55,55,80,55,55,80,80,55,55,55,80,80,80,80,80,80,80,80,80,55,55,55,55,55,80,55,55,80,80,55,55,55,80,80,80,80,80,80,80,80,80,55,55,55,55,55,80,55,55,80,80,55,55,55,80,80,80,80,80,80,80,80,80,55,55,55,55,55,80,55,55,80,80,55,55,55,80,80,80,80,80,55,80,80,80,80,55,55,55,55,80,55,55,80,80,55,55,55,80,80,80,80,80,55,80,80,80,80,55,55,55,55,80,55,55,80,80,55,55,55,80,80,80,80,80,55,80,80,80,80,80,80,55,55,80,55,55,80,80,55,55,55,80,80,80,80,80,55,80,80,80,80,80,80,55,55,80,55,55,80,80,55,55,55,80,80,80,80,80,55,80,80,80,80,55,55,55,55,80,55,55,80,80,55,55,55,80,80,80,80,80,55,80,80,80,80,55,55,55,55,80,55,55,80,80,55,55,55,80,80,80,80,80,55,80,80,80,80,55,55,55,55,80,55,55,80,80,55,55,55,80,80,80,80,80,80,80,80,80,55,55,55,55,55,80,55,55,80,80,55,55,55,80,80,80,80,80,80,80,80,80,55,55,55,55,55,80,55,55,80,80,55,55,55,80,80,80,80,80,55,80,80,80,80,55,55,55,55,80,55,55,80,80,55,55,55,80,80,80,80,80,80,80,80,80,55,55,55,55,55,80,55,55,80,80,55,55,55,80,80,80,80,80,80,80,80,80,55,55,55,55,55,80,55,55,80,80,55,55,55,80,80,80,80,80,55,80,80,80,80,80,80,55,55,80,55,55,80,80,55,55,55,80,80,80,80,80,55,80,80,80,80,80,80,55,55,80,55,55,80,80,55,55,55,80,80,80,80,80,80,80,80,80,55,55,55,55,55,80,55,55,80,80,55,55,55,80,80,80,80,80,80,80,80,80,55,55,55,55,55,80,55,55,80,80,55,55,55,80,80,80,80,80,55,80,80,80,80,80,80,55,55,80,55,55,80,80,55,55,55,80,80,80,80,80,80,80,80,55,55,55,55,55,80,55,55,80,80,55,55,55,80,80,80,80,80,55,80,80,80,80,55,55,55,55,80,55,55,80,80,55,55,55,80,80,80,80,80,80,80,80,80,55,55,55,55,55,80,55,55,80,80,55,55,55,80,80,80,80,80,55,80,80,80,80,55,55,55,55,80,55,55,80,80,55,55,55,80,80,80,80,80,80,80,80,80,55,55,55,55,55,80,55,55,80,80,55,55,55,80,80,80,80,80,55,80,80,80,80,80,80,55,55,80,55,55,80,80,55,55,55,80,80,80,80,80,55,80,80,80,80,80,80,55,55,80,55,55,80,80,55,55,55,80,80,80,80,80,80,80,80,55,55,55,55,55,80,55,80,80,55,55,55,80,80,80,80,80,80,80,80,80,55,55,55,55,55,80,55,55,80,80,55,55,55,80,80,80,80,80,55,80,80,80,80,55,55,55,55,80,55,55,80,80,55,55,55,80,80,80,80,80,80,80,80,80,55,55,55,55,55,80,55,55,80,80,55,55,55,80,80,80,80,80,55,80,80,80,80,55,55,55,55,80,55,55,80,80,55,55,55,80,80,80,80,80,80,80,80,80,55,55,55,55,55,80,55,55,80,80,55,55,55,80,80,80,80,80,55,80,80,80,80,55,55,55,55,80,55,55,80,80,55,55,80,80,80,80,80,55,80,80,80,80,55,55,55,55,80,55,55,80,80,55,55,55,80,80,80,80,80,55,80,80,80,55,55,55,55,80,55,55,80,80,55,55,55,80,80,80,80,80,55,80,80,80,80,80,80,55,55,80,55,55,80,80,55,55,55,80,80,80,80,80,55,80,80,80,80,55,55,55,55,80,55,55,80,80,55,55,55,80,80,80,80,80,80,80,80,80,55,55,55,55,55,80,55,55,80,80,55,55,55,80,80,80,80,80,80,80,80,80,55,55,55,55,55,80,55,55,80,80,55,55,55,80,80,80,80,80,55,80,80,80,80,55,55,55,55,80,55,55,80,80,55,55,55,80,80,80,80,80,80,80,80,80,55,55,55,55,55,80,55,55,80,80,55,55,55,80,80,80,80,80,80,80,80,80,55,55,55,55,55,80,55,55,80,80,55,55,55,80,80,80,80,80,55,80,80,80,80,55,55,55,55,80,55,55,80,80,55,55,55,80,80,80,80,80,80,80,80,80,55,55,55,55,55,80,55,55,80,80,55,55,55,80,80,80,80,80,80,80,80,80,55,55,55,55,55,80,55,55,80,80,55,55,55,80,80,80,80,80,55,80,80,80,80,55,55,55,55,80,55,55,80,80,55,55,55,80,80,80,80,80,55,80,80,80,80,55,55,55,55,80,55,55,80,80,55,55,55,80,80,80,80,80,55,80,80,80,80,55,55,55,55,80,55,55,80,80,55,55,55,80,80,80,80,80,80,80,80,80,55,55,55,55,55,80,55,55,80,80,55,55,55,80,80,80,80,80,55,80,80,80,80,55,55,55,55,80,55,55,80,80,55,55,55,80,80,80,80,80,80,80,80,80,55,55,55,55,55,80,55,55,80,80,55,55,55,80,80,80,80,80,55,80,80,80,80,55,55,55,55,80,55,55,80,80,55,55,55,80,80,80,80,80,80,80,80,80,55,55,55,55,55,80,55,55,80,80,55,55,55,80,80,80,80,80,55,80,80,80,80,55,55,55,55,80,55,55,80,80,55,55,55,80,80,80,80,80,80,80,80,80,55,55,80,55,55,55,80,55,55,80,80,55,55,55,80,80,80,80,80,55,80,80,80,80,55,55,55,55,80,55,80,80,55,55,55,80,80,80,80,80,55,80,80,80,80,80,80,55,55,80,55,55,80,80,55,55,55,80,80,80,80,55,80,80,80,80,80,80,55,55,80,55,80,80,55,55,55,80,80,80,80,80,55,80,80,80,80,55,55,55,55,80,55,55,80,80,55,55,55,80,80,80,80,80,80,80,80,80,55,55,55,55,55,80,55,55,80,80,55,55,55,80,80,80,80,80,55,80,80,80,80,55,55,55,55,80,55,55,80,80,55,55,55,80,80,80,80,80,55,80,80,80,80,80,80,55,55,80,55,55,80,80,55,55,55,80,80,80,80,80,80,80,80,80,55,55,55,55,55,80,55,55,80,80,55,55,55,80,80,80,80,80,55,55,55,80,55,55,80,80,55,55,55,80,80,80,80,80,55,80,80,80,80,55,55,55,55,80,55,55,80,80,55,55,55,80,80,80,80,80,80,80,80,80,55,55,55,55,55,80,55,55,80,80,55,55,55,80,80,80,80,80,55,80,80,80,80,80,80,55,55,80,55,55,80,80,55,55,55,80,80,80,80,80,55,80,80,80,80,80,80,55,55,80,55,55,80,80,55,55,55,80,80,80,80,80,80,80,80,80,55,55,55,55,55,80,55,55,80,80,55,55,55,80,80,80,80,80,80,80,80,80,55,55,55,55,55,80,55,55,80,80,55,55,55,80,80,80,80,80,55,80,80,80,80,55,55,55,55,80,55,55,80,80,55,55,55,80,80,80,80,80,55,80,80,80,80,55,55,55,55,80,55,55,80,80,55,55,55,80,80,80,80,80,80,80,80,80,55,55,55,55,55,80,55,55,80,80,55,55,55,80,80,80,80,80,55,80,80,80,80,80,80,55,55,80,55,55,80,80,55,55,55,80,80,80,80,80,80,80,80,80,55,55,55,55,55,80,55,55,80,80,55,55,55,80,80,80,80,80,80,80,80,80,55,55,55,55,55,80,55,55,80,80,55,55,55,80,80,80,80,80,55,80,80,80,80,55,55,55,55,80,55,55,80,80,55,55,55,80,80,80,80,80,55,80,80,80,80,80,80,55,55,80,55,55,80,80,55,55,55,80,80,80,80,80,55,80,80,80,80,80,80,55,55,80,55,55,80,80,55,55,55,80,80,80,80,80,80,80,80,80,55,55,55,55,55,80,55,55,80,80,55,55,55,80,80,80,80,80,55,80,80,80,80,80,80,55,55,80,55,55,80,80,55,55,55,80,80,80,80,80,55,80,80,80,80,55,55,55,55,80,55,55,80,80,55,55,55,80,80,80,80,80,80,80,80,80,55,55,55,55,55,80,55,55,80,80,55,55,55,80,80,80,80,80,55,80,80,80,80,80,80,55,55,80,55,55,80,80,55,55,55,80,80,80,80,80,55,80,80,80,80,55,55,55,55,80,55,55,80,80,55,55,55,80,80,80,80,80,80,80,80,80,55,55,55,55,55,80,55,55,80,80,55,55,55,80,80,80,80,80,55,80,80,80,80,80,80,55,55,80,55,55,80,80,55,55,55,80,80,80,80,80,80,80,80,80,55,55,55,55,55,80,55,55,80,80,55,55,55,80,80,80,80,80,80,80,80,80,55,55,55,55,55,80,55,55,80,80,55,55,55,80,80,80,80,80,55,80,80,80,80,55,55,55,55,80,55,55,80,80,55,55,55,80,80,80,80,80,80,80,80,80,55,55,55,55,55,80,55,55,80,80,55,55,55,80,80,80,80,80,80,80,80,80,55,55,55,55,55,80,55,55,80,80,55,55,80,80,80,80,55,80,80,80,80,55,55,80,80,80,80,80,80,80,80,80,80,55,80,80,80,80,55,80,80,80,80,80,80,80,80,80,80,80,80,80,80,80,80,55,80,80,80,80,55,80,80,80,80,80,80,80,80,80,80,80,80,80,80,80,80,55,80,80,80,80,55,80,80,80,80,55,55,80,80,80,80,80,80,80,80,80,80,55,80,80,80,80,55,80,80,80,80,80,80,80,80,80,80,80,80,80,80,80,80,55,80,80,80,80,55,80,80,80,80,55,55,80,80,80,80,80,80,80,80,80,80,55,80,80,80,55,80,80,80,80,55,55,80,80,80,80,80,80,80,80,80,80,55,80,80,80,80,55,80,80,80,80,80,80,80,80,80,80,80,80,80,80,80,80,55,80,80,80,80,55,80,55,80,80,55,80,80,80,80,80,80,80,80,80,80,55,80,80,80,80,55,80,80,80,80,80,80,80,80,80,80,80,80,80,80,80,80,55,80,80,80,80,55,80,55,80,80,55,80,80,80,80,80,80,80,80,80,80,55,80,80,80,80,55,80,55,80,80,55,80,80,80,80,80,80,80,80,80,80,80,55,80,80,80,80,55,80,55,80,80,55,80,80,80,80,80,80,80,80,80,80,55,80,80,80,80,55,80,80,80,80,80,80,80,80,80,80,80,80,80,80,80,80,55,80,80,80,80,55,80,55,80,80,55,80,80,80,80,80,80,80,80,80,80,55,80,80,80,80,55,80,80,80,80,80,80,80,80,80,80,80,80,80,55,80,80,80,80,55,80,80,80,80,80,80,80,80,80,80,80,80,80,80,80,80,55,80,80,80,80,55,80,80,80,80,80,80,80,80,80,80,80,80,80,80,80,80,55,80,80,80,80,55,80,55,80,80,55,80,80,80,80,80,80,80,80,80,80,55,80,80,80,80,55,80,80,80,80,80,80,80,80,80,80,80,80,80,80,80,80,55,80,80,80,80,55,80,80,80,80,80,80,80,80,80,80,80,80,80,80,80,80,55,80,80,80,80,55,80,55,80,80,55,80,80,80,80,80,80,80,80,80,80,55,80,80,80,80,55,80,80,55,80,80,55,80,80,80,80,80,80,80,80,80,80,55,80,80,80,80,55,80,80,80,80,80,80,80,80,80,80,80,80,80,80,80,80,55,80,80,80,80,55,80,80,80,80,55,55,80,80,80,80,80,80,80,80,80,80,55,80,80,80,80,55,80,80,80,80,55,55,80,80,80,80,80,80,80,80,80,80,55,80,80,80,80,55,80,80,80,80,80,80,80,80,80,80,80,80,80,80,80,55,80,80,80,80,55,80,80,80,80,80,80,80,80,80,80,80,80,80,80,80,80,55,80,80,80,80,55,80,55,80,80,55,80,80,80,80,80,80,80,80,80,80,80,55,80,80,80,80,55,80,55,80,80,55,80,80,80,80,80,80,80,80,80,80,80,55,80,80,80,80,55,80,80,80,80,80,80,80,80,80,80,80,80,80,80,80,80,55,80,80,80,80,55,80,80,80,80,55,55,80,80,80,80,80,80,80,80,80,80,55,80,80,80,80,55,80,80,80,80,80,80,80,80,80,80,80,80,80,80,80,80,55,80,80,80,80,55,80,55,80,80,55,80,80,80,80,80,80,80,80,80,80,55,80,80,80,80,55,80,80,80,80,80,80,80,80,80,80,80,80,80,80,80,80,55,80,80,80,80,55,80,55,80,80,55,80,80,80,80,80,80,80,80,80,80,55,80,80,80,80,55,80,55,80,80,55,80,80,80,80,80,80,80,80,80,80,55,80,80,80,80,55,80,55,80,80,55,80,80,80,80,80,80,80,80,80,80,55,80,80,80,80,55,80,55,80,80,55,80,80,80,80,80,80,80,80,80,80,55,80,80,80,80,55,80,80,80,80,55,55,80,80,80,80,80,80,80,80,80,80,55,80,80,80,80,55,80,80,80,80,55,55,80,80,80,80,80,80,80,80,80,80,55,80,80,80,80,55,80,55,80,80,55,80,80,80,80,80,80,80,80,80,80,55,80,80,80,80,55,80,80,80,55,80,80,80,80,80,80,80,80,80,80,55,80,80,80,80,55,80,55,80,80,55,80,80,80,80,80,80,80,80,80,80,55,80,80,80,80,55,80,80,80,80,80,80,80,80,80,80,80,80,80,80,80,80,55,80,80,80,80,55,80,80,80,80,80,80,80,80,80,80,80,55,55,55,80,80,55,80,80,80,80,80,80,80,80,80,80,55,80,80,80,80,55,80,80,80,80,80,80,80,80,80,80,80,80,80,80,80,80,55,80,80,80,80,55,80,55,80,80,55,80,80,80,80,80,80,80,80,80,80,55,80,80,80,80,55,80,55,80,80,55,80,80,80,80,80,80,80,80,80,80,55,80,80,80,80,55,80,55,80,80,55,80,80,80,80,80,80,80,80,80,80,80,55,80,80,80,80,55,80,80,80,80,80,80,80,80,80,80,80,80,80,80,80,80,55,80,80,80,80,55,80,55,80,80,55,80,80,80,80,80,80,80,80,80,80,55,80,80,80,80,55,80,80,80,80,55,55,80,80,80,80,80,80,80,80,80,80,55,80,80,80,80,55,80,80,80,80,55,55,80,80,80,80,80,80,80,80,80,80,55,80,80,80,80,55,80,80,80,80,80,80,80,80,80,80,80,80,80,80,80,80,55,80,80,80,80,55,80,80,80,80,55,55,80,80,80,80,80,80,80,80,80,80,55,80,80,80,80,55,80,80,80,80,80,80,80,80,80,80,80,80,80,80,80,80,55,80,80,80,80,55,80,80,80,80,80,80,80,80,80,80,80,80,80,80,80,80,55,80,80,80,80,55,80,80,80,80,80,80,80,80,80,80,80,80,80,80,80,80,55,80,80,80,80,55,80,80,80,80,80,80,80,80,80,80,80,80,80,80,80,80,55,80,80,80,80,55,80,55,80,80,55,80,80,80,80,80,80,80,80,80,80,80,55,80,80,80,80,55,80,80,80,80,80,80,80,80,80,80,80,80,80,80,80,80,55,80,80,80,80,55,80,55,80,80,55,80,80,80,80,80,80,80,80,80,80,55,80,80,80,80,55,80,55,80,80,55,80,80,80,80,80,80,80,80,80,55,80,80,80,80,55,80,55,80,80,55,80,80,80,80,80,80,80,80,80,80,55,80,80,80,80,55,80,80,80,80,80,80,80,80,80,80,80,80,80,80,80,80,55,80,80,80,80,55,80,55,80,80,55,80,80,80,80,80,80,80,80,80,80,80,55,80,80,80,80,55,80,80,80,80,55,55,80,80,80,80,80,80,80,80,80,55,80,80,80,80,55,80,80,80,80,55,55,80,80,80,80,80,80,80,80,80,80,55,80,80,80,80,55,80,55,80,80,55,80,80,80,80,80,80,80,80,80,80,55,80,80,80,80,55,80,55,80,80,55,80,80,80,80,80,80,80,80,80,80,55,80,80,80,80,55,80,55,80,80,55,80,80,80,80,80,80,80,80,80,80,80,55,80,80,80,80,55,80,55,80,80,55,80,80,80,80,80,80,80,80,80,80,55,80,80,80,80,55,80,80,80,80,80,80,80,80,80,80,80,80,80,80,80,80,55,80,80,80,80,55,80,55,80,80,55,80,80,80,80,80,80,80,80,80,80,55,80,80,80,80,55,80,80,80,80,55,55,80,80,80,80,80,80,80,80,80,80,55,80,80,80,80,55,80,55,80,80,55,80,80,80,80,80,80,80,80,80,80,55,80,80,80,80,55,80,80,80,80,80,80,80,80,80,80,80,80,80,80,80,80,55,80,80,80,80,55,80,80,80,80,55,55,80,80,80,80,80,80,80,80,80,80,55,80,80,80,80,55,80,55,80,80,55,80,80,80,80,80,80,80,80,80,80,55,80,80,80,80,55,80,80,80,80,80,80,80,80,80,80,80,80,80,80,80,80,55,80,80,80,80,55,80,80,80,80,55,55,80,80,80,80,80,80,80,80,80,80,55,80,80,80,80,55,80,80,80,80,55,55,80,80,80,80,80,80,80,80,80,80,55,80,80,80,80,55,80,55,80,80,55,80,80,80,80,80,80,80,80,80,80,55,80,80,80,80,55,80,80,80,80,80,80,80,80,80,80,80,80,80,80,80,80,55,80,80,80,80,55,80,80,80,80,80,80,80,80,80,80,80,80,80,80,80,55,80,80,80,80,55,80,55,80,80,55,80,80,80,80,80,80,80,80,80,80,55,80,80,80,80,55,80,55,80,80,55,80,80,80,80,80,80,80,80,80,80,55,80,80,80,80,55,80,80,80,80,80,80,80,80,80,80,80,80,80,80,80,80,55,80,80,80,80,55,80,55,80,80,55,80,80,80,80,80,80,80,80,80,80,55,80,80,80,80,55,80,55,80,80,55,80,80,80,80,80,80,80,80,80,80,55,80,80,80,80,55,80,80,80,80,80,80,80,80,80,80,80,80,80,80,80,80,55,80,80,80,80,55,80,80,80,80,80,80,80,80,80,80,80,80,80,80,80,80,55,80,80,80,80,55,80,80,80,80,80,80,80,80,80,80,80,55,55,55,80,80,55,80,80,80,80,80,80,80,80,80,80,80,55,80,80,80,80,55,80,80,80,80,80,80,80,80,80,80,80,80,80,80,80,80,55,80,80,80,80,55,80,80,80,80,80,80,80,80,80,80,80,80,80,80,80,80,55,80,80,80,80,55,80,80,80,80,55,55,80,80,80,80,80,80,80,80,80,80,55,80,80,80,80,55,80,55,80,80,55,80,80,80,80,80,80,80,80,80,80,55,80,80,80,80,55,80,80,80,80,80,80,80,80,80,80,80,80,80,80,80,80,55,80,80,80,80,55,80,80,80,80,80,80,80,80,80,80,80,80,80,80,80,80,55,80,80,80,80,55,80,55,80,80,55,80,80,80,80,80,80,80,80,80,80,55,80,80,80,80,55,80,55,80,80,55,80,80,80,80,80,80,80,80,80,80,55,80,80,80,80,55,80,80,80,80,80,80,80,80,80,80,80,80,80,80,80,80,55,80,80,80,80,55,80,80,80,80,80,80,80,80,80,80,80,55,80,80,80,80,55,80,55,80,80,55,80,80,80,80,80,80,80,80,80,80,80,55,80,80,80,80,55,80,80,80,80,55,55,80,80,80,80,80,80,80,80,80,80,55,80,80,80,80,55,80,55,80,80,55,80,80,80,80,80,80,80,80,80,80,55,80,80,80,80,55,80,55,80,80,55,80,80,80,80,80,80,80,80,80,80,55,80,80,80,80,55,80,55,80,80,55,80,80,80,80,80,80,80,80,80,80,55,80,80,80,80,55,80,80,80,80,55,55,80,80,80,80,80,80,80,80,80,80,55,80,80,80,80,55,80,55,80,80,55,80,80,80,80,80,80,80,80,80,80,55,80,80,80,80,55,80,55,80,80,55,80,80,80,80,80,80,80,80,80,80,55,80,80,80,80,55,80,80,80,80,80,80,80,80,80,80,80,80,80,80,80,80,55,55,55,55,80,30,55,55,80,80,55,55,55,30,80,30,80,55,55,80,30,55,30,80,55,30,55,55,55,80,55,55,80,80,55,55,80,30,30,55,30,30,80,55,30,55,55,80,55,55,30,80,55,55,55,80,30,55,80,55,55,80,30,55,30,80,55,30,55,55,55,80,55,55,55,80,30,80,55,55,80,30,30,55,30,30,80,80,55,30,55,55,55,80,55,55,55,80,30,80,55,55,80,30,30,55,30,30,80,55,55,55,80,30,55,55,80,80,55,55,55,30,80,30,80,55,55,80,30,55,30,80,55,30,55,55,55,80,55,55,55,80,30,80,55,55,80,30,30,55,30,30,80,55,30,55,55,80,55,55,30,80,55,55,55,80,30,55,80,55,55,80,30,55,30,55,55,55,80,30,55,55,80,80,55,55,55,30,80,30,80,55,55,80,30,55,30,55,30,55,55,80,55,55,30,80,55,55,55,80,30,55,80,55,55,80,30,55,30,55,55,55,80,30,55,55,80,80,55,55,55,30,80,30,80,55,55,80,30,55,30,55,55,55,80,30,55,55,80,80,55,55,55,30,80,30,80,55,55,80,30,55,30,80,55,30,55,55,55,80,55,55,55,80,30,80,55,55,80,30,30,30,30,80,55,30,55,55,80,55,55,30,80,55,55,55,80,30,55,80,55,55,80,30,55,30,80,55,80,80,30,55,30,30,80,30,55,55,30,30,30,30,80,80,55,30,30,80,55,55,30,80,55,80,80,30,55,30,30,80,55,30,30,30,80,30,55,30,30,80,80,55,80,80,30,55,30,30,80,30,55,55,30,30,30,30,80,80,55,30,30,80,55,55,30,80,55,80,80,30,55,30,30,80,55,30,30,30,80,30,55,30,30,80,55,55,30,80,55,80,80,30,55,30,30,80,55,30,30,30,80,30,55,30,30,80,80,80,55,80,80,55,55,30,55,30,30,80,30,55,30,30,80,55,55,30,30,80,80,55,80,80,30,55,30,30,80,30,55,55,30,30,30,30,80,80,55,30,30,80,80,55,80,80,30,55,30,30,80,30,55,55,30,30,30,30,80,80,55,30,30,80,80,80,55,80,80,55,55,30,55,30,30,80,30,55,30,30,80,55,55,30,30,80,80,55,80,80,30,55,30,30,80,30,55,55,30,30,30,30,80,80,55,30,30,80,55,55,30,80,55,80,80,30,55,30,30,80,55,30,30,30,80,30,55,30,30,80,55,55,30,80,55,80,80,30,55,30,30,80,55,30,30,30,80,30,55,30,30,80,80,80,55,80,80,55,55,30,55,30,30,80,30,55,30,30,80,55,55,30,30,80,55,55,30,80,55,80,80,30,55,30,30,80,55,30,30,30,80,30,55,30,30,80,55,55,30,80,55,80,80,30,55,30,30,80,55,30,30,30,80,30,55,30,30,80,55,55,30,80,55,80,80,30,55,30,30,80,55,30,30,30,80,30,55,30,30,80,80,55,80,80,30,55,30,30,80,30,55,55,30,30,30,30,80,80,55,30,30,80,80,55,80,80,30,55,30,30,80,30,55,55,30,30,30,30,80,80,55,30,30,80,80,80,55,80,80,55,55,30,55,30,30,80,30,55,30,30,80,55,55,30,30,80,55,55,30,80,55,80,80,30,55,30,30,80,55,30,30,30,80,30,55,30,30,80,80,55,80,80,30,55,30,30,80,30,55,55,30,30,30,30,80,80,55,30,30,80,55,55,30,80,55,80,80,30,55,30,30,80,55,30,30,30,80,30,55,30,30,80,80,80,55,80,80,55,55,30,55,30,30,80,30,55,30,30,80,55,55,30,30,80,55,55,30,80,55,80,80,30,55,30,30,80,55,30,30,30,80,30,55,30,30,80,55,55,30,80,55,80,80,30,55,30,30,80,55,30,30,30,80,30,55,30,30,80,80,80,55,80,80,55,55,30,55,30,30,80,30,55,30,30,80,55,55,30,30,80,55,55,30,80,55,80,80,30,55,30,30,80,55,30,30,30,80,30,55,30,30,80,80,80,55,80,80,55,55,30,55,30,30,80,80,30,55,55,30,80,30,55,30,30,80,80,55,55,30,30,80,55,55,30,80,55,30,80,55,80,80,30,55,30,30,80,30,55,55,30,30,30,30,80,80,55,30,30,80,80,55,80,80,30,55,30,30,30,30,30,80,80,55,30,30,80,55,55,30,80,55,80,80,30,55,30,30,80,55,30,30,30,80,30,55,30,30,80,80,55,80,80,30,55,30,30,80,30,55,30,30,30,30,80,80,55,30,30,80,55,80,80,30,55,30,30,80,30,55,55,30,30,30,30,80,80,55,30,30,80,80,80,55,80,80,55,55,30,55,30,30,80,30,55,30,30,80,55,55,30,30,80,80,55,80,80,30,55,30,30,80,30,55,55,30,30,30,30,80,80,55,30,30,80,80,80,55,80,80,55,55,30,55,30,30,80,30,55,30,30,80,55,55,30,30,80,80,55,80,80,30,55,30,30,80,30,55,55,30,30,30,30,80,80,55,30,30,80,80,55,80,80,30,55,30,30,80,30,55,55,30,30,30,30,80,80,55,30,30,80,80,80,55,80,80,55,55,30,55,30,30,80,30,55,30,30,80,55,55,30,30,80,80,55,80,80,30,55,30,30,30,55,55,30,30,30,30,80,80,55,30,30,80,80,80,55,80,80,55,55,30,55,30,30,80,30,55,30,30,80,55,55,30,30,80,55,80,30,30,30,30,80,80,55,80,80,55,55,30,55,30,30,80,30,55,30,30,80,55,55,30,30,80,55,55,30,80,55,80,80,30,55,30,30,80,55,30,30,30,80,30,55,30,30,80,80,55,80,80,30,55,30,30,80,30,55,55,30,30,30,30,80,80,55,30,30,80,80,80,55,80,80,55,55,30,55,30,30,80,30,55,30,30,80,55,55,30,30,80,55,55,30,80,55,80,80,30,55,30,30,80,55,30,30,30,80,30,55,30,30,80,55,55,30,80,55,80,80,30,55,30,30,80,55,30,30,30,80,30,55,30,30,80,80,55,80,80,30,55,30,30,80,30,55,55,30,30,30,30,80,80,55,30,30,80,80,80,55,80,80,55,55,30,55,30,30,80,30,55,30,30,80,55,55,30,30,80,80,80,55,80,80,55,55,30,55,30,30,80,30,55,30,30,80,55,55,30,30,80,80,80,55,80,80,55,55,30,55,30,30,80,30,55,30,30,80,55,55,30,30,80,55,55,30,80,55,80,80,30,55,30,30,80,55,30,30,30,80,30,55,30,30,80,55,55,30,80,55,80,80,30,55,30,30,80,55,30,30,30,80,30,55,30,30,80,80,80,55,80,80,55,55,30,55,30,30,80,30,55,30,30,80,55,55,30,30,80,80,55,80,80,30,55,30,30,80,30,55,55,30,30,30,30,80,80,55,30,30,80,55,80,80,30,55,30,30,80,30,55,55,30,30,30,30,80,80,55,30,30,80,55,55,30,80,55,80,80,30,55,30,30,80,55,30,30,30,80,30,55,30,30,80,80,80,55,80,80,55,55,30,55,30,30,80,30,55,30,30,80,55,55,30,30,80,55,55,30,80,55,80,80,30,55,30,30,80,55,30,30,30,80,30,55,30,30,80,55,55,30,80,55,80,80,30,55,30,30,80,55,30,30,30,80,30,55,30,30,80,80,80,55,80,80,55,30,55,30,30,80,30,55,30,30,80,55,55,30,30,80,80,55,80,80,30,55,30,30,80,30,55,55,30,30,30,30,80,80,55,30,30,80,55,55,30,80,55,80,80,30,55,30,30,80,55,30,30,30,80,30,55,30,30,80,80,55,80,80,30,55,30,30,80,30,55,55,30,30,30,30,80,80,55,30,30,80,55,55,30,80,55,80,80,30,55,30,30,80,55,30,30,30,80,30,55,30,30,80,80,80,55,80,80,55,55,30,55,30,30,80,30,55,30,30,80,55,55,30,30,80,80,55,80,80,30,55,30,30,80,30,55,55,30,30,30,30,80,80,55,30,30,80,55,55,30,80,55,80,80,30,55,30,30,55,30,30,30,80,30,55,30,30,80,55,55,30,80,55,80,80,30,55,30,30,80,55,30,30,30,80,30,55,30,30,80,80,80,55,80,80,55,55,30,55,30,30,80,30,55,30,30,80,55,55,30,30,80,80,80,30,30,30,30,30,55,55,30,80,55,80,80,30,55,30,30,80,55,30,30,30,80,30,55,30,30,80,80,55,80,80,30,55,30,30,80,30,55,55,30,30,30,30,80,80,55,30,30,80,55,55,30,80,55,80,80,30,55,30,30,80,55,30,30,30,80,30,55,30,30,80,80,55,80,80,30,55,30,30,80,30,55,55,30,30,30,30,80,80,55,30,30,80,80,80,55,80,80,55,55,30,55,30,30,80,30,55,30,30,80,55,55,30,30,80,80,80,55,80,80,55,55,30,55,30,30,80,30,55,30,30,80,55,55,30,30,80,80,55,80,80,30,55,30,30,80,30,55,55,30,30,30,30,80,80,55,30,30,80,80,55,80,80,30,55,30,30,80,30,55,55,30,30,30,30,80,80,55,30,30,80,55,55,30,80,55,80,80,30,55,30,30,80,55,30,30,30,80,30,55,30,30,80,80,55,80,80,30,55,30,30,80,30,55,55,30,30,30,30,80,80,55,30,80,55,55,30,80,55,80,80,30,55,30,30,80,55,30,30,30,80,30,55,30,30,80,80,80,30,55,30,80,55,80,80,80,55,30,55,30,80,55,30,30,55,80,55,30,80,80,30,55,30,80,80,80,80,80,80,30,80,80,55,30,80,30,55,80,55,30,80,80,80,55,30,55,30,55,30,80,30,80,80,55,30,80,30,55,80,80,55,30,80,80,30,55,30,80,55,80,80,80,55,30,55,30,80,55,30,30,55,80,55,30,80,80,80,55,30,55,30,55,30,80,30,80,80,55,30,80,30,55,80,80,55,30,80,80,30,55,30,80,80,80,80,80,80,30,80,80,55,30,80,30,55,80,55,30,80,80,30,55,30,80,80,80,80,80,80,30,80,80,55,30,80,30,55,80,55,30,80,80,80,55,30,55,30,55,30,80,30,80,80,55,30,80,30,55,80,80,55,30,80,80,80,55,30,55,30,55,30,80,30,80,80,55,30,80,30,55,80,80,55,30,80,80,30,55,30,80,80,80,80,80,80,30,80,80,55,30,80,30,55,80,55,30,80,80,30,55,30,80,80,80,80,80,80,30,80,80,55,30,80,30,55,80,55,30,80,80,30,55,30,80,80,80,80,80,80,30,80,80,55,30,80,30,55,80,55,30,80,80,30,55,30,80,55,80,80,80,80,80,80,30,80,80,55,30,55,30,80,55,30,30,55,80,55,30,80,80,80,55,30,55,30,55,30,80,30,80,80,55,30,80,30,55,80,80,55,30,80,80,80,55,30,55,30,55,30,80,30,80,80,55,30,80,30,55,80,80,55,30,80,80,30,55,30,80,55,80,80,80,55,30,55,30,80,55,30,30,55,80,55,30,80,80,30,55,30,80,55,80,80,80,55,30,55,30,80,55,30,30,55,80,55,30,80,80,80,55,30,55,30,55,30,80,30,80,80,55,30,80,30,55,80,80,55,30,80,80,30,55,30,80,55,80,80,80,55,30,55,30,80,55,30,30,55,80,55,30,80,80,80,55,30,55,30,55,30,80,30,80,80,55,30,80,30,55,80,80,55,30,80,80,80,55,30,55,30,55,30,80,30,80,80,55,30,80,30,55,80,80,55,30,80,80,80,55,30,55,30,55,30,80,30,80,80,55,30,80,30,55,80,80,55,30,80,80,80,55,30,55,30,55,30,80,30,80,80,55,30,80,30,55,80,80,55,30,80,80,80,55,30,55,30,55,30,80,30,80,80,55,30,80,30,55,80,80,55,30,80,80,80,55,30,55,30,55,30,80,30,80,80,55,30,80,30,55,80,80,55,30,80,80,80,55,30,55,30,55,30,80,30,80,80,55,30,80,30,55,80,80,55,30,80,80,30,55,30,80,80,80,80,55,30,55,80,55,30,30,55,80,55,30,80,80,30,55,30,80,80,80,80,80,80,30,80,80,55,30,80,30,55,80,55,30,80,80,80,55,30,55,30,55,30,80,30,80,80,55,30,80,30,55,80,80,55,30,80,80,30,55,30,80,55,80,80,80,55,30,55,30,80,55,30,30,55,80,55,30,80,80,30,55,30,80,55,80,80,80,55,30,55,30,80,55,30,30,55,80,55,30,80,80,30,55,30,80,80,80,80,80,80,30,80,80,55,30,80,30,55,80,55,30,80,80,30,55,30,80,80,80,80,80,80,30,80,80,55,30,80,30,55,80,55,30,80,80,30,55,30,80,55,80,80,80,55,30,55,30,80,55,30,30,55,80,55,30,80,80,80,55,30,55,30,55,30,80,30,80,80,55,30,80,30,55,80,80,55,30,80,80,80,55,30,55,30,55,30,80,30,80,80,55,80,30,55,80,80,55,30,80,80,30,55,30,80,55,80,80,80,55,30,55,30,80,55,30,30,55,80,55,30,80,80,80,55,30,55,30,55,30,80,30,80,80,55,30,80,30,30,55,80,80,55,30,80,80,80,55,30,55,30,30,80,30,80,80,55,30,80,30,55,80,80,55,30,80,80,30,55,30,80,80,80,80,80,80,30,80,80,55,30,80,30,55,80,55,30,80,80,80,55,30,55,30,55,30,80,30,80,80,55,30,80,30,55,80,80,55,30,80,80,30,30,80,55,80,55,30,55,30,55,30,30,80,55,30,80,80,30,55,30,80,55,80,80,80,55,30,55,30,80,55,30,30,55,80,55,30,80,80,30,55,30,80,55,80,80,80,55,30,55,30,80,55,30,30,55,80,55,30,80,80,80,55,30,55,30,55,30,80,30,80,80,55,30,80,30,55,80,80,55,30,80,80,80,55,30,55,30,55,30,80,30,80,80,55,30,80,30,55,80,80,55,30,80,80,30,55,30,80,55,80,80,80,55,30,55,30,80,55,30,30,55,80,55,30,80,80,80,55,30,55,30,55,30,80,30,80,80,55,30,80,30,55,80,80,55,30,80,80,80,55,30,55,30,55,30,80,30,80,80,55,30,80,30,55,80,80,55,30,80,80,30,55,30,80,55,80,80,80,55,30,55,30,80,55,30,30,55,80,55,30,80,80,80,55,30,55,30,55,30,80,30,80,80,55,30,80,30,55,80,80,55,30,80,80,80,55,30,55,30,55,30,80,30,80,80,55,30,80,30,55,80,80,55,30,80,80,30,55,30,80,55,80,80,80,55,30,55,30,80,55,30,30,55,80,55,30,80,80,80,55,30,55,30,55,30,80,30,80,80,55,30,80,30,55,80,80,55,30,80,80,80,55,30,55,30,55,30,80,30,80,80,55,30,80,30,55,80,80,55,30,80,80,30,55,30,80,80,80,80,80,80,30,80,80,55,30,80,30,55,80,55,30,80,80,30,55,30,80,55,80,80,80,55,30,55,30,80,55,30,30,55,80,55,30,80,80,30,55,30,80,55,80,80,80,55,30,55,30,80,55,30,30,55,80,55,30,80,80,30,55,30,80,80,80,80,80,80,30,80,80,55,30,80,30,55,80,55,30,80,80,30,55,30,55,30,80,30,80,80,55,30,80,30,55,80,80,55,30,80,80,30,55,30,80,55,80,80,80,55,30,55,30,80,55,30,30,55,80,55,30,80,80,30,55,30,80,55,80,80,80,55,30,55,30,80,55,30,30,55,80,55,30,80,80,30,55,30,80,80,80,80,80,80,30,80,80,55,30,80,30,55,80,55,30,80,80,80,55,30,55,30,55,30,80,30,80,80,55,30,80,30,55,80,80,55,30,80,80,30,55,30,80,80,80,80,80,80,30,80,80,55,30,80,30,55,80,55,30,80,80,30,55,30,80,80,80,80,80,80,30,80,80,55,30,80,30,55,80,55,30,80,80,80,55,30,55,30,55,30,80,30,80,80,55,30,80,30,55,80,80,55,30,80,80,30,55,30,80,55,80,80,80,55,30,55,30,80,55,30,30,55,80,55,30,80,80,30,30,80,55,80,80,80,55,30,55,30,80,55,30,30,55,80,55,30,80,80,80,55,30,55,30,55,30,80,30,80,80,55,30,80,30,55,80,80,55,30,80,80,30,55,30,80,80,80,80,80,80,30,80,80,55,30,80,30,55,80,55,30,80,80,30,55,30,80,80,80,55,30,80,30,30,55,80,55,30,80,80,80,55,30,55,30,55,30,80,30,80,80,55,30,80,30,55,80,80,55,30,80,80,30,55,30,80,80,80,80,80,80,30,80,80,55,30,80,30,55,80,55,30,80,80,30,55,30,80,80,80,80,55,30,80,30,55,80,55,30,80,80,80,55,30,55,30,55,30,80,30,80,80,55,30,80,30,55,80,80,55,30,80,80,30,55,30,80,80,80,80,80,80,30,80,80,55,30,80,30,55,80,55,30,80,80,80,80,80,30,80,80,80,55,30,55,30,55,30,80,30,80,80,55,30,80,30,55,80,80,55,30,80,80,80,55,30,55,30,55,30,80,30,80,80,55,30,80,30,55,80,80,55,30,80,80,30,55,30,80,55,80,80,80,55,30,55,30,80,55,30,30,55,80,55,30,80,80,30,55,30,80,80,80,80,80,80,30,80,80,55,30,80,30,55,80,55,30,80,80,30,55,30,80,80,80,80,80,80,30,80,80,55,30,80,30,55,80,55,30,80,80,30,55,30,80,80,80,80,55,30,80,30,55,80,55,30,80,80,30,55,30,80,80,80,30,80,55,80,55,30,80,80,30,55,30,80,55,80,80,80,55,30,55,30,80,55,30,30,55,80,55,30,80,80,55,30,30,55,55,80,30,80,30,55,30,30,80,80,55,55,30,30,30,80,80,80,55,30,30,55,55,80,30,80,30,55,30,30,80,80,55,55,30,30,30,80,30,55,30,30,30,55,80,80,55,30,30,55,55,80,30,80,30,55,30,30,80,80,55,55,30,30,30,80,30,30,80,80,55,30,30,55,55,80,30,30,55,30,55,55,55,30,80,30,55,30,30,80,80,30,30,55,55,55,30,30,30,80,80,80,55,30,30,55,80,30,55,30,80,30,55,30,80,30,30,55,55,30,30,80,80,80,55,30,30,55,80,30,55,30,80,30,55,30,80,30,30,55,55,30,30,80,30,30,80,80,55,30,30,55,80,55,55,55,30,80,30,55,30,80,55,30,30,80,30,30,80,80,55,30,30,55,80,55,55,55,30,80,30,55,30,80,55,30,30,80,80,80,55,30,30,55,55,80,30,80,30,55,30,30,80,80,55,55,30,30,30,80,80,80,55,30,30,55,55,80,30,80,30,55,30,30,80,80,55,55,30,30,30,80,80,80,55,30,30,55,55,80,30,80,30,55,30,30,80,80,55,55,30,30,30,80,80,80,55,30,30,55,55,80,30,80,30,55,30,30,80,80,55,55,30,30,30,80,30,30,80,80,55,30,30,55,80,55,55,55,30,80,30,55,30,80,55,30,30,80,80,80,55,30,30,55,55,80,30,80,30,55,30,30,80,80,55,55,30,30,30,80,80,80,55,30,30,55,55,80,30,80,30,55,30,30,80,80,55,55,30,30,30,80,80,80,55,30,30,55,55,80,30,80,30,55,30,30,80,80,55,55,30,30,30,80,30,30,80,80,55,30,30,55,80,55,55,55,30,80,30,55,30,80,55,30,30,80,80,80,55,30,30,55,55,80,30,80,30,55,30,30,80,80,55,55,30,30,30,80,80,80,55,30,30,55,55,80,30,80,30,55,30,30,80,80,55,55,30,30,30,80,80,80,55,30,30,55,80,30,55,30,80,30,55,30,80,30,30,55,55,30,30,80,30,30,80,80,55,30,30,55,80,55,55,55,30,80,30,55,30,80,55,30,30,80,80,80,55,30,30,55,55,80,30,80,30,55,30,30,80,80,55,55,30,30,30,80,80,80,55,30,30,55,55,80,30,80,30,55,30,30,80,80,55,55,30,30,30,80,80,80,55,30,30,55,80,30,55,30,80,30,55,30,80,30,30,55,55,30,30,80,80,80,55,30,30,55,55,80,30,80,30,55,30,30,80,80,55,55,30,30,30,80,80,80,55,30,30,55,55,80,30,80,30,55,30,30,80,80,55,55,30,30,30,80,30,30,80,80,55,30,30,55,80,55,55,55,30,80,30,55,30,80,55,30,30,80,80,80,55,30,30,55,80,30,55,30,80,30,55,30,80,30,30,55,55,30,30,80,80,80,55,30,30,55,80,30,55,30,80,30,55,30,80,30,30,55,55,30,30,80,80,80,55,30,30,55,80,30,55,30,80,30,55,30,80,30,30,55,55,30,30,80,30,30,80,80,55,30,30,55,80,55,55,30,80,30,55,30,80,55,30,30,80,80,80,55,30,30,55,80,30,55,30,80,30,55,30,80,30,30,55,55,30,30,80,80,80,55,30,30,55,55,80,30,80,30,55,30,30,80,80,55,55,30,30,30,80,80,80,55,30,30,55,55,80,30,80,30,55,30,30,80,80,55,55,30,30,30,80,30,30,55,55,55,30,30,30,80,80,55,30,30,55,80,55,55,55,30,80,30,55,30,80,55,30,30,80,80,80,55,30,30,55,80,30,55,30,80,30,55,30,80,30,30,55,55,30,30,80,80,80,55,30,30,55,55,80,30,80,30,55,30,30,80,80,55,55,30,30,30,80,30,30,80,80,55,30,30,55,80,55,55,55,30,80,30,55,30,80,55,30,30,80,80,80,55,30,30,55,55,80,30,80,55,30,30,80,80,55,55,30,30,30,80,30,30,80,80,55,30,30,55,55,80,30,30,55,30,55,55,55,30,80,30,55,30,30,80,80,30,30,55,55,55,30,30,30,80,30,30,80,80,55,30,30,55,80,55,55,55,30,80,30,55,30,30,80,55,30,30,80,80,80,55,30,30,55,55,80,30,80,30,55,30,30,80,80,55,55,30,30,30,80,80,80,55,30,30,55,80,30,55,30,80,30,55,30,80,30,30,55,55,30,30,80,80,80,55,30,30,55,55,80,30,80,30,55,30,30,80,80,55,55,30,30,30,80,30,30,80,80,55,30,30,55,80,55,55,55,30,80,30,55,30,80,55,30,30,80,30,30,80,80,55,30,30,55,80,55,55,55,30,80,30,55,30,80,55,30,30,80,80,80,55,30,30,55,80,30,55,30,80,30,55,30,80,30,30,55,55,30,30,80,30,30,80,80,55,30,30,55,80,55,55,55,30,80,30,55,30,80,55,30,30,80,80,80,55,30,30,55,55,80,30,80,30,55,30,30,80,80,55,55,30,30,30,80,80,80,55,30,30,55,55,80,30,80,30,55,30,30,80,55,55,30,30,30,80,80,80,55,30,30,55,80,30,55,30,80,30,55,30,80,30,30,55,55,30,30,80,30,30,80,80,55,30,30,55,80,55,55,55,30,80,30,55,30,80,55,30,30,80,30,30,80,80,55,30,30,55,80,55,55,55,30,80,30,55,30,80,55,30,30,80,80,80,55,30,30,55,80,30,55,30,80,30,55,30,80,30,30,55,55,30,30,80,80,80,55,30,30,55,55,80,30,80,30,55,30,30,80,80,55,55,30,30,30,80,30,30,80,80,55,30,30,55,80,55,55,55,30,80,30,55,30,80,55,30,30,80,80,80,55,30,30,55,80,30,55,30,80,30,55,30,80,30,30,55,55,30,30,80,80,80,55,30,30,55,80,30,55,30,80,30,55,30,80,30,30,55,55,30,30,80,80,80,55,30,30,55,80,30,55,30,80,30,55,30,80,30,30,55,55,30,30,80,80,80,55,30,30,55,55,80,30,80,30,55,30,30,80,80,55,55,30,30,30,80,30,30,80,80,55,30,30,55,80,55,55,55,30,80,30,55,30,80,55,30,30,80,80,80,55,30,30,55,80,30,55,30,80,30,55,30,80,30,30,55,55,30,30,80,80,80,55,30,30,55,80,30,55,30,80,30,55,30,80,30,30,55,55,30,30,80,80,80,55,30,30,55,55,80,30,80,30,55,30,30,80,80,55,55,30,30,30,80,80,80,55,30,30,55,80,30,55,30,80,30,55,30,80,30,30,55,55,30,30,80,30,30,80,80,55,30,30,55,80,55,55,30,80,30,55,30,80,55,30,30,80,80,80,55,30,30,55,55,80,30,80,30,55,30,30,80,80,55,55,30,30,30,80,80,80,55,30,30,55,55,80,30,80,30,55,30,30,80,80,55,55,30,30,30,80,30,30,80,80,55,30,30,55,80,55,55,55,30,80,30,55,30,80,55,30,30,80,30,30,80,80,55,30,30,55,80,55,55,55,30,80,30,55,30,80,55,30,30,80,80,80,55,30,30,55,55,80,30,80,30,55,30,30,80,80,55,55,30,30,30,80,80,80,55,30,30,55,80,30,55,30,80,30,55,30,80,30,30,55,55,30,30,80,80,80,55,30,30,55,80,30,55,30,80,30,55,30,80,30,30,55,55,30,30,80,80,80,55,30,30,55,55,80,30,80,30,55,30,30,80,80,55,55,30,30,30,80,80,80,55,30,30,55,80,30,55,30,80,30,55,30,80,30,30,55,55,30,30,80,80,80,55,30,30,55,55,80,30,80,30,55,30,30,80,80,55,55,30,30,30,80,80,80,55,30,30,55,55,80,30,80,30,55,30,30,80,80,55,55,30,30,30,80,80,80,55,30,30,55,80,30,55,30,80,30,55,30,80,30,30,55,55,30,30,80,30,30,55,55,55,30,30,30,80,80,55,30,30,55,80,55,55,55,30,80,30,55,30,80,55,30,30,80,80,80,55,30,30,55,80,30,55,30,80,30,55,30,80,30,30,55,55,30,30,80],\"xaxis\":\"x\",\"yaxis\":\"y\",\"type\":\"histogram\"}],                        {\"template\":{\"data\":{\"histogram2dcontour\":[{\"type\":\"histogram2dcontour\",\"colorbar\":{\"outlinewidth\":0,\"ticks\":\"\"},\"colorscale\":[[0.0,\"#0d0887\"],[0.1111111111111111,\"#46039f\"],[0.2222222222222222,\"#7201a8\"],[0.3333333333333333,\"#9c179e\"],[0.4444444444444444,\"#bd3786\"],[0.5555555555555556,\"#d8576b\"],[0.6666666666666666,\"#ed7953\"],[0.7777777777777778,\"#fb9f3a\"],[0.8888888888888888,\"#fdca26\"],[1.0,\"#f0f921\"]]}],\"choropleth\":[{\"type\":\"choropleth\",\"colorbar\":{\"outlinewidth\":0,\"ticks\":\"\"}}],\"histogram2d\":[{\"type\":\"histogram2d\",\"colorbar\":{\"outlinewidth\":0,\"ticks\":\"\"},\"colorscale\":[[0.0,\"#0d0887\"],[0.1111111111111111,\"#46039f\"],[0.2222222222222222,\"#7201a8\"],[0.3333333333333333,\"#9c179e\"],[0.4444444444444444,\"#bd3786\"],[0.5555555555555556,\"#d8576b\"],[0.6666666666666666,\"#ed7953\"],[0.7777777777777778,\"#fb9f3a\"],[0.8888888888888888,\"#fdca26\"],[1.0,\"#f0f921\"]]}],\"heatmap\":[{\"type\":\"heatmap\",\"colorbar\":{\"outlinewidth\":0,\"ticks\":\"\"},\"colorscale\":[[0.0,\"#0d0887\"],[0.1111111111111111,\"#46039f\"],[0.2222222222222222,\"#7201a8\"],[0.3333333333333333,\"#9c179e\"],[0.4444444444444444,\"#bd3786\"],[0.5555555555555556,\"#d8576b\"],[0.6666666666666666,\"#ed7953\"],[0.7777777777777778,\"#fb9f3a\"],[0.8888888888888888,\"#fdca26\"],[1.0,\"#f0f921\"]]}],\"heatmapgl\":[{\"type\":\"heatmapgl\",\"colorbar\":{\"outlinewidth\":0,\"ticks\":\"\"},\"colorscale\":[[0.0,\"#0d0887\"],[0.1111111111111111,\"#46039f\"],[0.2222222222222222,\"#7201a8\"],[0.3333333333333333,\"#9c179e\"],[0.4444444444444444,\"#bd3786\"],[0.5555555555555556,\"#d8576b\"],[0.6666666666666666,\"#ed7953\"],[0.7777777777777778,\"#fb9f3a\"],[0.8888888888888888,\"#fdca26\"],[1.0,\"#f0f921\"]]}],\"contourcarpet\":[{\"type\":\"contourcarpet\",\"colorbar\":{\"outlinewidth\":0,\"ticks\":\"\"}}],\"contour\":[{\"type\":\"contour\",\"colorbar\":{\"outlinewidth\":0,\"ticks\":\"\"},\"colorscale\":[[0.0,\"#0d0887\"],[0.1111111111111111,\"#46039f\"],[0.2222222222222222,\"#7201a8\"],[0.3333333333333333,\"#9c179e\"],[0.4444444444444444,\"#bd3786\"],[0.5555555555555556,\"#d8576b\"],[0.6666666666666666,\"#ed7953\"],[0.7777777777777778,\"#fb9f3a\"],[0.8888888888888888,\"#fdca26\"],[1.0,\"#f0f921\"]]}],\"surface\":[{\"type\":\"surface\",\"colorbar\":{\"outlinewidth\":0,\"ticks\":\"\"},\"colorscale\":[[0.0,\"#0d0887\"],[0.1111111111111111,\"#46039f\"],[0.2222222222222222,\"#7201a8\"],[0.3333333333333333,\"#9c179e\"],[0.4444444444444444,\"#bd3786\"],[0.5555555555555556,\"#d8576b\"],[0.6666666666666666,\"#ed7953\"],[0.7777777777777778,\"#fb9f3a\"],[0.8888888888888888,\"#fdca26\"],[1.0,\"#f0f921\"]]}],\"mesh3d\":[{\"type\":\"mesh3d\",\"colorbar\":{\"outlinewidth\":0,\"ticks\":\"\"}}],\"scatter\":[{\"fillpattern\":{\"fillmode\":\"overlay\",\"size\":10,\"solidity\":0.2},\"type\":\"scatter\"}],\"parcoords\":[{\"type\":\"parcoords\",\"line\":{\"colorbar\":{\"outlinewidth\":0,\"ticks\":\"\"}}}],\"scatterpolargl\":[{\"type\":\"scatterpolargl\",\"marker\":{\"colorbar\":{\"outlinewidth\":0,\"ticks\":\"\"}}}],\"bar\":[{\"error_x\":{\"color\":\"#2a3f5f\"},\"error_y\":{\"color\":\"#2a3f5f\"},\"marker\":{\"line\":{\"color\":\"#E5ECF6\",\"width\":0.5},\"pattern\":{\"fillmode\":\"overlay\",\"size\":10,\"solidity\":0.2}},\"type\":\"bar\"}],\"scattergeo\":[{\"type\":\"scattergeo\",\"marker\":{\"colorbar\":{\"outlinewidth\":0,\"ticks\":\"\"}}}],\"scatterpolar\":[{\"type\":\"scatterpolar\",\"marker\":{\"colorbar\":{\"outlinewidth\":0,\"ticks\":\"\"}}}],\"histogram\":[{\"marker\":{\"pattern\":{\"fillmode\":\"overlay\",\"size\":10,\"solidity\":0.2}},\"type\":\"histogram\"}],\"scattergl\":[{\"type\":\"scattergl\",\"marker\":{\"colorbar\":{\"outlinewidth\":0,\"ticks\":\"\"}}}],\"scatter3d\":[{\"type\":\"scatter3d\",\"line\":{\"colorbar\":{\"outlinewidth\":0,\"ticks\":\"\"}},\"marker\":{\"colorbar\":{\"outlinewidth\":0,\"ticks\":\"\"}}}],\"scattermapbox\":[{\"type\":\"scattermapbox\",\"marker\":{\"colorbar\":{\"outlinewidth\":0,\"ticks\":\"\"}}}],\"scatterternary\":[{\"type\":\"scatterternary\",\"marker\":{\"colorbar\":{\"outlinewidth\":0,\"ticks\":\"\"}}}],\"scattercarpet\":[{\"type\":\"scattercarpet\",\"marker\":{\"colorbar\":{\"outlinewidth\":0,\"ticks\":\"\"}}}],\"carpet\":[{\"aaxis\":{\"endlinecolor\":\"#2a3f5f\",\"gridcolor\":\"white\",\"linecolor\":\"white\",\"minorgridcolor\":\"white\",\"startlinecolor\":\"#2a3f5f\"},\"baxis\":{\"endlinecolor\":\"#2a3f5f\",\"gridcolor\":\"white\",\"linecolor\":\"white\",\"minorgridcolor\":\"white\",\"startlinecolor\":\"#2a3f5f\"},\"type\":\"carpet\"}],\"table\":[{\"cells\":{\"fill\":{\"color\":\"#EBF0F8\"},\"line\":{\"color\":\"white\"}},\"header\":{\"fill\":{\"color\":\"#C8D4E3\"},\"line\":{\"color\":\"white\"}},\"type\":\"table\"}],\"barpolar\":[{\"marker\":{\"line\":{\"color\":\"#E5ECF6\",\"width\":0.5},\"pattern\":{\"fillmode\":\"overlay\",\"size\":10,\"solidity\":0.2}},\"type\":\"barpolar\"}],\"pie\":[{\"automargin\":true,\"type\":\"pie\"}]},\"layout\":{\"autotypenumbers\":\"strict\",\"colorway\":[\"#636efa\",\"#EF553B\",\"#00cc96\",\"#ab63fa\",\"#FFA15A\",\"#19d3f3\",\"#FF6692\",\"#B6E880\",\"#FF97FF\",\"#FECB52\"],\"font\":{\"color\":\"#2a3f5f\"},\"hovermode\":\"closest\",\"hoverlabel\":{\"align\":\"left\"},\"paper_bgcolor\":\"white\",\"plot_bgcolor\":\"#E5ECF6\",\"polar\":{\"bgcolor\":\"#E5ECF6\",\"angularaxis\":{\"gridcolor\":\"white\",\"linecolor\":\"white\",\"ticks\":\"\"},\"radialaxis\":{\"gridcolor\":\"white\",\"linecolor\":\"white\",\"ticks\":\"\"}},\"ternary\":{\"bgcolor\":\"#E5ECF6\",\"aaxis\":{\"gridcolor\":\"white\",\"linecolor\":\"white\",\"ticks\":\"\"},\"baxis\":{\"gridcolor\":\"white\",\"linecolor\":\"white\",\"ticks\":\"\"},\"caxis\":{\"gridcolor\":\"white\",\"linecolor\":\"white\",\"ticks\":\"\"}},\"coloraxis\":{\"colorbar\":{\"outlinewidth\":0,\"ticks\":\"\"}},\"colorscale\":{\"sequential\":[[0.0,\"#0d0887\"],[0.1111111111111111,\"#46039f\"],[0.2222222222222222,\"#7201a8\"],[0.3333333333333333,\"#9c179e\"],[0.4444444444444444,\"#bd3786\"],[0.5555555555555556,\"#d8576b\"],[0.6666666666666666,\"#ed7953\"],[0.7777777777777778,\"#fb9f3a\"],[0.8888888888888888,\"#fdca26\"],[1.0,\"#f0f921\"]],\"sequentialminus\":[[0.0,\"#0d0887\"],[0.1111111111111111,\"#46039f\"],[0.2222222222222222,\"#7201a8\"],[0.3333333333333333,\"#9c179e\"],[0.4444444444444444,\"#bd3786\"],[0.5555555555555556,\"#d8576b\"],[0.6666666666666666,\"#ed7953\"],[0.7777777777777778,\"#fb9f3a\"],[0.8888888888888888,\"#fdca26\"],[1.0,\"#f0f921\"]],\"diverging\":[[0,\"#8e0152\"],[0.1,\"#c51b7d\"],[0.2,\"#de77ae\"],[0.3,\"#f1b6da\"],[0.4,\"#fde0ef\"],[0.5,\"#f7f7f7\"],[0.6,\"#e6f5d0\"],[0.7,\"#b8e186\"],[0.8,\"#7fbc41\"],[0.9,\"#4d9221\"],[1,\"#276419\"]]},\"xaxis\":{\"gridcolor\":\"white\",\"linecolor\":\"white\",\"ticks\":\"\",\"title\":{\"standoff\":15},\"zerolinecolor\":\"white\",\"automargin\":true,\"zerolinewidth\":2},\"yaxis\":{\"gridcolor\":\"white\",\"linecolor\":\"white\",\"ticks\":\"\",\"title\":{\"standoff\":15},\"zerolinecolor\":\"white\",\"automargin\":true,\"zerolinewidth\":2},\"scene\":{\"xaxis\":{\"backgroundcolor\":\"#E5ECF6\",\"gridcolor\":\"white\",\"linecolor\":\"white\",\"showbackground\":true,\"ticks\":\"\",\"zerolinecolor\":\"white\",\"gridwidth\":2},\"yaxis\":{\"backgroundcolor\":\"#E5ECF6\",\"gridcolor\":\"white\",\"linecolor\":\"white\",\"showbackground\":true,\"ticks\":\"\",\"zerolinecolor\":\"white\",\"gridwidth\":2},\"zaxis\":{\"backgroundcolor\":\"#E5ECF6\",\"gridcolor\":\"white\",\"linecolor\":\"white\",\"showbackground\":true,\"ticks\":\"\",\"zerolinecolor\":\"white\",\"gridwidth\":2}},\"shapedefaults\":{\"line\":{\"color\":\"#2a3f5f\"}},\"annotationdefaults\":{\"arrowcolor\":\"#2a3f5f\",\"arrowhead\":0,\"arrowwidth\":1},\"geo\":{\"bgcolor\":\"white\",\"landcolor\":\"#E5ECF6\",\"subunitcolor\":\"white\",\"showland\":true,\"showlakes\":true,\"lakecolor\":\"white\"},\"title\":{\"x\":0.05},\"mapbox\":{\"style\":\"light\"}}},\"xaxis\":{\"anchor\":\"y\",\"domain\":[0.0,1.0],\"title\":{\"text\":\"Temperature (F)\"}},\"yaxis\":{\"anchor\":\"x\",\"domain\":[0.0,1.0],\"title\":{\"text\":\"Count\"}},\"legend\":{\"title\":{\"text\":\"variable\"},\"tracegroupgap\":0},\"margin\":{\"t\":60},\"barmode\":\"relative\",\"title\":{\"text\":\" Temperatures count distribution \",\"x\":0.5},\"showlegend\":false},                        {\"responsive\": true}                    ).then(function(){\n",
              "                            \n",
              "var gd = document.getElementById('607f1f2b-558c-44ff-bbba-9118fd3c3322');\n",
              "var x = new MutationObserver(function (mutations, observer) {{\n",
              "        var display = window.getComputedStyle(gd).display;\n",
              "        if (!display || display === 'none') {{\n",
              "            console.log([gd, 'removed!']);\n",
              "            Plotly.purge(gd);\n",
              "            observer.disconnect();\n",
              "        }}\n",
              "}});\n",
              "\n",
              "// Listen for the removal of the full notebook cells\n",
              "var notebookContainer = gd.closest('#notebook-container');\n",
              "if (notebookContainer) {{\n",
              "    x.observe(notebookContainer, {childList: true});\n",
              "}}\n",
              "\n",
              "// Listen for the clearing of the current output cell\n",
              "var outputEl = gd.closest('.output');\n",
              "if (outputEl) {{\n",
              "    x.observe(outputEl, {childList: true});\n",
              "}}\n",
              "\n",
              "                        })                };                            </script>        </div>\n",
              "</body>\n",
              "</html>"
            ]
          },
          "metadata": {}
        },
        {
          "output_type": "display_data",
          "data": {
            "text/plain": [
              "<Figure size 640x480 with 0 Axes>"
            ]
          },
          "metadata": {}
        }
      ],
      "source": [
        "# histogram to plot temp column\n",
        "import pandas as pd\n",
        "import numpy as np\n",
        "import matplotlib.pyplot as plt\n",
        "import seaborn as sns\n",
        "import plotly.express as px\n",
        "df = pd.read_csv('/content/sample_data/coupons.csv')\n",
        "\n",
        "\n",
        "all_duplicates = df[df.duplicated(keep=False)]\n",
        "\n",
        "df = df.drop_duplicates()\n",
        "\n",
        "#remove all the null\n",
        "df_nonull = df[df[\"Bar\"].notnull() & df[\"CoffeeHouse\"].notnull() &\n",
        "                  df[\"CarryAway\"].notnull() & df[\"RestaurantLessThan20\"].notnull() &\n",
        "                 df[\"Restaurant20To50\"].notnull()]\n",
        "\n",
        "\n",
        "\n",
        "temp_histogram = px.histogram(df_nonull[\"temperature\"], nbins = 10).update_layout(xaxis_title = \"Temperature (F)\", yaxis_title = \"Count\",\n",
        "                                                                                  title = \" Temperatures count distribution \",\n",
        "                                                                                  title_x = 0.5, showlegend = False)\n",
        "\n",
        "plt.savefig('/content/sample_data/temp_histogram_graph.png')\n",
        "temp_histogram\n"
      ]
    },
    {
      "cell_type": "code",
      "execution_count": null,
      "metadata": {
        "id": "zLtOaJQk_qRI"
      },
      "outputs": [],
      "source": []
    },
    {
      "cell_type": "code",
      "execution_count": null,
      "metadata": {
        "id": "7GBHZKBp_qRJ"
      },
      "outputs": [],
      "source": []
    },
    {
      "cell_type": "code",
      "execution_count": null,
      "metadata": {
        "id": "Y5nBUA-j_qRJ"
      },
      "outputs": [],
      "source": []
    },
    {
      "cell_type": "code",
      "execution_count": null,
      "metadata": {
        "id": "ShcUC-Vm_qRJ"
      },
      "outputs": [],
      "source": []
    },
    {
      "cell_type": "markdown",
      "metadata": {
        "id": "FupfgeJk_qRJ"
      },
      "source": [
        "**Investigating the Bar Coupons**\n",
        "\n",
        "Now, we will lead you through an exploration of just the bar related coupons.  \n",
        "\n",
        "1. Create a new `DataFrame` that contains just the bar coupons.\n"
      ]
    },
    {
      "cell_type": "code",
      "execution_count": 18,
      "metadata": {
        "id": "tMBlWuGq_qRJ",
        "colab": {
          "base_uri": "https://localhost:8080/"
        },
        "outputId": "fa2097c9-b889-4596-b1d5-cc9b5e31718f"
      },
      "outputs": [
        {
          "output_type": "execute_result",
          "data": {
            "text/plain": [
              "(1906, 26)"
            ]
          },
          "metadata": {},
          "execution_count": 18
        }
      ],
      "source": [
        "# Creating a new dataframe from the original csv file filtering on bar coupon\n",
        "import pandas as pd\n",
        "import numpy as np\n",
        "import matplotlib.pyplot as plt\n",
        "import seaborn as sns\n",
        "import plotly.express as px\n",
        "df = pd.read_csv('/content/sample_data/coupons.csv')\n",
        "\n",
        "\n",
        "all_duplicates = df[df.duplicated(keep=False)]\n",
        "\n",
        "df = df.drop_duplicates()\n",
        "\n",
        "#remove all the null\n",
        "df_nonull = df[df[\"Bar\"].notnull() & df[\"CoffeeHouse\"].notnull() &\n",
        "                  df[\"CarryAway\"].notnull() & df[\"RestaurantLessThan20\"].notnull() &\n",
        "                 df[\"Restaurant20To50\"].notnull()]\n",
        "\n",
        "df_bar = df_nonull[df_nonull[\"coupon\"] == \"Bar\"]\n",
        "\n",
        "df_bar.shape"
      ]
    },
    {
      "cell_type": "markdown",
      "metadata": {
        "id": "8ue6uCqf_qRJ"
      },
      "source": [
        "2. What proportion of bar coupons were accepted?\n"
      ]
    },
    {
      "cell_type": "code",
      "execution_count": 16,
      "metadata": {
        "id": "hSdte8Mi_qRK",
        "colab": {
          "base_uri": "https://localhost:8080/"
        },
        "outputId": "9fd86111-b047-4a57-814b-40ae92f8baf6"
      },
      "outputs": [
        {
          "output_type": "execute_result",
          "data": {
            "text/plain": [
              "41.185729275970616"
            ]
          },
          "metadata": {},
          "execution_count": 16
        }
      ],
      "source": [
        "# Creating a new dataframe from the original csv file filtering on bar coupon\n",
        "import pandas as pd\n",
        "import numpy as np\n",
        "import matplotlib.pyplot as plt\n",
        "import seaborn as sns\n",
        "import plotly.express as px\n",
        "df = pd.read_csv('/content/sample_data/coupons.csv')\n",
        "\n",
        "\n",
        "all_duplicates = df[df.duplicated(keep=False)]\n",
        "\n",
        "df = df.drop_duplicates()\n",
        "\n",
        "#remove all the null\n",
        "df_nonull = df[df[\"Bar\"].notnull() & df[\"CoffeeHouse\"].notnull() &\n",
        "                  df[\"CarryAway\"].notnull() & df[\"RestaurantLessThan20\"].notnull() &\n",
        "                 df[\"Restaurant20To50\"].notnull()]\n",
        "\n",
        "df_bar = df_nonull[df_nonull[\"coupon\"] == \"Bar\"]\n",
        "\n",
        "(df_bar[df_bar[\"Y\"] == 1].shape[0] / df_bar.shape[0]) * 100"
      ]
    },
    {
      "cell_type": "markdown",
      "metadata": {
        "id": "85nA_iEi_qRK"
      },
      "source": [
        "3. Compare the acceptance rate between those who went to a bar 3 or fewer times a month to those who went more.\n"
      ]
    },
    {
      "cell_type": "markdown",
      "source": [],
      "metadata": {
        "id": "awQASfcO_YS8"
      }
    },
    {
      "cell_type": "code",
      "execution_count": 22,
      "metadata": {
        "id": "LBOrN-XM_qRK",
        "colab": {
          "base_uri": "https://localhost:8080/"
        },
        "outputId": "95d6e7fe-4c49-4f6c-d1f3-e206f65770e0"
      },
      "outputs": [
        {
          "output_type": "execute_result",
          "data": {
            "text/plain": [
              "37.244600116754235"
            ]
          },
          "metadata": {},
          "execution_count": 22
        }
      ],
      "source": [
        "# Part#1 : first determine the acceptance for less than 3 category.  Which includes 3 segemnts - never (788), less1(546), and 1~3(379) counts.\n",
        "\n",
        "import pandas as pd\n",
        "import numpy as np\n",
        "import matplotlib.pyplot as plt\n",
        "import seaborn as sns\n",
        "import plotly.express as px\n",
        "df = pd.read_csv('/content/sample_data/coupons.csv')\n",
        "\n",
        "#remove duplictes\n",
        "\n",
        "all_duplicates = df[df.duplicated(keep=False)]\n",
        "df = df.drop_duplicates()\n",
        "\n",
        "#remove all the null\n",
        "df_nonull = df[df[\"Bar\"].notnull() & df[\"CoffeeHouse\"].notnull() &\n",
        "                  df[\"CarryAway\"].notnull() & df[\"RestaurantLessThan20\"].notnull() &\n",
        "                 df[\"Restaurant20To50\"].notnull()]\n",
        "\n",
        "df_bar = df_nonull[df_nonull[\"coupon\"] == \"Bar\"]\n",
        "\n",
        "#based on the df_bar[\"Bar\"].value_counts() noted in below section include all under 3\n",
        "# creating a less than3 dataset using OR for to combine the 3 segments\n",
        "\n",
        "lessthan3_bar_acceptance = df_bar[(df_bar[\"Bar\"] == \"never\") | (df_bar[\"Bar\"] == \"less1\") | (df_bar[\"Bar\"] == \"1~3\")]\n",
        "\n",
        "(lessthan3_bar_acceptance[lessthan3_bar_acceptance[\"Y\"] == 1].shape[0] / lessthan3_bar_acceptance.shape[0]) * 100\n",
        "\n",
        "\n",
        "\n",
        "\n"
      ]
    },
    {
      "cell_type": "code",
      "source": [
        "# Part#2 :   Next- calculate the acceptance for category who went more than 3 which include 4~8 (147) and gt8(46)\n",
        "import pandas as pd\n",
        "import numpy as np\n",
        "import matplotlib.pyplot as plt\n",
        "import seaborn as sns\n",
        "import plotly.express as px\n",
        "df = pd.read_csv('/content/sample_data/coupons.csv')\n",
        "\n",
        "#remove duplictes\n",
        "\n",
        "all_duplicates = df[df.duplicated(keep=False)]\n",
        "df = df.drop_duplicates()\n",
        "\n",
        "#remove all the null\n",
        "df_nonull = df[df[\"Bar\"].notnull() & df[\"CoffeeHouse\"].notnull() &\n",
        "                  df[\"CarryAway\"].notnull() & df[\"RestaurantLessThan20\"].notnull() &\n",
        "                 df[\"Restaurant20To50\"].notnull()]\n",
        "\n",
        "df_bar = df_nonull[df_nonull[\"coupon\"] == \"Bar\"]\n",
        "\n",
        "\n",
        "#based on the df_bar[\"Bar\"].value_counts() noted in below section greater than 3 will  include 4~8 (147) and gt8(46)\n",
        "\n",
        "\n",
        "morethan3_acceptance = df_bar[(df_bar[\"Bar\"] == \"4~8\") | (df_bar[\"Bar\"] == \"gt8\")]\n",
        "\n",
        "(morethan3_acceptance[morethan3_acceptance[\"Y\"] == 1].shape[0] / morethan3_acceptance.shape[0]) * 100\n",
        "\n"
      ],
      "metadata": {
        "colab": {
          "base_uri": "https://localhost:8080/"
        },
        "id": "_SFC-cVGBOey",
        "outputId": "cc841abb-3c2c-47c1-fa9a-1326b1f618b3"
      },
      "execution_count": 25,
      "outputs": [
        {
          "output_type": "execute_result",
          "data": {
            "text/plain": [
              "76.16580310880829"
            ]
          },
          "metadata": {},
          "execution_count": 25
        }
      ]
    },
    {
      "cell_type": "markdown",
      "metadata": {
        "id": "RBgcQwH4_qRK"
      },
      "source": [
        "4. Compare the acceptance rate between drivers who go to a bar more than once a month and are over the age of 25 to the all others.  Is there a difference?\n"
      ]
    },
    {
      "cell_type": "code",
      "execution_count": 13,
      "metadata": {
        "id": "bf28bbeX_qRK",
        "colab": {
          "base_uri": "https://localhost:8080/"
        },
        "outputId": "212da2c5-4293-496b-8d9b-54dcd2fa9fd6"
      },
      "outputs": [
        {
          "output_type": "execute_result",
          "data": {
            "text/plain": [
              "68.53146853146853"
            ]
          },
          "metadata": {},
          "execution_count": 13
        }
      ],
      "source": [
        "\n",
        "import pandas as pd\n",
        "import numpy as np\n",
        "import matplotlib.pyplot as plt\n",
        "import seaborn as sns\n",
        "import plotly.express as px\n",
        "df = pd.read_csv('/content/sample_data/coupons.csv')\n",
        "\n",
        "#remove duplictes\n",
        "\n",
        "all_duplicates = df[df.duplicated(keep=False)]\n",
        "df = df.drop_duplicates()\n",
        "\n",
        "#remove all the null\n",
        "df_nonull = df[df[\"Bar\"].notnull() & df[\"CoffeeHouse\"].notnull() &\n",
        "                  df[\"CarryAway\"].notnull() & df[\"RestaurantLessThan20\"].notnull() &\n",
        "                 df[\"Restaurant20To50\"].notnull()]\n",
        "\n",
        "df_bar = df_nonull[df_nonull[\"coupon\"] == \"Bar\"]\n",
        "\n",
        "# create a datset for the bar going more than one & age > 25\n",
        "\n",
        "#morethan1_acceptance_25Plus = df_bar[((df_bar[\"Bar\"] == \"1~3\") | (df_bar[\"Bar\"] == \"4~8\") | (df_bar[\"Bar\"] == \"gt8\") ) & (df_bar[\"age\"] != \"21\") & (df_bar[\"age\"] != \"below21\")  ]\n",
        "\n",
        "morethan1_acceptance_25Plus = df_bar[((df_bar[\"Bar\"] == \"1~3\") | (df_bar[\"Bar\"] == \"4~8\") | (df_bar[\"Bar\"] == \"gt8\") )   ]\n",
        "\n",
        "#morethan1_acceptance_25Plus[\"age\"].value_counts() Verifying all are above 25\n",
        "\n",
        "\n",
        "(morethan1_acceptance_25Plus[morethan1_acceptance_25Plus[\"Y\"] == 1].shape[0] / morethan1_acceptance_25Plus.shape[0]) * 100\n"
      ]
    },
    {
      "cell_type": "code",
      "source": [
        "#objective of this code is determine aceptance rate of \"all other\"  than \"more than once a month and are over the age of 25 \" which technically is ['never' 'less1' nan ] nan are the blanks which were remove.\n",
        "import pandas as pd\n",
        "import numpy as np\n",
        "import matplotlib.pyplot as plt\n",
        "import seaborn as sns\n",
        "import plotly.express as px\n",
        "df = pd.read_csv('/content/sample_data/coupons.csv')\n",
        "\n",
        "#remove duplictes\n",
        "\n",
        "all_duplicates = df[df.duplicated(keep=False)]\n",
        "df = df.drop_duplicates()\n",
        "\n",
        "#remove all the null\n",
        "df_nonull = df[df[\"Bar\"].notnull() & df[\"CoffeeHouse\"].notnull() &\n",
        "                  df[\"CarryAway\"].notnull() & df[\"RestaurantLessThan20\"].notnull() &\n",
        "                 df[\"Restaurant20To50\"].notnull()]\n",
        "\n",
        "df_bar = df_nonull[df_nonull[\"coupon\"] == \"Bar\"]\n",
        "\n",
        "\n",
        "\n",
        "# create a datset for the bar going more than one & age > 25. Since this is a bar the below 21 group is not allowed and hence not considered.\n",
        "\n",
        "\n",
        "allother_bar = df_bar[((df_bar[\"Bar\"] == \"never\") | (df_bar[\"Bar\"] == \"less1\")  )]\n",
        "\n",
        "allother_bar_no25plus = allother_bar[(allother_bar[\"age\"] != \"21\") ]\n",
        "\n",
        "\n",
        "allother_bar_no25plus[\"age\"].value_counts()\n",
        "\n",
        "(allother_bar_no25plus[allother_bar_no25plus[\"Y\"] == 1].shape[0] / allother_bar_no25plus.shape[0]) * 100"
      ],
      "metadata": {
        "colab": {
          "base_uri": "https://localhost:8080/"
        },
        "id": "hiar3DHMhfud",
        "outputId": "84d6be9f-e266-45a4-9413-85edfa66ca1e"
      },
      "execution_count": 1,
      "outputs": [
        {
          "output_type": "execute_result",
          "data": {
            "text/plain": [
              "27.645985401459853"
            ]
          },
          "metadata": {},
          "execution_count": 1
        }
      ]
    },
    {
      "cell_type": "markdown",
      "metadata": {
        "id": "S4RKT4PJ_qRK"
      },
      "source": [
        "5. Use the same process to compare the acceptance rate between drivers who go to bars more than once a month and had passengers that were not a kid and had occupations other than farming, fishing, or forestry.\n"
      ]
    },
    {
      "cell_type": "code",
      "execution_count": 7,
      "metadata": {
        "id": "sENaI2Tg_qRK",
        "colab": {
          "base_uri": "https://localhost:8080/"
        },
        "outputId": "c812e7d4-c986-4be3-cdfd-d6ac0a816e0c"
      },
      "outputs": [
        {
          "output_type": "execute_result",
          "data": {
            "text/plain": [
              "71.42857142857143"
            ]
          },
          "metadata": {},
          "execution_count": 7
        }
      ],
      "source": [
        "#Note: I think this question is confusing. It is not worded clearly what we are comparing.\n",
        "#part1\n",
        "import pandas as pd\n",
        "import numpy as np\n",
        "import matplotlib.pyplot as plt\n",
        "import seaborn as sns\n",
        "import plotly.express as px\n",
        "df = pd.read_csv('/content/sample_data/coupons.csv')\n",
        "\n",
        "#remove duplictes\n",
        "\n",
        "all_duplicates = df[df.duplicated(keep=False)]\n",
        "df = df.drop_duplicates()\n",
        "\n",
        "#remove all the null\n",
        "df_nonull = df[df[\"Bar\"].notnull() & df[\"CoffeeHouse\"].notnull() &\n",
        "                  df[\"CarryAway\"].notnull() & df[\"RestaurantLessThan20\"].notnull() &\n",
        "                 df[\"Restaurant20To50\"].notnull()]\n",
        "\n",
        "df_bar = df_nonull[df_nonull[\"coupon\"] == \"Bar\"]\n",
        "\n",
        "\n",
        "#dataset for the\n",
        "\n",
        "\n",
        "morethan1 = df_bar[((df_bar[\"Bar\"] == \"1~3\") | (df_bar[\"Bar\"] == \"4~8\") | (df_bar[\"Bar\"] == \"gt8\") ) & (df_bar[\"age\"] != \"below21\")  ]\n",
        "\n",
        "\n",
        "# morethan1.shape = 562\n",
        "\n",
        "# create a datset for the bar going more than once and has a passanger but not a kid pasanger\n",
        "\n",
        "morethan1_nokids_noalone = df_bar[((df_bar[\"Bar\"] == \"1~3\") | (df_bar[\"Bar\"] == \"4~8\") | (df_bar[\"Bar\"] == \"gt8\") ) & (df_bar[\"passanger\"] != \"Kid(s)\")  & (df_bar[\"passanger\"] != \"Alone\") ]\n",
        "\n",
        "\n",
        " #removing farm, fish and forestry occupation\n",
        "\n",
        "morethan1_nokids_nofarmfishfore = morethan1_nokids_noalone[morethan1_nokids_noalone[\"occupation\"] != \"Farming Fishing & Forestry\"]\n",
        "\n",
        " #acceptance\n",
        "(morethan1_nokids_nofarmfishfore[morethan1_nokids_nofarmfishfore[\"Y\"] == 1].shape[0] / morethan1_nokids_nofarmfishfore.shape[0]) * 100\n",
        "\n"
      ]
    },
    {
      "cell_type": "code",
      "source": [
        "# part2: Calculating the acceptance rate for all other other then \"morethan1_nokids_nofarmfishfore\"\n",
        "import pandas as pd\n",
        "import numpy as np\n",
        "import matplotlib.pyplot as plt\n",
        "import seaborn as sns\n",
        "import plotly.express as px\n",
        "df = pd.read_csv('/content/sample_data/coupons.csv')\n",
        "\n",
        "#remove duplictes\n",
        "\n",
        "all_duplicates = df[df.duplicated(keep=False)]\n",
        "df = df.drop_duplicates()\n",
        "\n",
        "#remove all the null\n",
        "df_nonull = df[df[\"Bar\"].notnull() & df[\"CoffeeHouse\"].notnull() &\n",
        "                  df[\"CarryAway\"].notnull() & df[\"RestaurantLessThan20\"].notnull() &\n",
        "                 df[\"Restaurant20To50\"].notnull()]\n",
        "\n",
        "df_bar = df_nonull[df_nonull[\"coupon\"] == \"Bar\"]\n",
        "\n",
        "\n",
        "#dataset for the\n",
        "\n",
        "\n",
        "morethan1 = df_bar[((df_bar[\"Bar\"] == \"1~3\") | (df_bar[\"Bar\"] == \"4~8\") | (df_bar[\"Bar\"] == \"gt8\") ) & (df_bar[\"age\"] != \"below21\")  ]\n",
        "\n",
        "\n",
        "# morethan1.shape = 562\n",
        "\n",
        "# create a datset for the bar going more than once and has a passanger but not a kid pasanger\n",
        "\n",
        "morethan1_nokids_noalone = df_bar[((df_bar[\"Bar\"] == \"1~3\") | (df_bar[\"Bar\"] == \"4~8\") | (df_bar[\"Bar\"] == \"gt8\") ) & (df_bar[\"passanger\"] != \"Kid(s)\")  & (df_bar[\"passanger\"] != \"Alone\") ]\n",
        "\n",
        "\n",
        " #removing farm, fish and forestry occupation\n",
        "\n",
        "morethan1_nokids_nofarmfishfore = morethan1_nokids_noalone[morethan1_nokids_noalone[\"occupation\"] != \"Farming Fishing & Forestry\"]\n",
        "\n",
        "# clarificaiton for simplicity- lets call the above dataset - morethan1_nokids_nofarmfishfore as part1 for the below calculation\n",
        "\n",
        "allother_nopart1 = df_bar.loc[df_bar.index.difference(morethan1_nokids_nofarmfishfore, sort = False)]\n",
        "\n",
        "(allother_nopart1[allother_nopart1[\"Y\"] == 1].shape[0] / allother_nopart1.shape[0]) * 100\n"
      ],
      "metadata": {
        "colab": {
          "base_uri": "https://localhost:8080/"
        },
        "id": "vrlmiasxajl2",
        "outputId": "e6918f3a-e8f0-4e1a-fc24-9cdab76d45d8"
      },
      "execution_count": 8,
      "outputs": [
        {
          "output_type": "execute_result",
          "data": {
            "text/plain": [
              "41.185729275970616"
            ]
          },
          "metadata": {},
          "execution_count": 8
        }
      ]
    },
    {
      "cell_type": "markdown",
      "source": [],
      "metadata": {
        "id": "q9mOq4LG1LTc"
      }
    },
    {
      "cell_type": "markdown",
      "metadata": {
        "id": "n2LIUTil_qRK"
      },
      "source": [
        "6. Compare the acceptance rates between those drivers who:\n",
        "\n",
        "- go to bars more than once a month, had passengers that were not a kid, and were not widowed *OR*\n",
        "- go to bars more than once a month and are under the age of 30 *OR*\n",
        "- go to cheap restaurants more than 4 times a month and income is less than 50K.\n",
        "\n"
      ]
    },
    {
      "cell_type": "code",
      "execution_count": 10,
      "metadata": {
        "id": "aK_wEzx7_qRK",
        "colab": {
          "base_uri": "https://localhost:8080/"
        },
        "outputId": "35883b2c-ae90-47fa-e569-ccc641b35683"
      },
      "outputs": [
        {
          "output_type": "execute_result",
          "data": {
            "text/plain": [
              "56.69291338582677"
            ]
          },
          "metadata": {},
          "execution_count": 10
        }
      ],
      "source": [
        "import pandas as pd\n",
        "import numpy as np\n",
        "import matplotlib.pyplot as plt\n",
        "import seaborn as sns\n",
        "import plotly.express as px\n",
        "df = pd.read_csv('/content/sample_data/coupons.csv')\n",
        "\n",
        "#remove duplictes\n",
        "\n",
        "all_duplicates = df[df.duplicated(keep=False)]\n",
        "df = df.drop_duplicates()\n",
        "\n",
        "#remove all the null\n",
        "df_nonull = df[df[\"Bar\"].notnull() & df[\"CoffeeHouse\"].notnull() &\n",
        "                  df[\"CarryAway\"].notnull() & df[\"RestaurantLessThan20\"].notnull() &\n",
        "                 df[\"Restaurant20To50\"].notnull()]\n",
        "\n",
        "df_bar = df_nonull[df_nonull[\"coupon\"] == \"Bar\"]\n",
        "\n",
        "# part1: creating a subset as defined in the question with the 3 conditions.\n",
        "part1 = df_bar[((df_bar[\"Bar\"].isin([\"1~3\", \"4~8\", \"gt8\"])) &\n",
        "                                               (df_bar[\"passanger\"].isin([\"Friend(s)\", \"Partner\"])) &\n",
        "                                               (df_bar[\"maritalStatus\"] != \"Widowed\")) |\n",
        "\n",
        "                                              ((df_bar[\"Bar\"].isin([\"1~3\", \"4~8\", \"gt8\"])) &\n",
        "                                               (df_bar[\"age\"].isin([\"below21\", \"21\", \"26\"]))) |\n",
        "\n",
        "                                              ((df_bar[\"RestaurantLessThan20\"].isin([\"4~8\", \"gt8\"])) &\n",
        "                                               (df_bar[\"income\"].isin([\"Less than $12500\", \"$12500 - $24999\", \"$25000 - $37499\", \"$37500 - $49999\"])))]\n",
        "\n",
        "#calculate the aceptance\n",
        "\n",
        "(part1[part1[\"Y\"] == 1].shape[0] / part1.shape[0]) * 100\n",
        ""
      ]
    },
    {
      "cell_type": "code",
      "source": [
        "#part2: calculating the acceptance for remaining ( other than the dataset for the above 3 conditions)\n",
        "\n",
        "#part1 code from the above\n",
        "import pandas as pd\n",
        "import numpy as np\n",
        "import matplotlib.pyplot as plt\n",
        "import seaborn as sns\n",
        "import plotly.express as px\n",
        "df = pd.read_csv('/content/sample_data/coupons.csv')\n",
        "\n",
        "#remove duplictes\n",
        "\n",
        "all_duplicates = df[df.duplicated(keep=False)]\n",
        "df = df.drop_duplicates()\n",
        "\n",
        "#remove all the null\n",
        "df_nonull = df[df[\"Bar\"].notnull() & df[\"CoffeeHouse\"].notnull() &\n",
        "                  df[\"CarryAway\"].notnull() & df[\"RestaurantLessThan20\"].notnull() &\n",
        "                 df[\"Restaurant20To50\"].notnull()]\n",
        "\n",
        "df_bar = df_nonull[df_nonull[\"coupon\"] == \"Bar\"]\n",
        "\n",
        "# part1: creating a subset as defined in the question with the 3 conditions.\n",
        "part1 = df_bar[((df_bar[\"Bar\"].isin([\"1~3\", \"4~8\", \"gt8\"])) &\n",
        "                                               (df_bar[\"passanger\"].isin([\"Friend(s)\", \"Partner\"])) &\n",
        "                                               (df_bar[\"maritalStatus\"] != \"Widowed\")) |\n",
        "\n",
        "                                              ((df_bar[\"Bar\"].isin([\"1~3\", \"4~8\", \"gt8\"])) &\n",
        "                                               (df_bar[\"age\"].isin([\"below21\", \"21\", \"26\"]))) |\n",
        "\n",
        "                                              ((df_bar[\"RestaurantLessThan20\"].isin([\"4~8\", \"gt8\"])) &\n",
        "                                               (df_bar[\"income\"].isin([\"Less than $12500\", \"$12500 - $24999\", \"$25000 - $37499\", \"$37500 - $49999\"])))]\n",
        "\n",
        "\n",
        "part2 = df_bar.loc[df_bar.index.difference(part1, sort = False)]\n",
        "\n",
        "(part2[part2[\"Y\"] == 1].shape[0] / part2.shape[0]) * 100\n",
        "\n"
      ],
      "metadata": {
        "colab": {
          "base_uri": "https://localhost:8080/"
        },
        "id": "gIF4QGEsf6zq",
        "outputId": "29ef0e93-0c55-45fc-949b-07051c7ca404"
      },
      "execution_count": 12,
      "outputs": [
        {
          "output_type": "execute_result",
          "data": {
            "text/plain": [
              "41.185729275970616"
            ]
          },
          "metadata": {},
          "execution_count": 12
        }
      ]
    },
    {
      "cell_type": "markdown",
      "metadata": {
        "id": "v3fL3QkO_qRK"
      },
      "source": [
        "7.  Based on these observations, what do you hypothesize about drivers who accepted the bar coupons?"
      ]
    },
    {
      "cell_type": "code",
      "execution_count": null,
      "metadata": {
        "id": "Y48naDFh_qRL"
      },
      "outputs": [],
      "source": []
    },
    {
      "cell_type": "markdown",
      "source": [
        "Overall, drivers accept bar coupons less than half the time (41.2%). However, acceptance rates significantly increase with bar visitation frequency and specific demographic factors. Drivers who visit bars more than three times a month show a dramatically higher acceptance rate of 76.2%, more than double the rate of less frequent visitors (37.3%). Similarly, drivers over 25 who visit bars more than once a month exhibit a 68.3% acceptance rate, and those meeting specific criteria—frequent bar visits, no child passengers, and non-agricultural occupations—show a 71.4% acceptance rate. These findings suggest that targeting frequent bar-goers and those with certain demographic profiles can significantly increase bar coupon redemption."
      ],
      "metadata": {
        "id": "s4r7CPbFj4re"
      }
    },
    {
      "cell_type": "markdown",
      "metadata": {
        "id": "r4Hu1zOb_qRL"
      },
      "source": [
        "### Independent Investigation\n",
        "\n",
        "Using the bar coupon example as motivation, you are to explore one of the other coupon groups and try to determine the characteristics of passengers who accept the coupons.  "
      ]
    },
    {
      "cell_type": "code",
      "execution_count": 10,
      "metadata": {
        "id": "fTC2WGE3_qRL",
        "colab": {
          "base_uri": "https://localhost:8080/",
          "height": 559
        },
        "outputId": "986d1a8d-d0ad-493c-945e-622a7a82831c"
      },
      "outputs": [
        {
          "output_type": "display_data",
          "data": {
            "text/html": [
              "<html>\n",
              "<head><meta charset=\"utf-8\" /></head>\n",
              "<body>\n",
              "    <div>            <script src=\"https://cdnjs.cloudflare.com/ajax/libs/mathjax/2.7.5/MathJax.js?config=TeX-AMS-MML_SVG\"></script><script type=\"text/javascript\">if (window.MathJax && window.MathJax.Hub && window.MathJax.Hub.Config) {window.MathJax.Hub.Config({SVG: {font: \"STIX-Web\"}});}</script>                <script type=\"text/javascript\">window.PlotlyConfig = {MathJaxConfig: 'local'};</script>\n",
              "        <script charset=\"utf-8\" src=\"https://cdn.plot.ly/plotly-2.35.2.min.js\"></script>                <div id=\"f34e7f7b-9467-4bf0-a79b-9f61f1a1867b\" class=\"plotly-graph-div\" style=\"height:525px; width:100%;\"></div>            <script type=\"text/javascript\">                                    window.PLOTLYENV=window.PLOTLYENV || {};                                    if (document.getElementById(\"f34e7f7b-9467-4bf0-a79b-9f61f1a1867b\")) {                    Plotly.newPlot(                        \"f34e7f7b-9467-4bf0-a79b-9f61f1a1867b\",                        [{\"alignmentgroup\":\"True\",\"bingroup\":\"x\",\"hovertemplate\":\"variable=income\\u003cbr\\u003evalue=%{x}\\u003cbr\\u003ecount=%{y}\\u003cextra\\u003e\\u003c\\u002fextra\\u003e\",\"legendgroup\":\"income\",\"marker\":{\"color\":\"#636efa\",\"pattern\":{\"shape\":\"\"}},\"name\":\"income\",\"nbinsx\":10,\"offsetgroup\":\"income\",\"orientation\":\"v\",\"showlegend\":true,\"x\":[\"$12500 - $24999\",\"$12500 - $24999\",\"$12500 - $24999\",\"$12500 - $24999\",\"$12500 - $24999\",\"$75000 - $87499\",\"$75000 - $87499\",\"$75000 - $87499\",\"$75000 - $87499\",\"$12500 - $24999\",\"$12500 - $24999\",\"$12500 - $24999\",\"$12500 - $24999\",\"$12500 - $24999\",\"$12500 - $24999\",\"$12500 - $24999\",\"$12500 - $24999\",\"$12500 - $24999\",\"$12500 - $24999\",\"$50000 - $62499\",\"$50000 - $62499\",\"$50000 - $62499\",\"$50000 - $62499\",\"$50000 - $62499\",\"$62500 - $74999\",\"$62500 - $74999\",\"$62500 - $74999\",\"$37500 - $49999\",\"$37500 - $49999\",\"$25000 - $37499\",\"$25000 - $37499\",\"$25000 - $37499\",\"$25000 - $37499\",\"$25000 - $37499\",\"$25000 - $37499\",\"$25000 - $37499\",\"$87500 - $99999\",\"$87500 - $99999\",\"$87500 - $99999\",\"$87500 - $99999\",\"$87500 - $99999\",\"$87500 - $99999\",\"Less than $12500\",\"Less than $12500\",\"Less than $12500\",\"Less than $12500\",\"Less than $12500\",\"Less than $12500\",\"$62500 - $74999\",\"$62500 - $74999\",\"$12500 - $24999\",\"$12500 - $24999\",\"$12500 - $24999\",\"$12500 - $24999\",\"$12500 - $24999\",\"$12500 - $24999\",\"$12500 - $24999\",\"$50000 - $62499\",\"$75000 - $87499\",\"$75000 - $87499\",\"$75000 - $87499\",\"$75000 - $87499\",\"$75000 - $87499\",\"$100000 or More\",\"$100000 or More\",\"$100000 or More\",\"$37500 - $49999\",\"$37500 - $49999\",\"$37500 - $49999\",\"$50000 - $62499\",\"$50000 - $62499\",\"$50000 - $62499\",\"$50000 - $62499\",\"$50000 - $62499\",\"$50000 - $62499\",\"$50000 - $62499\",\"$50000 - $62499\",\"$50000 - $62499\",\"$50000 - $62499\",\"$50000 - $62499\",\"$50000 - $62499\",\"$50000 - $62499\",\"$50000 - $62499\",\"$50000 - $62499\",\"$87500 - $99999\",\"$87500 - $99999\",\"$87500 - $99999\",\"$87500 - $99999\",\"$87500 - $99999\",\"$87500 - $99999\",\"$87500 - $99999\",\"$87500 - $99999\",\"$87500 - $99999\",\"$100000 or More\",\"$100000 or More\",\"$100000 or More\",\"$100000 or More\",\"$37500 - $49999\",\"$37500 - $49999\",\"$37500 - $49999\",\"$37500 - $49999\",\"$37500 - $49999\",\"$37500 - $49999\",\"$37500 - $49999\",\"$37500 - $49999\",\"$37500 - $49999\",\"$37500 - $49999\",\"$37500 - $49999\",\"$37500 - $49999\",\"$37500 - $49999\",\"$25000 - $37499\",\"$25000 - $37499\",\"$25000 - $37499\",\"$25000 - $37499\",\"$25000 - $37499\",\"$25000 - $37499\",\"$25000 - $37499\",\"$25000 - $37499\",\"$25000 - $37499\",\"$25000 - $37499\",\"$25000 - $37499\",\"$50000 - $62499\",\"$37500 - $49999\",\"$37500 - $49999\",\"$37500 - $49999\",\"$37500 - $49999\",\"$37500 - $49999\",\"$25000 - $37499\",\"$25000 - $37499\",\"$25000 - $37499\",\"$25000 - $37499\",\"$25000 - $37499\",\"$25000 - $37499\",\"$25000 - $37499\",\"$25000 - $37499\",\"$25000 - $37499\",\"$25000 - $37499\",\"$25000 - $37499\",\"$25000 - $37499\",\"$25000 - $37499\",\"$25000 - $37499\",\"$25000 - $37499\",\"$62500 - $74999\",\"$62500 - $74999\",\"$62500 - $74999\",\"$62500 - $74999\",\"$62500 - $74999\",\"$87500 - $99999\",\"$87500 - $99999\",\"$50000 - $62499\",\"$50000 - $62499\",\"$50000 - $62499\",\"$37500 - $49999\",\"$37500 - $49999\",\"$37500 - $49999\",\"$37500 - $49999\",\"$37500 - $49999\",\"$37500 - $49999\",\"$50000 - $62499\",\"$50000 - $62499\",\"$50000 - $62499\",\"$50000 - $62499\",\"$50000 - $62499\",\"$50000 - $62499\",\"$75000 - $87499\",\"$75000 - $87499\",\"$75000 - $87499\",\"$75000 - $87499\",\"$75000 - $87499\",\"$87500 - $99999\",\"$87500 - $99999\",\"$87500 - $99999\",\"$87500 - $99999\",\"$25000 - $37499\",\"$12500 - $24999\",\"$12500 - $24999\",\"$12500 - $24999\",\"$75000 - $87499\",\"$75000 - $87499\",\"$75000 - $87499\",\"$25000 - $37499\",\"$75000 - $87499\",\"$75000 - $87499\",\"$75000 - $87499\",\"$87500 - $99999\",\"$87500 - $99999\",\"$87500 - $99999\",\"$87500 - $99999\",\"$100000 or More\",\"$100000 or More\",\"$100000 or More\",\"$100000 or More\",\"$62500 - $74999\",\"$62500 - $74999\",\"$62500 - $74999\",\"$62500 - $74999\",\"$62500 - $74999\",\"$62500 - $74999\",\"$62500 - $74999\",\"$12500 - $24999\",\"$12500 - $24999\",\"$12500 - $24999\",\"$12500 - $24999\",\"$12500 - $24999\",\"Less than $12500\",\"Less than $12500\",\"$50000 - $62499\",\"$37500 - $49999\",\"$37500 - $49999\",\"$37500 - $49999\",\"$37500 - $49999\",\"$37500 - $49999\",\"$37500 - $49999\",\"$37500 - $49999\",\"$37500 - $49999\",\"$37500 - $49999\",\"$37500 - $49999\",\"$37500 - $49999\",\"$37500 - $49999\",\"$50000 - $62499\",\"$50000 - $62499\",\"$50000 - $62499\",\"$50000 - $62499\",\"$50000 - $62499\",\"$50000 - $62499\",\"$50000 - $62499\",\"$50000 - $62499\",\"$50000 - $62499\",\"$50000 - $62499\",\"$50000 - $62499\",\"$50000 - $62499\",\"$50000 - $62499\",\"$12500 - $24999\",\"$12500 - $24999\",\"$12500 - $24999\",\"$12500 - $24999\",\"$12500 - $24999\",\"$87500 - $99999\",\"$87500 - $99999\",\"$87500 - $99999\",\"$87500 - $99999\",\"$87500 - $99999\",\"$87500 - $99999\",\"$37500 - $49999\",\"$37500 - $49999\",\"$37500 - $49999\",\"$37500 - $49999\",\"$37500 - $49999\",\"$37500 - $49999\",\"$100000 or More\",\"$100000 or More\",\"$100000 or More\",\"$12500 - $24999\",\"$12500 - $24999\",\"$12500 - $24999\",\"$12500 - $24999\",\"$12500 - $24999\",\"$12500 - $24999\",\"$12500 - $24999\",\"$100000 or More\",\"$100000 or More\",\"$100000 or More\",\"$100000 or More\",\"$100000 or More\",\"$100000 or More\",\"$100000 or More\",\"$37500 - $49999\",\"$37500 - $49999\",\"$37500 - $49999\",\"$37500 - $49999\",\"$37500 - $49999\",\"$37500 - $49999\",\"$37500 - $49999\",\"$37500 - $49999\",\"$37500 - $49999\",\"$37500 - $49999\",\"$37500 - $49999\",\"$37500 - $49999\",\"$37500 - $49999\",\"$37500 - $49999\",\"$37500 - $49999\",\"$100000 or More\",\"$100000 or More\",\"$100000 or More\",\"$100000 or More\",\"$100000 or More\",\"$100000 or More\",\"$50000 - $62499\",\"$50000 - $62499\",\"$25000 - $37499\",\"$25000 - $37499\",\"$25000 - $37499\",\"$25000 - $37499\",\"$25000 - $37499\",\"$25000 - $37499\",\"$25000 - $37499\",\"$25000 - $37499\",\"$12500 - $24999\",\"$12500 - $24999\",\"$12500 - $24999\",\"$12500 - $24999\",\"$87500 - $99999\",\"$87500 - $99999\",\"$87500 - $99999\",\"$87500 - $99999\",\"$87500 - $99999\",\"$87500 - $99999\",\"$50000 - $62499\",\"$50000 - $62499\",\"$12500 - $24999\",\"$12500 - $24999\",\"$12500 - $24999\",\"$12500 - $24999\",\"$12500 - $24999\",\"$12500 - $24999\",\"$12500 - $24999\",\"$12500 - $24999\",\"$12500 - $24999\",\"$12500 - $24999\",\"$50000 - $62499\",\"$50000 - $62499\",\"$50000 - $62499\",\"$50000 - $62499\",\"$50000 - $62499\",\"$50000 - $62499\",\"$12500 - $24999\",\"$12500 - $24999\",\"$12500 - $24999\",\"$12500 - $24999\",\"$12500 - $24999\",\"$12500 - $24999\",\"$12500 - $24999\",\"$12500 - $24999\",\"Less than $12500\",\"Less than $12500\",\"Less than $12500\",\"Less than $12500\",\"Less than $12500\",\"Less than $12500\",\"$25000 - $37499\",\"$25000 - $37499\",\"$25000 - $37499\",\"$25000 - $37499\",\"$25000 - $37499\",\"$25000 - $37499\",\"$25000 - $37499\",\"$25000 - $37499\",\"$50000 - $62499\",\"$75000 - $87499\",\"$75000 - $87499\",\"$50000 - $62499\",\"$50000 - $62499\",\"$50000 - $62499\",\"$50000 - $62499\",\"$50000 - $62499\",\"$100000 or More\",\"$25000 - $37499\",\"$25000 - $37499\",\"$25000 - $37499\",\"$50000 - $62499\",\"$50000 - $62499\",\"$50000 - $62499\",\"$12500 - $24999\",\"$12500 - $24999\",\"$12500 - $24999\",\"Less than $12500\",\"Less than $12500\",\"Less than $12500\",\"Less than $12500\",\"Less than $12500\",\"Less than $12500\",\"Less than $12500\",\"Less than $12500\",\"Less than $12500\",\"Less than $12500\",\"Less than $12500\",\"Less than $12500\",\"Less than $12500\",\"Less than $12500\",\"Less than $12500\",\"$100000 or More\",\"$100000 or More\",\"$100000 or More\",\"$100000 or More\",\"$100000 or More\",\"$100000 or More\",\"$100000 or More\",\"$100000 or More\",\"$100000 or More\",\"$100000 or More\",\"$100000 or More\",\"$100000 or More\",\"$100000 or More\",\"$100000 or More\",\"$12500 - $24999\",\"$12500 - $24999\",\"$100000 or More\",\"$100000 or More\",\"$12500 - $24999\",\"$25000 - $37499\",\"$25000 - $37499\",\"$25000 - $37499\",\"$25000 - $37499\",\"$25000 - $37499\",\"$25000 - $37499\",\"$50000 - $62499\",\"$50000 - $62499\",\"$50000 - $62499\",\"$50000 - $62499\",\"$50000 - $62499\",\"$50000 - $62499\",\"$25000 - $37499\",\"$50000 - $62499\",\"$50000 - $62499\",\"$12500 - $24999\",\"$12500 - $24999\",\"$12500 - $24999\",\"$12500 - $24999\",\"$12500 - $24999\",\"$12500 - $24999\",\"$12500 - $24999\",\"$12500 - $24999\",\"$12500 - $24999\",\"$12500 - $24999\",\"$12500 - $24999\",\"$12500 - $24999\",\"$12500 - $24999\",\"$12500 - $24999\",\"$12500 - $24999\",\"$12500 - $24999\",\"$12500 - $24999\",\"$12500 - $24999\",\"$12500 - $24999\",\"$75000 - $87499\",\"$100000 or More\",\"$100000 or More\",\"$100000 or More\",\"$100000 or More\",\"$100000 or More\",\"$100000 or More\",\"$100000 or More\",\"$100000 or More\",\"$100000 or More\",\"$12500 - $24999\",\"$12500 - $24999\",\"$12500 - $24999\",\"$12500 - $24999\",\"$12500 - $24999\",\"$12500 - $24999\",\"$37500 - $49999\",\"$37500 - $49999\",\"$37500 - $49999\",\"$37500 - $49999\",\"$37500 - $49999\",\"$37500 - $49999\",\"$37500 - $49999\",\"$37500 - $49999\",\"$37500 - $49999\",\"$37500 - $49999\",\"$25000 - $37499\",\"$12500 - $24999\",\"$12500 - $24999\",\"$12500 - $24999\",\"$12500 - $24999\",\"$12500 - $24999\",\"$12500 - $24999\",\"$12500 - $24999\",\"$100000 or More\",\"$100000 or More\",\"$100000 or More\",\"$100000 or More\",\"$37500 - $49999\",\"$37500 - $49999\",\"$37500 - $49999\",\"$37500 - $49999\",\"$37500 - $49999\",\"$37500 - $49999\",\"$50000 - $62499\",\"$50000 - $62499\",\"$50000 - $62499\",\"$50000 - $62499\",\"$50000 - $62499\",\"$50000 - $62499\",\"$50000 - $62499\",\"$100000 or More\",\"$100000 or More\",\"$100000 or More\",\"$87500 - $99999\",\"$87500 - $99999\",\"$87500 - $99999\",\"Less than $12500\",\"Less than $12500\",\"Less than $12500\",\"Less than $12500\",\"Less than $12500\",\"Less than $12500\",\"Less than $12500\",\"Less than $12500\",\"$50000 - $62499\",\"$50000 - $62499\",\"$50000 - $62499\",\"$50000 - $62499\",\"$50000 - $62499\",\"$50000 - $62499\",\"$50000 - $62499\",\"$50000 - $62499\",\"$50000 - $62499\",\"$62500 - $74999\",\"$62500 - $74999\",\"$62500 - $74999\",\"$25000 - $37499\",\"$25000 - $37499\",\"$25000 - $37499\",\"$25000 - $37499\",\"$25000 - $37499\",\"$25000 - $37499\",\"$25000 - $37499\",\"$25000 - $37499\",\"$25000 - $37499\",\"$25000 - $37499\",\"$25000 - $37499\",\"$25000 - $37499\",\"$37500 - $49999\",\"$37500 - $49999\",\"$37500 - $49999\",\"$37500 - $49999\",\"$37500 - $49999\",\"$37500 - $49999\",\"$25000 - $37499\",\"$25000 - $37499\",\"$25000 - $37499\",\"$25000 - $37499\",\"$75000 - $87499\",\"$75000 - $87499\",\"$75000 - $87499\",\"$75000 - $87499\",\"$37500 - $49999\",\"$37500 - $49999\",\"$87500 - $99999\",\"$87500 - $99999\",\"$87500 - $99999\",\"$87500 - $99999\",\"$87500 - $99999\",\"$87500 - $99999\",\"$12500 - $24999\",\"$62500 - $74999\",\"$62500 - $74999\",\"$62500 - $74999\",\"$100000 or More\",\"$25000 - $37499\",\"$25000 - $37499\",\"$25000 - $37499\",\"$25000 - $37499\",\"$25000 - $37499\",\"$25000 - $37499\",\"$25000 - $37499\",\"$25000 - $37499\",\"$25000 - $37499\",\"$25000 - $37499\",\"$25000 - $37499\",\"$25000 - $37499\",\"$25000 - $37499\",\"$25000 - $37499\",\"$100000 or More\",\"$100000 or More\",\"$100000 or More\",\"$100000 or More\",\"$50000 - $62499\",\"$50000 - $62499\",\"$50000 - $62499\",\"$50000 - $62499\",\"$100000 or More\",\"$100000 or More\",\"$62500 - $74999\",\"$12500 - $24999\",\"$12500 - $24999\",\"$12500 - $24999\",\"$12500 - $24999\",\"$12500 - $24999\",\"$12500 - $24999\",\"$12500 - $24999\",\"$37500 - $49999\",\"$37500 - $49999\",\"$37500 - $49999\",\"$25000 - $37499\",\"$25000 - $37499\",\"$25000 - $37499\",\"$25000 - $37499\",\"$25000 - $37499\",\"$25000 - $37499\",\"$37500 - $49999\",\"$37500 - $49999\",\"$37500 - $49999\",\"$37500 - $49999\",\"$37500 - $49999\",\"$37500 - $49999\",\"$100000 or More\",\"$100000 or More\",\"$100000 or More\",\"$100000 or More\",\"$100000 or More\",\"$25000 - $37499\",\"$25000 - $37499\",\"$25000 - $37499\",\"$25000 - $37499\",\"Less than $12500\",\"Less than $12500\",\"Less than $12500\",\"Less than $12500\",\"Less than $12500\",\"Less than $12500\",\"Less than $12500\",\"Less than $12500\",\"$100000 or More\",\"$100000 or More\",\"$100000 or More\",\"$100000 or More\",\"$100000 or More\",\"$100000 or More\",\"$87500 - $99999\",\"$62500 - $74999\",\"$62500 - $74999\",\"$62500 - $74999\",\"$62500 - $74999\",\"$62500 - $74999\",\"$62500 - $74999\",\"$62500 - $74999\",\"$62500 - $74999\",\"$62500 - $74999\",\"$12500 - $24999\",\"$12500 - $24999\",\"$12500 - $24999\",\"$12500 - $24999\",\"$12500 - $24999\",\"$12500 - $24999\",\"$37500 - $49999\",\"$37500 - $49999\",\"$37500 - $49999\",\"$37500 - $49999\",\"$37500 - $49999\",\"$12500 - $24999\",\"$12500 - $24999\",\"$12500 - $24999\",\"$12500 - $24999\",\"$12500 - $24999\",\"$12500 - $24999\",\"$25000 - $37499\",\"$25000 - $37499\",\"$25000 - $37499\",\"$25000 - $37499\",\"$25000 - $37499\",\"$25000 - $37499\",\"$25000 - $37499\",\"$25000 - $37499\",\"$25000 - $37499\",\"$25000 - $37499\",\"$25000 - $37499\",\"$62500 - $74999\",\"$62500 - $74999\",\"$62500 - $74999\",\"$25000 - $37499\",\"$25000 - $37499\",\"$25000 - $37499\",\"$25000 - $37499\",\"$25000 - $37499\",\"$25000 - $37499\",\"$25000 - $37499\",\"$25000 - $37499\",\"$100000 or More\",\"$100000 or More\",\"$100000 or More\",\"$100000 or More\",\"$100000 or More\",\"$25000 - $37499\",\"$25000 - $37499\",\"$12500 - $24999\",\"$12500 - $24999\",\"$12500 - $24999\",\"$12500 - $24999\",\"$12500 - $24999\",\"$12500 - $24999\",\"$12500 - $24999\",\"$12500 - $24999\",\"$100000 or More\",\"$100000 or More\",\"$100000 or More\",\"$100000 or More\",\"$100000 or More\",\"$100000 or More\",\"$100000 or More\",\"$87500 - $99999\",\"$87500 - $99999\",\"$87500 - $99999\",\"$87500 - $99999\",\"$87500 - $99999\",\"$87500 - $99999\",\"$87500 - $99999\",\"$87500 - $99999\",\"$87500 - $99999\",\"Less than $12500\",\"$100000 or More\",\"$100000 or More\",\"$100000 or More\",\"$100000 or More\",\"$100000 or More\",\"$100000 or More\",\"$100000 or More\",\"$100000 or More\",\"$100000 or More\",\"$100000 or More\",\"Less than $12500\",\"$37500 - $49999\",\"$37500 - $49999\",\"$37500 - $49999\",\"$37500 - $49999\",\"$37500 - $49999\",\"$25000 - $37499\",\"$25000 - $37499\",\"$25000 - $37499\",\"$25000 - $37499\",\"$25000 - $37499\",\"$25000 - $37499\",\"$25000 - $37499\",\"$25000 - $37499\",\"$100000 or More\",\"$100000 or More\",\"$100000 or More\",\"$12500 - $24999\",\"$12500 - $24999\",\"$12500 - $24999\",\"$12500 - $24999\",\"$12500 - $24999\",\"$12500 - $24999\",\"$12500 - $24999\",\"$12500 - $24999\",\"$12500 - $24999\",\"$12500 - $24999\",\"$25000 - $37499\",\"$25000 - $37499\",\"$37500 - $49999\",\"Less than $12500\",\"Less than $12500\",\"Less than $12500\",\"Less than $12500\",\"Less than $12500\",\"Less than $12500\",\"$37500 - $49999\",\"$37500 - $49999\",\"$12500 - $24999\",\"$12500 - $24999\",\"$12500 - $24999\",\"$12500 - $24999\",\"$12500 - $24999\",\"$12500 - $24999\",\"$12500 - $24999\",\"$12500 - $24999\",\"$12500 - $24999\",\"$12500 - $24999\",\"$25000 - $37499\",\"$25000 - $37499\",\"$25000 - $37499\",\"$25000 - $37499\",\"$25000 - $37499\",\"$25000 - $37499\",\"$25000 - $37499\",\"$62500 - $74999\",\"$62500 - $74999\",\"$62500 - $74999\",\"$62500 - $74999\",\"$62500 - $74999\",\"$62500 - $74999\",\"$62500 - $74999\",\"$62500 - $74999\",\"$37500 - $49999\",\"$37500 - $49999\",\"$37500 - $49999\",\"$37500 - $49999\",\"$37500 - $49999\",\"$37500 - $49999\",\"$37500 - $49999\",\"$37500 - $49999\",\"$37500 - $49999\",\"$37500 - $49999\",\"$37500 - $49999\",\"$37500 - $49999\",\"$37500 - $49999\",\"$37500 - $49999\",\"$37500 - $49999\",\"$37500 - $49999\",\"$37500 - $49999\",\"$37500 - $49999\",\"$37500 - $49999\",\"$25000 - $37499\",\"$25000 - $37499\",\"$25000 - $37499\",\"$25000 - $37499\",\"$25000 - $37499\",\"$25000 - $37499\",\"$37500 - $49999\",\"$37500 - $49999\",\"$37500 - $49999\",\"$37500 - $49999\",\"$25000 - $37499\",\"$25000 - $37499\",\"$25000 - $37499\",\"$25000 - $37499\",\"$25000 - $37499\",\"$25000 - $37499\",\"$25000 - $37499\",\"$37500 - $49999\",\"$50000 - $62499\",\"$50000 - $62499\",\"$50000 - $62499\",\"$50000 - $62499\",\"$50000 - $62499\",\"$50000 - $62499\",\"$37500 - $49999\",\"$37500 - $49999\",\"$37500 - $49999\",\"$37500 - $49999\",\"$37500 - $49999\",\"$37500 - $49999\",\"$37500 - $49999\",\"$37500 - $49999\",\"$50000 - $62499\",\"$50000 - $62499\",\"$50000 - $62499\",\"$50000 - $62499\",\"$50000 - $62499\",\"$50000 - $62499\",\"$50000 - $62499\",\"$12500 - $24999\",\"$12500 - $24999\",\"$12500 - $24999\",\"$12500 - $24999\",\"$62500 - $74999\",\"$62500 - $74999\",\"$62500 - $74999\",\"$62500 - $74999\",\"$62500 - $74999\",\"$62500 - $74999\",\"$62500 - $74999\",\"$62500 - $74999\",\"$12500 - $24999\",\"$12500 - $24999\",\"$12500 - $24999\",\"$12500 - $24999\",\"$12500 - $24999\",\"$12500 - $24999\",\"$12500 - $24999\",\"$12500 - $24999\",\"$12500 - $24999\",\"$100000 or More\",\"$100000 or More\",\"$100000 or More\",\"$100000 or More\",\"$100000 or More\",\"$100000 or More\",\"$100000 or More\",\"$100000 or More\",\"$100000 or More\",\"$50000 - $62499\",\"$12500 - $24999\",\"$12500 - $24999\",\"$12500 - $24999\",\"$12500 - $24999\",\"$12500 - $24999\",\"$12500 - $24999\",\"$12500 - $24999\",\"$12500 - $24999\",\"$12500 - $24999\",\"$12500 - $24999\",\"$12500 - $24999\",\"$12500 - $24999\",\"$12500 - $24999\",\"$25000 - $37499\",\"$25000 - $37499\",\"$25000 - $37499\",\"$25000 - $37499\",\"$25000 - $37499\",\"$25000 - $37499\",\"$25000 - $37499\",\"$25000 - $37499\",\"$25000 - $37499\",\"$25000 - $37499\",\"$25000 - $37499\",\"$25000 - $37499\",\"$25000 - $37499\",\"$25000 - $37499\",\"$25000 - $37499\",\"$50000 - $62499\",\"$50000 - $62499\",\"$100000 or More\",\"$100000 or More\",\"$100000 or More\",\"$100000 or More\",\"$100000 or More\",\"$100000 or More\",\"$100000 or More\",\"$100000 or More\",\"$25000 - $37499\",\"$25000 - $37499\",\"$25000 - $37499\",\"$25000 - $37499\",\"$25000 - $37499\",\"$62500 - $74999\",\"$62500 - $74999\",\"$62500 - $74999\",\"$62500 - $74999\",\"$62500 - $74999\",\"$62500 - $74999\",\"$62500 - $74999\",\"$62500 - $74999\",\"$62500 - $74999\",\"$12500 - $24999\",\"$12500 - $24999\",\"$12500 - $24999\",\"$12500 - $24999\",\"$12500 - $24999\",\"$12500 - $24999\",\"$12500 - $24999\",\"$25000 - $37499\",\"$25000 - $37499\",\"$25000 - $37499\",\"$25000 - $37499\",\"$25000 - $37499\",\"$25000 - $37499\",\"$25000 - $37499\",\"$25000 - $37499\",\"$12500 - $24999\",\"$12500 - $24999\",\"$12500 - $24999\",\"$100000 or More\",\"$100000 or More\",\"$100000 or More\",\"$100000 or More\",\"$100000 or More\",\"$50000 - $62499\",\"$50000 - $62499\",\"$50000 - $62499\",\"$50000 - $62499\",\"$50000 - $62499\",\"Less than $12500\",\"Less than $12500\",\"$75000 - $87499\",\"$37500 - $49999\",\"$25000 - $37499\",\"$25000 - $37499\",\"$25000 - $37499\",\"$25000 - $37499\",\"$25000 - $37499\",\"$25000 - $37499\",\"$25000 - $37499\",\"$25000 - $37499\",\"$25000 - $37499\",\"$87500 - $99999\",\"$87500 - $99999\",\"Less than $12500\",\"Less than $12500\",\"Less than $12500\",\"Less than $12500\",\"Less than $12500\",\"Less than $12500\",\"$37500 - $49999\",\"$37500 - $49999\",\"$37500 - $49999\",\"$37500 - $49999\",\"$37500 - $49999\",\"$25000 - $37499\",\"$25000 - $37499\",\"$25000 - $37499\",\"$25000 - $37499\",\"$25000 - $37499\",\"$25000 - $37499\",\"$50000 - $62499\",\"$50000 - $62499\",\"$50000 - $62499\",\"$50000 - $62499\",\"$50000 - $62499\",\"$50000 - $62499\",\"$50000 - $62499\",\"$62500 - $74999\",\"$62500 - $74999\",\"$62500 - $74999\",\"$62500 - $74999\",\"$62500 - $74999\",\"$62500 - $74999\",\"$62500 - $74999\",\"$62500 - $74999\",\"$62500 - $74999\",\"$62500 - $74999\",\"$100000 or More\",\"$100000 or More\",\"$100000 or More\",\"$100000 or More\",\"$50000 - $62499\",\"$50000 - $62499\",\"$50000 - $62499\",\"$50000 - $62499\",\"$50000 - $62499\",\"$50000 - $62499\",\"$50000 - $62499\",\"$50000 - $62499\",\"$50000 - $62499\",\"$25000 - $37499\",\"$25000 - $37499\",\"$25000 - $37499\",\"$87500 - $99999\",\"$87500 - $99999\",\"$87500 - $99999\",\"$87500 - $99999\",\"$87500 - $99999\",\"$87500 - $99999\",\"$37500 - $49999\",\"$37500 - $49999\",\"$37500 - $49999\",\"$37500 - $49999\",\"$37500 - $49999\",\"$37500 - $49999\",\"$50000 - $62499\",\"$87500 - $99999\",\"$87500 - $99999\",\"$87500 - $99999\",\"$87500 - $99999\",\"$87500 - $99999\",\"$87500 - $99999\",\"$87500 - $99999\",\"$87500 - $99999\",\"$87500 - $99999\",\"Less than $12500\",\"Less than $12500\",\"Less than $12500\",\"Less than $12500\",\"Less than $12500\",\"Less than $12500\",\"Less than $12500\",\"Less than $12500\",\"$100000 or More\",\"$100000 or More\",\"$100000 or More\",\"$100000 or More\",\"$100000 or More\",\"$100000 or More\",\"$100000 or More\",\"$100000 or More\",\"$100000 or More\",\"$37500 - $49999\",\"$37500 - $49999\",\"Less than $12500\",\"Less than $12500\",\"Less than $12500\",\"Less than $12500\",\"Less than $12500\",\"$37500 - $49999\",\"$37500 - $49999\",\"$37500 - $49999\",\"$37500 - $49999\",\"$37500 - $49999\",\"$37500 - $49999\",\"$37500 - $49999\",\"$37500 - $49999\",\"Less than $12500\",\"Less than $12500\",\"Less than $12500\",\"Less than $12500\",\"Less than $12500\",\"Less than $12500\",\"Less than $12500\",\"Less than $12500\",\"Less than $12500\",\"Less than $12500\",\"Less than $12500\",\"$50000 - $62499\",\"$50000 - $62499\",\"$50000 - $62499\",\"$50000 - $62499\",\"$50000 - $62499\",\"$50000 - $62499\",\"$50000 - $62499\",\"$50000 - $62499\",\"$50000 - $62499\",\"$50000 - $62499\",\"$25000 - $37499\",\"$25000 - $37499\",\"$25000 - $37499\",\"$25000 - $37499\",\"$25000 - $37499\",\"$25000 - $37499\",\"$12500 - $24999\",\"$12500 - $24999\",\"$12500 - $24999\",\"$12500 - $24999\",\"$12500 - $24999\",\"$12500 - $24999\",\"$12500 - $24999\",\"$62500 - $74999\",\"$62500 - $74999\",\"$62500 - $74999\",\"$62500 - $74999\",\"$12500 - $24999\",\"$12500 - $24999\",\"$12500 - $24999\",\"$12500 - $24999\",\"$12500 - $24999\",\"$12500 - $24999\",\"$37500 - $49999\",\"$37500 - $49999\",\"$37500 - $49999\",\"$37500 - $49999\",\"$37500 - $49999\",\"$37500 - $49999\",\"$37500 - $49999\",\"$37500 - $49999\",\"$100000 or More\",\"$100000 or More\",\"$100000 or More\",\"$100000 or More\",\"$100000 or More\",\"$62500 - $74999\",\"$62500 - $74999\",\"$62500 - $74999\",\"$62500 - $74999\",\"$62500 - $74999\",\"$12500 - $24999\",\"$50000 - $62499\",\"$50000 - $62499\",\"$50000 - $62499\",\"$50000 - $62499\",\"$50000 - $62499\",\"$50000 - $62499\",\"$50000 - $62499\",\"$50000 - $62499\",\"$50000 - $62499\",\"$50000 - $62499\",\"$50000 - $62499\",\"$62500 - $74999\",\"$62500 - $74999\",\"$62500 - $74999\",\"$12500 - $24999\",\"$12500 - $24999\",\"$12500 - $24999\",\"$100000 or More\",\"$100000 or More\",\"$100000 or More\",\"$100000 or More\",\"$100000 or More\",\"$100000 or More\",\"$100000 or More\",\"$100000 or More\",\"$100000 or More\",\"$100000 or More\",\"Less than $12500\",\"Less than $12500\",\"Less than $12500\",\"Less than $12500\",\"Less than $12500\",\"Less than $12500\",\"Less than $12500\",\"$37500 - $49999\",\"$37500 - $49999\",\"$37500 - $49999\",\"$37500 - $49999\",\"$37500 - $49999\",\"$37500 - $49999\",\"$37500 - $49999\",\"$37500 - $49999\",\"$37500 - $49999\",\"$37500 - $49999\",\"Less than $12500\",\"Less than $12500\",\"Less than $12500\",\"Less than $12500\",\"Less than $12500\",\"Less than $12500\",\"Less than $12500\",\"$25000 - $37499\",\"$25000 - $37499\",\"$25000 - $37499\",\"$25000 - $37499\",\"$25000 - $37499\",\"$25000 - $37499\",\"$62500 - $74999\",\"$62500 - $74999\",\"$62500 - $74999\",\"$62500 - $74999\",\"$100000 or More\",\"$100000 or More\",\"$100000 or More\",\"$100000 or More\",\"$100000 or More\",\"$100000 or More\",\"$12500 - $24999\",\"$12500 - $24999\",\"$12500 - $24999\",\"$12500 - $24999\",\"$12500 - $24999\",\"$12500 - $24999\",\"$12500 - $24999\",\"$37500 - $49999\",\"$37500 - $49999\",\"$37500 - $49999\",\"$37500 - $49999\",\"$37500 - $49999\",\"$37500 - $49999\",\"Less than $12500\",\"Less than $12500\",\"Less than $12500\",\"Less than $12500\",\"Less than $12500\",\"$37500 - $49999\",\"$37500 - $49999\",\"$37500 - $49999\",\"$37500 - $49999\",\"$37500 - $49999\",\"$37500 - $49999\",\"$75000 - $87499\",\"$75000 - $87499\",\"$75000 - $87499\",\"$75000 - $87499\",\"$75000 - $87499\",\"$75000 - $87499\",\"$75000 - $87499\",\"$100000 or More\",\"$100000 or More\",\"$100000 or More\",\"$100000 or More\",\"$100000 or More\",\"$50000 - $62499\",\"$50000 - $62499\",\"$50000 - $62499\",\"$50000 - $62499\",\"$50000 - $62499\",\"$50000 - $62499\",\"$50000 - $62499\",\"$50000 - $62499\",\"$50000 - $62499\",\"$12500 - $24999\",\"$12500 - $24999\",\"$12500 - $24999\",\"$50000 - $62499\",\"$50000 - $62499\",\"$50000 - $62499\",\"$50000 - $62499\",\"$50000 - $62499\",\"$50000 - $62499\",\"$50000 - $62499\",\"$50000 - $62499\",\"$50000 - $62499\",\"$50000 - $62499\",\"$12500 - $24999\",\"$12500 - $24999\",\"$12500 - $24999\",\"$12500 - $24999\",\"$12500 - $24999\",\"$12500 - $24999\",\"$12500 - $24999\",\"$12500 - $24999\",\"$12500 - $24999\",\"$12500 - $24999\",\"$12500 - $24999\",\"$12500 - $24999\",\"$12500 - $24999\",\"$25000 - $37499\",\"$25000 - $37499\",\"$25000 - $37499\",\"$25000 - $37499\",\"$25000 - $37499\",\"$25000 - $37499\",\"$25000 - $37499\",\"$25000 - $37499\",\"$62500 - $74999\",\"$62500 - $74999\",\"$62500 - $74999\",\"$62500 - $74999\",\"$62500 - $74999\",\"$62500 - $74999\",\"$75000 - $87499\",\"$75000 - $87499\",\"$75000 - $87499\",\"$75000 - $87499\",\"$100000 or More\",\"$100000 or More\",\"$100000 or More\",\"$100000 or More\",\"$50000 - $62499\",\"$50000 - $62499\",\"$12500 - $24999\",\"$12500 - $24999\",\"$12500 - $24999\",\"Less than $12500\",\"Less than $12500\",\"Less than $12500\",\"Less than $12500\",\"Less than $12500\",\"$37500 - $49999\",\"$37500 - $49999\",\"$37500 - $49999\",\"$37500 - $49999\",\"$37500 - $49999\",\"$37500 - $49999\",\"$37500 - $49999\",\"$37500 - $49999\",\"$37500 - $49999\",\"$37500 - $49999\",\"$62500 - $74999\",\"$62500 - $74999\",\"$62500 - $74999\",\"$62500 - $74999\",\"$62500 - $74999\",\"$62500 - $74999\",\"$62500 - $74999\",\"$100000 or More\",\"$100000 or More\",\"$37500 - $49999\",\"$37500 - $49999\",\"$37500 - $49999\",\"$37500 - $49999\",\"$37500 - $49999\",\"$37500 - $49999\",\"$37500 - $49999\",\"$37500 - $49999\",\"$37500 - $49999\",\"$37500 - $49999\",\"$37500 - $49999\",\"$37500 - $49999\",\"$100000 or More\",\"$100000 or More\",\"$100000 or More\",\"$100000 or More\",\"$100000 or More\",\"$37500 - $49999\",\"$37500 - $49999\",\"$37500 - $49999\",\"$37500 - $49999\",\"$37500 - $49999\",\"$37500 - $49999\",\"$25000 - $37499\",\"$25000 - $37499\",\"$25000 - $37499\",\"$25000 - $37499\",\"$87500 - $99999\",\"$87500 - $99999\",\"$87500 - $99999\",\"$87500 - $99999\",\"$87500 - $99999\",\"$87500 - $99999\",\"$87500 - $99999\",\"$87500 - $99999\",\"$25000 - $37499\",\"$25000 - $37499\",\"$25000 - $37499\",\"$25000 - $37499\",\"$50000 - $62499\",\"$50000 - $62499\",\"$50000 - $62499\",\"$50000 - $62499\",\"$50000 - $62499\",\"$50000 - $62499\",\"$62500 - $74999\",\"Less than $12500\",\"Less than $12500\",\"Less than $12500\",\"Less than $12500\",\"Less than $12500\",\"$12500 - $24999\",\"$12500 - $24999\",\"$12500 - $24999\",\"$12500 - $24999\",\"$12500 - $24999\",\"Less than $12500\",\"$50000 - $62499\",\"$50000 - $62499\",\"$50000 - $62499\",\"$50000 - $62499\",\"$50000 - $62499\",\"$12500 - $24999\",\"$12500 - $24999\",\"$12500 - $24999\",\"$12500 - $24999\",\"$12500 - $24999\",\"$50000 - $62499\",\"$50000 - $62499\",\"$50000 - $62499\",\"$37500 - $49999\",\"$37500 - $49999\",\"$37500 - $49999\",\"$50000 - $62499\",\"$50000 - $62499\",\"$50000 - $62499\",\"$50000 - $62499\",\"$50000 - $62499\",\"$50000 - $62499\",\"$50000 - $62499\",\"$100000 or More\",\"$100000 or More\",\"$100000 or More\",\"$50000 - $62499\",\"$50000 - $62499\",\"$62500 - $74999\",\"$37500 - $49999\",\"$37500 - $49999\",\"$37500 - $49999\",\"$37500 - $49999\",\"$37500 - $49999\",\"$37500 - $49999\",\"$100000 or More\",\"$100000 or More\",\"$100000 or More\",\"$100000 or More\",\"$100000 or More\",\"$100000 or More\",\"$100000 or More\",\"$100000 or More\",\"$100000 or More\",\"$37500 - $49999\",\"$37500 - $49999\",\"$37500 - $49999\",\"$37500 - $49999\",\"$37500 - $49999\",\"$37500 - $49999\",\"$37500 - $49999\",\"$37500 - $49999\",\"$37500 - $49999\",\"$37500 - $49999\",\"$37500 - $49999\",\"$50000 - $62499\",\"$50000 - $62499\",\"$50000 - $62499\",\"$50000 - $62499\",\"$50000 - $62499\",\"$50000 - $62499\",\"$37500 - $49999\",\"$37500 - $49999\",\"$37500 - $49999\",\"$37500 - $49999\",\"$37500 - $49999\",\"$37500 - $49999\",\"$37500 - $49999\",\"$75000 - $87499\",\"$75000 - $87499\",\"$75000 - $87499\",\"$75000 - $87499\",\"$50000 - $62499\",\"$50000 - $62499\",\"$50000 - $62499\",\"$50000 - $62499\",\"$50000 - $62499\",\"$50000 - $62499\",\"$12500 - $24999\",\"$12500 - $24999\",\"$12500 - $24999\",\"$12500 - $24999\",\"$12500 - $24999\",\"$25000 - $37499\",\"$25000 - $37499\",\"$50000 - $62499\",\"$50000 - $62499\",\"$50000 - $62499\",\"$62500 - $74999\",\"$62500 - $74999\",\"$62500 - $74999\",\"$100000 or More\",\"$100000 or More\",\"$100000 or More\",\"$12500 - $24999\",\"$12500 - $24999\",\"$12500 - $24999\",\"$12500 - $24999\",\"Less than $12500\",\"Less than $12500\",\"Less than $12500\",\"$87500 - $99999\",\"$87500 - $99999\",\"$87500 - $99999\",\"$87500 - $99999\",\"$87500 - $99999\",\"$37500 - $49999\",\"$37500 - $49999\",\"$37500 - $49999\",\"$37500 - $49999\",\"$100000 or More\",\"$100000 or More\",\"$100000 or More\",\"$100000 or More\",\"$75000 - $87499\",\"$75000 - $87499\",\"$75000 - $87499\",\"$75000 - $87499\",\"$12500 - $24999\",\"$12500 - $24999\",\"$12500 - $24999\",\"$12500 - $24999\",\"$25000 - $37499\",\"$25000 - $37499\",\"$25000 - $37499\",\"$25000 - $37499\",\"$25000 - $37499\",\"$25000 - $37499\",\"$25000 - $37499\",\"$50000 - $62499\",\"$50000 - $62499\",\"$50000 - $62499\",\"$87500 - $99999\",\"$87500 - $99999\",\"$87500 - $99999\",\"$87500 - $99999\",\"$37500 - $49999\",\"$37500 - $49999\",\"$37500 - $49999\",\"$37500 - $49999\",\"$87500 - $99999\",\"$12500 - $24999\",\"$12500 - $24999\",\"$12500 - $24999\",\"$75000 - $87499\",\"$75000 - $87499\",\"$50000 - $62499\",\"$50000 - $62499\",\"$50000 - $62499\",\"$50000 - $62499\",\"$25000 - $37499\",\"$25000 - $37499\",\"$12500 - $24999\",\"$12500 - $24999\",\"$12500 - $24999\",\"$12500 - $24999\",\"$100000 or More\",\"$100000 or More\",\"$100000 or More\",\"$100000 or More\",\"$100000 or More\",\"$75000 - $87499\",\"$75000 - $87499\",\"$75000 - $87499\",\"$75000 - $87499\",\"$75000 - $87499\",\"$75000 - $87499\",\"$87500 - $99999\",\"$87500 - $99999\",\"$100000 or More\",\"$100000 or More\",\"$100000 or More\",\"$100000 or More\",\"$100000 or More\",\"$100000 or More\",\"$100000 or More\",\"$50000 - $62499\",\"$50000 - $62499\",\"$50000 - $62499\",\"$50000 - $62499\",\"$50000 - $62499\",\"$37500 - $49999\",\"$37500 - $49999\",\"$37500 - $49999\",\"$12500 - $24999\",\"$12500 - $24999\",\"$12500 - $24999\",\"$12500 - $24999\",\"Less than $12500\",\"Less than $12500\",\"Less than $12500\",\"$87500 - $99999\",\"$87500 - $99999\",\"$87500 - $99999\",\"$87500 - $99999\",\"$87500 - $99999\",\"$87500 - $99999\",\"$37500 - $49999\",\"$37500 - $49999\",\"$37500 - $49999\",\"$37500 - $49999\",\"$37500 - $49999\",\"$87500 - $99999\",\"$87500 - $99999\",\"$87500 - $99999\",\"$87500 - $99999\",\"$12500 - $24999\",\"$12500 - $24999\",\"$12500 - $24999\",\"$12500 - $24999\",\"$62500 - $74999\",\"$62500 - $74999\",\"$62500 - $74999\",\"$62500 - $74999\",\"$100000 or More\",\"$100000 or More\",\"$100000 or More\",\"$100000 or More\",\"$100000 or More\",\"$100000 or More\",\"Less than $12500\",\"Less than $12500\",\"Less than $12500\",\"Less than $12500\",\"Less than $12500\",\"Less than $12500\",\"$25000 - $37499\",\"$25000 - $37499\",\"$25000 - $37499\",\"$25000 - $37499\",\"$25000 - $37499\",\"$87500 - $99999\",\"$87500 - $99999\",\"$87500 - $99999\",\"$87500 - $99999\",\"$25000 - $37499\",\"$25000 - $37499\",\"$37500 - $49999\",\"$37500 - $49999\",\"$37500 - $49999\",\"$37500 - $49999\",\"$100000 or More\",\"$100000 or More\",\"$100000 or More\",\"$100000 or More\",\"$37500 - $49999\",\"$37500 - $49999\",\"$37500 - $49999\",\"$37500 - $49999\",\"$50000 - $62499\",\"$50000 - $62499\",\"$50000 - $62499\",\"$87500 - $99999\",\"$87500 - $99999\",\"$87500 - $99999\",\"$87500 - $99999\",\"$87500 - $99999\",\"$12500 - $24999\",\"$12500 - $24999\",\"$12500 - $24999\",\"$12500 - $24999\",\"$12500 - $24999\",\"$100000 or More\",\"$100000 or More\",\"$100000 or More\",\"$100000 or More\",\"$100000 or More\",\"$37500 - $49999\",\"$37500 - $49999\",\"$37500 - $49999\",\"$37500 - $49999\",\"$37500 - $49999\",\"$37500 - $49999\",\"$62500 - $74999\",\"Less than $12500\",\"Less than $12500\",\"Less than $12500\",\"$62500 - $74999\",\"$62500 - $74999\",\"$62500 - $74999\",\"$62500 - $74999\",\"$25000 - $37499\",\"$25000 - $37499\",\"$25000 - $37499\",\"$37500 - $49999\",\"$37500 - $49999\",\"$37500 - $49999\",\"$37500 - $49999\",\"$87500 - $99999\",\"$87500 - $99999\",\"$100000 or More\",\"$100000 or More\",\"$100000 or More\",\"$100000 or More\",\"$12500 - $24999\",\"$12500 - $24999\",\"$12500 - $24999\",\"$12500 - $24999\",\"$25000 - $37499\",\"$25000 - $37499\",\"$25000 - $37499\",\"$25000 - $37499\",\"$50000 - $62499\",\"$50000 - $62499\",\"$25000 - $37499\",\"$12500 - $24999\",\"$12500 - $24999\",\"$12500 - $24999\",\"$12500 - $24999\",\"$12500 - $24999\",\"$50000 - $62499\",\"$50000 - $62499\",\"$50000 - $62499\",\"$50000 - $62499\",\"$50000 - $62499\",\"$50000 - $62499\",\"$50000 - $62499\",\"$50000 - $62499\",\"$12500 - $24999\",\"$12500 - $24999\",\"$12500 - $24999\",\"$12500 - $24999\",\"$12500 - $24999\",\"$12500 - $24999\",\"$12500 - $24999\",\"$12500 - $24999\",\"$100000 or More\",\"$100000 or More\",\"$100000 or More\",\"Less than $12500\",\"$75000 - $87499\",\"$75000 - $87499\",\"$87500 - $99999\",\"$87500 - $99999\",\"$87500 - $99999\",\"$87500 - $99999\",\"$87500 - $99999\",\"$87500 - $99999\",\"$75000 - $87499\",\"$75000 - $87499\",\"$75000 - $87499\",\"$75000 - $87499\",\"$75000 - $87499\",\"$100000 or More\",\"$100000 or More\",\"$100000 or More\",\"$100000 or More\",\"$100000 or More\",\"$100000 or More\",\"$100000 or More\",\"Less than $12500\",\"Less than $12500\",\"Less than $12500\",\"Less than $12500\",\"Less than $12500\",\"$25000 - $37499\",\"$25000 - $37499\",\"$25000 - $37499\",\"$25000 - $37499\",\"$25000 - $37499\",\"$100000 or More\",\"$100000 or More\",\"$100000 or More\",\"$100000 or More\",\"$50000 - $62499\",\"$50000 - $62499\",\"$50000 - $62499\",\"$50000 - $62499\",\"$50000 - $62499\",\"$50000 - $62499\",\"$25000 - $37499\",\"$25000 - $37499\",\"$25000 - $37499\",\"$25000 - $37499\",\"$37500 - $49999\",\"$37500 - $49999\",\"$37500 - $49999\",\"$37500 - $49999\",\"Less than $12500\",\"Less than $12500\",\"Less than $12500\",\"Less than $12500\",\"$25000 - $37499\",\"$25000 - $37499\",\"$25000 - $37499\",\"$25000 - $37499\",\"$25000 - $37499\",\"$25000 - $37499\",\"$25000 - $37499\",\"Less than $12500\",\"Less than $12500\",\"$87500 - $99999\",\"$87500 - $99999\",\"$87500 - $99999\",\"$87500 - $99999\",\"$12500 - $24999\",\"$12500 - $24999\",\"$12500 - $24999\",\"$12500 - $24999\",\"$37500 - $49999\",\"$37500 - $49999\",\"$37500 - $49999\",\"$37500 - $49999\",\"$37500 - $49999\",\"$12500 - $24999\",\"$12500 - $24999\",\"$12500 - $24999\",\"$25000 - $37499\",\"Less than $12500\",\"Less than $12500\",\"$75000 - $87499\",\"$75000 - $87499\",\"$25000 - $37499\",\"$25000 - $37499\",\"$25000 - $37499\",\"$100000 or More\",\"$100000 or More\",\"$100000 or More\",\"$50000 - $62499\",\"$50000 - $62499\",\"$50000 - $62499\",\"$50000 - $62499\",\"$25000 - $37499\",\"$25000 - $37499\",\"$25000 - $37499\",\"$37500 - $49999\",\"$37500 - $49999\",\"$62500 - $74999\",\"$62500 - $74999\",\"Less than $12500\",\"Less than $12500\",\"Less than $12500\",\"$37500 - $49999\",\"$37500 - $49999\",\"$37500 - $49999\",\"$100000 or More\",\"$100000 or More\",\"$12500 - $24999\",\"Less than $12500\",\"Less than $12500\",\"Less than $12500\",\"$37500 - $49999\",\"$37500 - $49999\",\"$37500 - $49999\",\"Less than $12500\",\"Less than $12500\",\"Less than $12500\",\"$100000 or More\",\"$37500 - $49999\",\"$12500 - $24999\",\"$87500 - $99999\",\"$50000 - $62499\",\"$50000 - $62499\",\"$50000 - $62499\",\"$25000 - $37499\",\"$62500 - $74999\",\"$12500 - $24999\",\"$12500 - $24999\",\"$12500 - $24999\",\"Less than $12500\",\"$50000 - $62499\",\"$50000 - $62499\",\"$50000 - $62499\",\"$50000 - $62499\",\"$75000 - $87499\",\"$87500 - $99999\",\"$12500 - $24999\",\"$12500 - $24999\",\"Less than $12500\",\"Less than $12500\",\"$50000 - $62499\",\"$25000 - $37499\",\"$25000 - $37499\",\"$25000 - $37499\",\"$25000 - $37499\",\"Less than $12500\",\"Less than $12500\",\"$75000 - $87499\",\"$75000 - $87499\",\"$75000 - $87499\",\"$37500 - $49999\",\"$87500 - $99999\",\"$62500 - $74999\",\"$100000 or More\",\"$100000 or More\",\"$100000 or More\",\"$12500 - $24999\",\"$12500 - $24999\",\"$25000 - $37499\",\"$100000 or More\",\"$100000 or More\",\"$25000 - $37499\",\"$37500 - $49999\",\"Less than $12500\",\"Less than $12500\",\"$25000 - $37499\",\"$25000 - $37499\",\"$25000 - $37499\",\"$37500 - $49999\",\"$50000 - $62499\",\"$12500 - $24999\",\"$100000 or More\",\"$100000 or More\",\"$100000 or More\",\"Less than $12500\",\"$37500 - $49999\",\"$25000 - $37499\",\"$12500 - $24999\",\"$100000 or More\",\"$37500 - $49999\",\"$12500 - $24999\",\"$12500 - $24999\",\"$50000 - $62499\",\"$12500 - $24999\",\"$12500 - $24999\",\"$12500 - $24999\",\"$37500 - $49999\",\"$37500 - $49999\"],\"xaxis\":\"x\",\"yaxis\":\"y\",\"type\":\"histogram\"}],                        {\"template\":{\"data\":{\"histogram2dcontour\":[{\"type\":\"histogram2dcontour\",\"colorbar\":{\"outlinewidth\":0,\"ticks\":\"\"},\"colorscale\":[[0.0,\"#0d0887\"],[0.1111111111111111,\"#46039f\"],[0.2222222222222222,\"#7201a8\"],[0.3333333333333333,\"#9c179e\"],[0.4444444444444444,\"#bd3786\"],[0.5555555555555556,\"#d8576b\"],[0.6666666666666666,\"#ed7953\"],[0.7777777777777778,\"#fb9f3a\"],[0.8888888888888888,\"#fdca26\"],[1.0,\"#f0f921\"]]}],\"choropleth\":[{\"type\":\"choropleth\",\"colorbar\":{\"outlinewidth\":0,\"ticks\":\"\"}}],\"histogram2d\":[{\"type\":\"histogram2d\",\"colorbar\":{\"outlinewidth\":0,\"ticks\":\"\"},\"colorscale\":[[0.0,\"#0d0887\"],[0.1111111111111111,\"#46039f\"],[0.2222222222222222,\"#7201a8\"],[0.3333333333333333,\"#9c179e\"],[0.4444444444444444,\"#bd3786\"],[0.5555555555555556,\"#d8576b\"],[0.6666666666666666,\"#ed7953\"],[0.7777777777777778,\"#fb9f3a\"],[0.8888888888888888,\"#fdca26\"],[1.0,\"#f0f921\"]]}],\"heatmap\":[{\"type\":\"heatmap\",\"colorbar\":{\"outlinewidth\":0,\"ticks\":\"\"},\"colorscale\":[[0.0,\"#0d0887\"],[0.1111111111111111,\"#46039f\"],[0.2222222222222222,\"#7201a8\"],[0.3333333333333333,\"#9c179e\"],[0.4444444444444444,\"#bd3786\"],[0.5555555555555556,\"#d8576b\"],[0.6666666666666666,\"#ed7953\"],[0.7777777777777778,\"#fb9f3a\"],[0.8888888888888888,\"#fdca26\"],[1.0,\"#f0f921\"]]}],\"heatmapgl\":[{\"type\":\"heatmapgl\",\"colorbar\":{\"outlinewidth\":0,\"ticks\":\"\"},\"colorscale\":[[0.0,\"#0d0887\"],[0.1111111111111111,\"#46039f\"],[0.2222222222222222,\"#7201a8\"],[0.3333333333333333,\"#9c179e\"],[0.4444444444444444,\"#bd3786\"],[0.5555555555555556,\"#d8576b\"],[0.6666666666666666,\"#ed7953\"],[0.7777777777777778,\"#fb9f3a\"],[0.8888888888888888,\"#fdca26\"],[1.0,\"#f0f921\"]]}],\"contourcarpet\":[{\"type\":\"contourcarpet\",\"colorbar\":{\"outlinewidth\":0,\"ticks\":\"\"}}],\"contour\":[{\"type\":\"contour\",\"colorbar\":{\"outlinewidth\":0,\"ticks\":\"\"},\"colorscale\":[[0.0,\"#0d0887\"],[0.1111111111111111,\"#46039f\"],[0.2222222222222222,\"#7201a8\"],[0.3333333333333333,\"#9c179e\"],[0.4444444444444444,\"#bd3786\"],[0.5555555555555556,\"#d8576b\"],[0.6666666666666666,\"#ed7953\"],[0.7777777777777778,\"#fb9f3a\"],[0.8888888888888888,\"#fdca26\"],[1.0,\"#f0f921\"]]}],\"surface\":[{\"type\":\"surface\",\"colorbar\":{\"outlinewidth\":0,\"ticks\":\"\"},\"colorscale\":[[0.0,\"#0d0887\"],[0.1111111111111111,\"#46039f\"],[0.2222222222222222,\"#7201a8\"],[0.3333333333333333,\"#9c179e\"],[0.4444444444444444,\"#bd3786\"],[0.5555555555555556,\"#d8576b\"],[0.6666666666666666,\"#ed7953\"],[0.7777777777777778,\"#fb9f3a\"],[0.8888888888888888,\"#fdca26\"],[1.0,\"#f0f921\"]]}],\"mesh3d\":[{\"type\":\"mesh3d\",\"colorbar\":{\"outlinewidth\":0,\"ticks\":\"\"}}],\"scatter\":[{\"fillpattern\":{\"fillmode\":\"overlay\",\"size\":10,\"solidity\":0.2},\"type\":\"scatter\"}],\"parcoords\":[{\"type\":\"parcoords\",\"line\":{\"colorbar\":{\"outlinewidth\":0,\"ticks\":\"\"}}}],\"scatterpolargl\":[{\"type\":\"scatterpolargl\",\"marker\":{\"colorbar\":{\"outlinewidth\":0,\"ticks\":\"\"}}}],\"bar\":[{\"error_x\":{\"color\":\"#2a3f5f\"},\"error_y\":{\"color\":\"#2a3f5f\"},\"marker\":{\"line\":{\"color\":\"#E5ECF6\",\"width\":0.5},\"pattern\":{\"fillmode\":\"overlay\",\"size\":10,\"solidity\":0.2}},\"type\":\"bar\"}],\"scattergeo\":[{\"type\":\"scattergeo\",\"marker\":{\"colorbar\":{\"outlinewidth\":0,\"ticks\":\"\"}}}],\"scatterpolar\":[{\"type\":\"scatterpolar\",\"marker\":{\"colorbar\":{\"outlinewidth\":0,\"ticks\":\"\"}}}],\"histogram\":[{\"marker\":{\"pattern\":{\"fillmode\":\"overlay\",\"size\":10,\"solidity\":0.2}},\"type\":\"histogram\"}],\"scattergl\":[{\"type\":\"scattergl\",\"marker\":{\"colorbar\":{\"outlinewidth\":0,\"ticks\":\"\"}}}],\"scatter3d\":[{\"type\":\"scatter3d\",\"line\":{\"colorbar\":{\"outlinewidth\":0,\"ticks\":\"\"}},\"marker\":{\"colorbar\":{\"outlinewidth\":0,\"ticks\":\"\"}}}],\"scattermapbox\":[{\"type\":\"scattermapbox\",\"marker\":{\"colorbar\":{\"outlinewidth\":0,\"ticks\":\"\"}}}],\"scatterternary\":[{\"type\":\"scatterternary\",\"marker\":{\"colorbar\":{\"outlinewidth\":0,\"ticks\":\"\"}}}],\"scattercarpet\":[{\"type\":\"scattercarpet\",\"marker\":{\"colorbar\":{\"outlinewidth\":0,\"ticks\":\"\"}}}],\"carpet\":[{\"aaxis\":{\"endlinecolor\":\"#2a3f5f\",\"gridcolor\":\"white\",\"linecolor\":\"white\",\"minorgridcolor\":\"white\",\"startlinecolor\":\"#2a3f5f\"},\"baxis\":{\"endlinecolor\":\"#2a3f5f\",\"gridcolor\":\"white\",\"linecolor\":\"white\",\"minorgridcolor\":\"white\",\"startlinecolor\":\"#2a3f5f\"},\"type\":\"carpet\"}],\"table\":[{\"cells\":{\"fill\":{\"color\":\"#EBF0F8\"},\"line\":{\"color\":\"white\"}},\"header\":{\"fill\":{\"color\":\"#C8D4E3\"},\"line\":{\"color\":\"white\"}},\"type\":\"table\"}],\"barpolar\":[{\"marker\":{\"line\":{\"color\":\"#E5ECF6\",\"width\":0.5},\"pattern\":{\"fillmode\":\"overlay\",\"size\":10,\"solidity\":0.2}},\"type\":\"barpolar\"}],\"pie\":[{\"automargin\":true,\"type\":\"pie\"}]},\"layout\":{\"autotypenumbers\":\"strict\",\"colorway\":[\"#636efa\",\"#EF553B\",\"#00cc96\",\"#ab63fa\",\"#FFA15A\",\"#19d3f3\",\"#FF6692\",\"#B6E880\",\"#FF97FF\",\"#FECB52\"],\"font\":{\"color\":\"#2a3f5f\"},\"hovermode\":\"closest\",\"hoverlabel\":{\"align\":\"left\"},\"paper_bgcolor\":\"white\",\"plot_bgcolor\":\"#E5ECF6\",\"polar\":{\"bgcolor\":\"#E5ECF6\",\"angularaxis\":{\"gridcolor\":\"white\",\"linecolor\":\"white\",\"ticks\":\"\"},\"radialaxis\":{\"gridcolor\":\"white\",\"linecolor\":\"white\",\"ticks\":\"\"}},\"ternary\":{\"bgcolor\":\"#E5ECF6\",\"aaxis\":{\"gridcolor\":\"white\",\"linecolor\":\"white\",\"ticks\":\"\"},\"baxis\":{\"gridcolor\":\"white\",\"linecolor\":\"white\",\"ticks\":\"\"},\"caxis\":{\"gridcolor\":\"white\",\"linecolor\":\"white\",\"ticks\":\"\"}},\"coloraxis\":{\"colorbar\":{\"outlinewidth\":0,\"ticks\":\"\"}},\"colorscale\":{\"sequential\":[[0.0,\"#0d0887\"],[0.1111111111111111,\"#46039f\"],[0.2222222222222222,\"#7201a8\"],[0.3333333333333333,\"#9c179e\"],[0.4444444444444444,\"#bd3786\"],[0.5555555555555556,\"#d8576b\"],[0.6666666666666666,\"#ed7953\"],[0.7777777777777778,\"#fb9f3a\"],[0.8888888888888888,\"#fdca26\"],[1.0,\"#f0f921\"]],\"sequentialminus\":[[0.0,\"#0d0887\"],[0.1111111111111111,\"#46039f\"],[0.2222222222222222,\"#7201a8\"],[0.3333333333333333,\"#9c179e\"],[0.4444444444444444,\"#bd3786\"],[0.5555555555555556,\"#d8576b\"],[0.6666666666666666,\"#ed7953\"],[0.7777777777777778,\"#fb9f3a\"],[0.8888888888888888,\"#fdca26\"],[1.0,\"#f0f921\"]],\"diverging\":[[0,\"#8e0152\"],[0.1,\"#c51b7d\"],[0.2,\"#de77ae\"],[0.3,\"#f1b6da\"],[0.4,\"#fde0ef\"],[0.5,\"#f7f7f7\"],[0.6,\"#e6f5d0\"],[0.7,\"#b8e186\"],[0.8,\"#7fbc41\"],[0.9,\"#4d9221\"],[1,\"#276419\"]]},\"xaxis\":{\"gridcolor\":\"white\",\"linecolor\":\"white\",\"ticks\":\"\",\"title\":{\"standoff\":15},\"zerolinecolor\":\"white\",\"automargin\":true,\"zerolinewidth\":2},\"yaxis\":{\"gridcolor\":\"white\",\"linecolor\":\"white\",\"ticks\":\"\",\"title\":{\"standoff\":15},\"zerolinecolor\":\"white\",\"automargin\":true,\"zerolinewidth\":2},\"scene\":{\"xaxis\":{\"backgroundcolor\":\"#E5ECF6\",\"gridcolor\":\"white\",\"linecolor\":\"white\",\"showbackground\":true,\"ticks\":\"\",\"zerolinecolor\":\"white\",\"gridwidth\":2},\"yaxis\":{\"backgroundcolor\":\"#E5ECF6\",\"gridcolor\":\"white\",\"linecolor\":\"white\",\"showbackground\":true,\"ticks\":\"\",\"zerolinecolor\":\"white\",\"gridwidth\":2},\"zaxis\":{\"backgroundcolor\":\"#E5ECF6\",\"gridcolor\":\"white\",\"linecolor\":\"white\",\"showbackground\":true,\"ticks\":\"\",\"zerolinecolor\":\"white\",\"gridwidth\":2}},\"shapedefaults\":{\"line\":{\"color\":\"#2a3f5f\"}},\"annotationdefaults\":{\"arrowcolor\":\"#2a3f5f\",\"arrowhead\":0,\"arrowwidth\":1},\"geo\":{\"bgcolor\":\"white\",\"landcolor\":\"#E5ECF6\",\"subunitcolor\":\"white\",\"showland\":true,\"showlakes\":true,\"lakecolor\":\"white\"},\"title\":{\"x\":0.05},\"mapbox\":{\"style\":\"light\"}}},\"xaxis\":{\"anchor\":\"y\",\"domain\":[0.0,1.0],\"title\":{\"text\":\"income\"}},\"yaxis\":{\"anchor\":\"x\",\"domain\":[0.0,1.0],\"title\":{\"text\":\"Count\"}},\"legend\":{\"title\":{\"text\":\"variable\"},\"tracegroupgap\":0},\"margin\":{\"t\":60},\"barmode\":\"relative\",\"title\":{\"text\":\" CoffeeHouse coupon accetpance distribution by income \",\"x\":0.5},\"showlegend\":false},                        {\"responsive\": true}                    ).then(function(){\n",
              "                            \n",
              "var gd = document.getElementById('f34e7f7b-9467-4bf0-a79b-9f61f1a1867b');\n",
              "var x = new MutationObserver(function (mutations, observer) {{\n",
              "        var display = window.getComputedStyle(gd).display;\n",
              "        if (!display || display === 'none') {{\n",
              "            console.log([gd, 'removed!']);\n",
              "            Plotly.purge(gd);\n",
              "            observer.disconnect();\n",
              "        }}\n",
              "}});\n",
              "\n",
              "// Listen for the removal of the full notebook cells\n",
              "var notebookContainer = gd.closest('#notebook-container');\n",
              "if (notebookContainer) {{\n",
              "    x.observe(notebookContainer, {childList: true});\n",
              "}}\n",
              "\n",
              "// Listen for the clearing of the current output cell\n",
              "var outputEl = gd.closest('.output');\n",
              "if (outputEl) {{\n",
              "    x.observe(outputEl, {childList: true});\n",
              "}}\n",
              "\n",
              "                        })                };                            </script>        </div>\n",
              "</body>\n",
              "</html>"
            ]
          },
          "metadata": {}
        },
        {
          "output_type": "display_data",
          "data": {
            "text/plain": [
              "<Figure size 640x480 with 0 Axes>"
            ]
          },
          "metadata": {}
        }
      ],
      "source": [
        "#investigate bar coupon acceptance by income\n",
        "\n",
        "import pandas as pd\n",
        "import numpy as np\n",
        "import matplotlib.pyplot as plt\n",
        "import seaborn as sns\n",
        "import plotly.express as px\n",
        "df = pd.read_csv('/content/sample_data/coupons.csv')\n",
        "\n",
        "#remove duplictes\n",
        "\n",
        "all_duplicates = df[df.duplicated(keep=False)]\n",
        "df = df.drop_duplicates()\n",
        "\n",
        "#remove all the null\n",
        "df_nonull = df[df[\"Bar\"].notnull() & df[\"CoffeeHouse\"].notnull() &\n",
        "                  df[\"CarryAway\"].notnull() & df[\"RestaurantLessThan20\"].notnull() &\n",
        "                 df[\"Restaurant20To50\"].notnull()]\n",
        "\n",
        "df_CH = df_nonull[df_nonull[\"coupon\"] == \"Coffee House\"]\n",
        "\n",
        "\n",
        "df_CH_acceted = df_CH[df_CH[\"Y\"] == 1]\n",
        "\n",
        "\n",
        "CH_acceptance_perincome = px.histogram(df_CH_acceted[\"income\"], nbins = 10).update_layout(xaxis_title = \"income\", yaxis_title = \"Count\",\n",
        "                                                                                  title = \" CoffeeHouse coupon accetpance distribution by income \",\n",
        "                                                                                  title_x = 0.5, showlegend = False)\n",
        "\n",
        "\n",
        "plt.savefig('/content/sample_data/CH_acceptance_perincome_perincome_graph.png')\n",
        "CH_acceptance_perincome\n"
      ]
    },
    {
      "cell_type": "code",
      "execution_count": 21,
      "metadata": {
        "id": "RrqUWn7d_qRL",
        "colab": {
          "base_uri": "https://localhost:8080/"
        },
        "outputId": "7165642c-f80f-41f5-f8cf-a80d83cdd91a"
      },
      "outputs": [
        {
          "output_type": "execute_result",
          "data": {
            "text/plain": [
              "65.33637400228051"
            ]
          },
          "metadata": {},
          "execution_count": 21
        }
      ],
      "source": [
        "#Compare the acceptance rate between drivers who go to a coffee house more than once a month and are below21 to the all others. Is there a difference?\n",
        "\n",
        "import pandas as pd\n",
        "import numpy as np\n",
        "import matplotlib.pyplot as plt\n",
        "import seaborn as sns\n",
        "import plotly.express as px\n",
        "df = pd.read_csv('/content/sample_data/coupons.csv')\n",
        "\n",
        "#remove duplictes\n",
        "\n",
        "all_duplicates = df[df.duplicated(keep=False)]\n",
        "df = df.drop_duplicates()\n",
        "\n",
        "#remove all the null\n",
        "\n",
        "\n",
        "df_nonull = df[df[\"Bar\"].notnull() & df[\"CoffeeHouse\"].notnull() &\n",
        "                  df[\"CarryAway\"].notnull() & df[\"RestaurantLessThan20\"].notnull() &\n",
        "                 df[\"Restaurant20To50\"].notnull()]\n",
        "\n",
        "df_CH = df_nonull[df_nonull[\"coupon\"] == \"Coffee House\"]\n",
        "\n",
        "\n",
        "# create a datset for the coffee shop going more than one & age == below21\n",
        "\n",
        "morethan1_acceptance_below21 = df_CH[((df_CH[\"CoffeeHouse\"] == \"1~3\") | (df_CH[\"CoffeeHouse\"] == \"4~8\") | (df_CH[\"CoffeeHouse\"] == \"gt8\") ) &  (df_CH[\"age\"] != \"below21\") ]\n",
        "\n",
        "morethan1_acceptance_below21.value_counts()\n",
        "\n",
        "(morethan1_acceptance_below21[morethan1_acceptance_below21[\"Y\"] == 1].shape[0] / morethan1_acceptance_below21.shape[0]) * 100\n"
      ]
    },
    {
      "cell_type": "code",
      "execution_count": 24,
      "metadata": {
        "id": "_oykf8YP_qRL",
        "colab": {
          "base_uri": "https://localhost:8080/"
        },
        "outputId": "3fb01bd0-37e3-44fa-b965-324ea9ed8098"
      },
      "outputs": [
        {
          "output_type": "execute_result",
          "data": {
            "text/plain": [
              "33.73430962343097"
            ]
          },
          "metadata": {},
          "execution_count": 24
        }
      ],
      "source": [
        "#objective of this code is determine acceptance rate of \"all other\"  than \"more than once a month and are not below21 \" which technically is ['never' 'less1' nan ] nan are the blanks which were remove.\n",
        "import pandas as pd\n",
        "import numpy as np\n",
        "import matplotlib.pyplot as plt\n",
        "import seaborn as sns\n",
        "import plotly.express as px\n",
        "df = pd.read_csv('/content/sample_data/coupons.csv')\n",
        "\n",
        "#remove duplictes\n",
        "\n",
        "all_duplicates = df[df.duplicated(keep=False)]\n",
        "df = df.drop_duplicates()\n",
        "\n",
        "#remove all the null\n",
        "df_nonull = df[df[\"Bar\"].notnull() & df[\"CoffeeHouse\"].notnull() &\n",
        "                  df[\"CarryAway\"].notnull() & df[\"RestaurantLessThan20\"].notnull() &\n",
        "                 df[\"Restaurant20To50\"].notnull()]\n",
        "\n",
        "df_CH = df_nonull[df_nonull[\"coupon\"] == \"Coffee House\"]\n",
        "\n",
        "# create a datset for the bar going more than one & age > 25. Since this is a bar the below 21 group is not allowed and hence not considered.\n",
        "\n",
        "\n",
        "allother_CH = df_CH[((df_CH[\"CoffeeHouse\"] == \"never\") | (df_CH[\"CoffeeHouse\"] == \"less1\")  )]\n",
        "\n",
        "allother_CH_no21below = allother_CH[(allother_CH[\"age\"] != \"below21\") ]\n",
        "\n",
        "(allother_CH_no21below[allother_CH_no21below[\"Y\"] == 1].shape[0] / allother_CH_no21below.shape[0]) * 100"
      ]
    }
  ],
  "metadata": {
    "kernelspec": {
      "display_name": "Python 3 (ipykernel)",
      "language": "python",
      "name": "python3"
    },
    "language_info": {
      "codemirror_mode": {
        "name": "ipython",
        "version": 3
      },
      "file_extension": ".py",
      "mimetype": "text/x-python",
      "name": "python",
      "nbconvert_exporter": "python",
      "pygments_lexer": "ipython3",
      "version": "3.12.1"
    },
    "colab": {
      "provenance": [],
      "include_colab_link": true
    }
  },
  "nbformat": 4,
  "nbformat_minor": 0
}